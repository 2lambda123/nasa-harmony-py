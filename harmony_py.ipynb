{
 "metadata": {
  "language_info": {
   "codemirror_mode": {
    "name": "ipython",
    "version": 3
   },
   "file_extension": ".py",
   "mimetype": "text/x-python",
   "name": "python",
   "nbconvert_exporter": "python",
   "pygments_lexer": "ipython3",
   "version": "3.8.5-final"
  },
  "orig_nbformat": 2,
  "kernelspec": {
   "name": "python3",
   "display_name": "Python 3",
   "language": "python"
  }
 },
 "nbformat": 4,
 "nbformat_minor": 2,
 "cells": [
  {
   "source": [
    "# Usage Overview\n",
    "The following is an example mocked outline for `harmony-py`. \n"
   ],
   "cell_type": "markdown",
   "metadata": {}
  },
  {
   "cell_type": "code",
   "execution_count": 1,
   "metadata": {},
   "outputs": [],
   "source": [
    "from harmony_py_mock import HarmonyRequest\n"
   ]
  },
  {
   "cell_type": "code",
   "execution_count": 2,
   "metadata": {},
   "outputs": [],
   "source": [
    "request = HarmonyRequest()\n"
   ]
  },
  {
   "cell_type": "code",
   "execution_count": 7,
   "metadata": {},
   "outputs": [],
   "source": [
    "# Multiple authentication options outlined below.\n",
    "request.authenticate()\n"
   ]
  },
  {
   "cell_type": "code",
   "execution_count": 8,
   "metadata": {},
   "outputs": [],
   "source": [
    "collection_id = 'C1940468263-POCLOUD'\n",
    "\n",
    "request.params = {\n",
    "    'collection_id': collection_id,\n",
    "    'ogc-api-coverages_version': '1.0.0',\n",
    "    'variable': 'all',\n",
    "    'lat':'(40:41)',\n",
    "    'lon':'(-107:-105)',\n",
    "    'start': '2020-06-01T00:00:00Z',\n",
    "    'stop':'2020-06-30T23:59:59Z',\n",
    "    'format': 'application/x-zarr',\n",
    "}"
   ]
  },
  {
   "cell_type": "code",
   "execution_count": 9,
   "metadata": {},
   "outputs": [
    {
     "output_type": "stream",
     "name": "stdout",
     "text": [
      "Processing request:\n",
      "100% (100 of 100) |######################| Elapsed Time: 0:00:08 Time:  0:00:08\n",
      "Request processing complete.\n"
     ]
    }
   ],
   "source": [
    "# Note: By default the user does not specify sync or async. Optional: specify request type.\n",
    "request.submit()\n"
   ]
  },
  {
   "cell_type": "code",
   "execution_count": null,
   "metadata": {},
   "outputs": [],
   "source": [
    "output = request.output\n",
    "\n"
   ]
  },
  {
   "source": [
    "# Further Examples"
   ],
   "cell_type": "markdown",
   "metadata": {}
  },
  {
   "source": [
    "## Authentication"
   ],
   "cell_type": "markdown",
   "metadata": {}
  },
  {
   "source": [
    "from harmony_py_mock import HarmonyRequest\n",
    "\n",
    "req = HarmonyRequest()\n",
    "\n",
    "# Authentication options:\n",
    "#   .) Username and Password, interactive input\n",
    "#   .) .netrc\n",
    "#   .) ENV vars\n",
    "#   .) .env file\n",
    "\n",
    "# Prompts user for password and stores 'username' and 'password' in req object\n",
    "req.authenticate(username='myusername')\n",
    "\n",
    "# Search for credentials in the following order:\n",
    "# 1) ENV vars\n",
    "# 2) .env file\n",
    "# 3) .netrc\n",
    "req.authenticate()\n",
    "\n",
    "# Specify one of the above methods; error if credentials are not prsent with specified method. Most people will never need to\n",
    "req.authenticate(method='ENV')\n",
    "req.authenticate(method='env')\n",
    "req.authenticate(method='netrc')\n"
   ],
   "cell_type": "code",
   "metadata": {},
   "execution_count": null,
   "outputs": []
  },
  {
   "source": [
    "## Determine Service Availability and Variables"
   ],
   "cell_type": "markdown",
   "metadata": {}
  },
  {
   "source": [
    "## Retrieve Results in Cloud: In / Out of Region; Internet Retrieval"
   ],
   "cell_type": "markdown",
   "metadata": {}
  },
  {
   "source": [
    "## Error Notification and Handling"
   ],
   "cell_type": "markdown",
   "metadata": {}
  }
 ]
}
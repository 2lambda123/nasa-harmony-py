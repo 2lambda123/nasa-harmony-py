{
 "metadata": {
  "language_info": {
   "codemirror_mode": {
    "name": "ipython",
    "version": 3
   },
   "file_extension": ".py",
   "mimetype": "text/x-python",
   "name": "python",
   "nbconvert_exporter": "python",
   "pygments_lexer": "ipython3",
   "version": "3.8.5-final"
  },
  "orig_nbformat": 2,
  "kernelspec": {
   "name": "python3",
   "display_name": "Python 3.8.5 64-bit",
   "metadata": {
    "interpreter": {
     "hash": "31862cc71836a94b0e0781803a3648767fc4cb197cc35bade0ddf231ddce7d7c"
    }
   }
  }
 },
 "nbformat": 4,
 "nbformat_minor": 2,
 "cells": [
  {
   "source": [
    "# Usage Overview\n",
    "The following is an example mocked outline for `harmony-py`. \n"
   ],
   "cell_type": "markdown",
   "metadata": {}
  },
  {
   "cell_type": "code",
   "execution_count": 1,
   "metadata": {},
   "outputs": [],
   "source": [
    "from harmony_py_mock import HarmonyRequest\n"
   ]
  },
  {
   "cell_type": "code",
   "execution_count": 2,
   "metadata": {},
   "outputs": [],
   "source": [
    "req = HarmonyRequest()\n"
   ]
  },
  {
   "cell_type": "code",
   "execution_count": 3,
   "metadata": {},
   "outputs": [],
   "source": [
    "# Multiple authentication options outlined below.\n",
    "req.authenticate()\n"
   ]
  },
  {
   "cell_type": "code",
   "execution_count": 4,
   "metadata": {},
   "outputs": [],
   "source": [
    "collection_id = 'C1940468263-POCLOUD'\n",
    "\n",
    "req.params = {\n",
    "    'collection_id': collection_id,\n",
    "    'ogc-api-coverages_version': '1.0.0',\n",
    "    'variable': 'all',\n",
    "    'lat':'(40:41)',\n",
    "    'lon':'(-107:-105)',\n",
    "    'start': '2020-06-01T00:00:00Z',\n",
    "    'stop':'2020-06-30T23:59:59Z',\n",
    "    'format': 'application/x-zarr',\n",
    "}\n"
   ]
  },
  {
   "cell_type": "code",
   "execution_count": 5,
   "metadata": {},
   "outputs": [
    {
     "output_type": "stream",
     "name": "stdout",
     "text": [
      "Processing request:\n",
      "100% (100 of 100) |######################| Elapsed Time: 0:00:08 Time:  0:00:08\n",
      "Request processing complete.\n"
     ]
    }
   ],
   "source": [
    "# Note: By default the user does not specify sync or async. Optional: specify request type.\n",
    "req.submit()\n"
   ]
  },
  {
   "cell_type": "code",
   "execution_count": 6,
   "metadata": {},
   "outputs": [],
   "source": [
    "output = req.output\n",
    "\n"
   ]
  },
  {
   "source": [
    "# Further Examples"
   ],
   "cell_type": "markdown",
   "metadata": {}
  },
  {
   "source": [
    "## Working with Request Parameters"
   ],
   "cell_type": "markdown",
   "metadata": {}
  },
  {
   "cell_type": "code",
   "execution_count": 7,
   "metadata": {},
   "outputs": [],
   "source": [
    "import datetime\n",
    "\n",
    "collection_id = 'C1940468263-POCLOUD'\n",
    "\n",
    "req.params = {\n",
    "    'collection_id': collection_id,\n",
    "    'ogc-api-coverages_version': '1.0.0',\n",
    "    'variable': 'all',\n",
    "    'lat':'(40:41)',\n",
    "    'lon':'(-107:-105)',\n",
    "    'start': '2020-06-01T00:00:00Z',\n",
    "    'stop':'2020-06-30T23:59:59Z',\n",
    "    'format': 'application/x-zarr',\n",
    "}\n",
    "\n",
    "# or\n",
    "\n",
    "req.params = {\n",
    "    'collection_id': collection_id,\n",
    "    'lat': (40, 42),  # (min, max) format\n",
    "    'lon': (-107, -105),  # (min, max) format\n",
    "    'start': datetime.date(2020, 6, 1),  # date object\n",
    "    'stop': datetime.date(2020, 6, 30),  # date object\n",
    "    'format': HarmonyRequest.format.zarr,\n",
    "}\n",
    "\n",
    "# or\n",
    "\n",
    "req.params = {\n",
    "    'collection_id': collection_id,\n",
    "    'lat': (40, 42),\n",
    "    'lon': (-107, -105),\n",
    "    'temporal': '2020-6-1, 30 days',  # DSL\n",
    "      # or\n",
    "    'temporal': '2012-6-1 for 2 months every year for 6 years',  # DSL for seasonal temporal period\n",
    "    'output_format': HarmonyRequest.format.zarr\n",
    "}"
   ]
  },
  {
   "source": [
    "## Authentication"
   ],
   "cell_type": "markdown",
   "metadata": {}
  },
  {
   "source": [
    "req = HarmonyRequest()\n",
    "\n",
    "# Authentication options:\n",
    "#   .) specify `username` and `password`\n",
    "#   .) specify `username` and receive password prompt\n",
    "#   .) specify .netrc\n",
    "#   .) read .netrc in default location\n",
    "#   .) read .env file\n",
    "#   .) read ENV vars    \n",
    "\n",
    "req.authenticate(username='myusername', password='supersecret')\n",
    "# or\n",
    "req.authenticate(username='myusername')\n",
    "# or\n",
    "req.authenticate(netrc='/usr/local/etc/some/path/.netrc')\n",
    "# or\n",
    "req.authenticate()\n"
   ],
   "cell_type": "code",
   "metadata": {},
   "execution_count": 8,
   "outputs": [
    {
     "output_type": "stream",
     "name": "stdout",
     "text": [
      "'username' and 'password' accepted.\n"
     ]
    }
   ]
  },
  {
   "source": [
    "## Determine Service Availability and Variables"
   ],
   "cell_type": "markdown",
   "metadata": {}
  },
  {
   "cell_type": "code",
   "execution_count": 9,
   "metadata": {},
   "outputs": [],
   "source": [
    "req = HarmonyRequest()\n",
    "req.params = {\n",
    "    'collection_id': collection_id,\n",
    "    'lat': (40, 42),\n",
    "    'lon': (-107, -105),\n",
    "    'temporal': '2020-6-1, 30 days',\n",
    "    'format': HarmonyRequest.format.zarr\n",
    "}\n",
    "req.dataset.info()  # similar to icepyx\n",
    "req.dataset.summary()  # similar to icepyx\n",
    "req.spatial.visualize()  # similar to icepyx - map with bbox overlay; maybe too much?"
   ]
  },
  {
   "source": [
    "## Retrieve Results in Cloud: In / Out of Region; Internet Retrieval"
   ],
   "cell_type": "markdown",
   "metadata": {}
  },
  {
   "source": [
    "## Error Notification and Handling"
   ],
   "cell_type": "markdown",
   "metadata": {}
  }
 ]
}
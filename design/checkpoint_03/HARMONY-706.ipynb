{
 "cells": [
  {
   "cell_type": "code",
   "execution_count": null,
   "id": "blocked-capitol",
   "metadata": {},
   "outputs": [],
   "source": [
    "import sys\n",
    "sys.path.append('../..')\n",
    "\n",
    "import datetime as dt\n",
    "from getpass import getpass\n",
    "from glob import glob\n",
    "from time import sleep\n",
    "\n",
    "import ipyplot\n",
    "from IPython.display import JSON\n",
    "import rasterio\n",
    "from rasterio.plot import show\n",
    "import requests\n",
    "\n",
    "from harmony_py.harmony import SpecialSession\n",
    "from harmony_py.harmony import Client, Collection, Request\n",
    "\n",
    "\n",
    "def download_and_show_results(harmony_job):\n",
    "    status_url = harmony_job['links'][0]['href']\n",
    "    print('Waiting for the job to finish')\n",
    "\n",
    "    with SpecialSession(user='kbeam', pwd=getpass()) as session:\n",
    "        while harmony_job['status'] != 'successful':\n",
    "            harmony_job = session.get(status_url).json()\n",
    "            print(f\"Job is {harmony_job['status']}: {harmony_job['progress']}%\")\n",
    "            sleep(3)\n",
    "    \n",
    "        print('Downloading results')\n",
    "        for result in [link for link in harmony_job['links'] if link['type'] == 'image/tiff']:\n",
    "            with open(result['title'], 'wb') as f:\n",
    "                print(f\"  {result['title']}\")\n",
    "                f.write(session.get(result['href']).content)\n",
    "                show(rasterio.open(result['title']))\n",
    "                \n",
    "def show_results():\n",
    "    for fp in glob('*.tif'):\n",
    "        show(rasterio.open(fp))"
   ]
  },
  {
   "cell_type": "code",
   "execution_count": null,
   "id": "eleven-equity",
   "metadata": {},
   "outputs": [],
   "source": [
    "request = Request(\n",
    "    collection=Collection(id='C1234088182-EEDTEST'),\n",
    "    spatial={\n",
    "        'll': (52, -165),\n",
    "        'ur': (77, -140)\n",
    "    })\n",
    "\n",
    "job1 = Client().submit(request, user='kbeam', pwd=getpass())\n",
    "JSON(job1)"
   ]
  },
  {
   "cell_type": "code",
   "execution_count": null,
   "id": "nearby-brighton",
   "metadata": {},
   "outputs": [],
   "source": []
  },
  {
   "cell_type": "code",
   "execution_count": null,
   "id": "european-romantic",
   "metadata": {},
   "outputs": [],
   "source": [
    "request = Request(\n",
    "    collection=Collection(id='C1234088182-EEDTEST'),\n",
    "    temporal={\n",
    "        'start': dt.datetime(2020, 6, 1),\n",
    "        'stop': dt.datetime(2020, 6, 30)\n",
    "    })\n",
    "\n",
    "harmony_job = Client().submit(request, user='kbeam', pwd=getpass())\n",
    "JSON(harmony_job)"
   ]
  },
  {
   "cell_type": "code",
   "execution_count": null,
   "id": "electric-kelly",
   "metadata": {},
   "outputs": [],
   "source": [
    "download_and_show_results(harmony_job)"
   ]
  },
  {
   "cell_type": "code",
   "execution_count": null,
   "id": "continuous-serial",
   "metadata": {},
   "outputs": [],
   "source": [
    "request = Request(\n",
    "    collection=Collection(id='C1234088182-EEDTEST'),\n",
    "    spatial={\n",
    "        'll': (52, -165),\n",
    "        'ur': (77, -140)\n",
    "    },\n",
    "    temporal={\n",
    "        'start': dt.datetime(2010, 1, 1),\n",
    "        'stop': dt.datetime(2020, 12, 30)\n",
    "    })\n",
    "\n",
    "harmony_job = Client().submit(request, user='kbeam', pwd=getpass())\n",
    "JSON(harmony_job)"
   ]
  },
  {
   "cell_type": "code",
   "execution_count": null,
   "id": "recorded-intranet",
   "metadata": {},
   "outputs": [],
   "source": [
    "download_and_show_results(harmony_job)\n",
    "download_and_show_results(harmony_job)"
   ]
  }
 ],
 "metadata": {
  "kernelspec": {
   "display_name": "Python 3",
   "language": "python",
   "name": "python3"
  },
  "language_info": {
   "codemirror_mode": {
    "name": "ipython",
    "version": 3
   },
   "file_extension": ".py",
   "mimetype": "text/x-python",
   "name": "python",
   "nbconvert_exporter": "python",
   "pygments_lexer": "ipython3",
   "version": "3.8.2"
  }
 },
 "nbformat": 4,
 "nbformat_minor": 5
}

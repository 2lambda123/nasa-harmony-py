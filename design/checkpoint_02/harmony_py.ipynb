{
 "metadata": {
  "language_info": {
   "codemirror_mode": {
    "name": "ipython",
    "version": 3
   },
   "file_extension": ".py",
   "mimetype": "text/x-python",
   "name": "python",
   "nbconvert_exporter": "python",
   "pygments_lexer": "ipython3",
   "version": "3.8.5-final"
  },
  "orig_nbformat": 2,
  "kernelspec": {
   "name": "python3",
   "display_name": "Python 3.8.5 64-bit",
   "metadata": {
    "interpreter": {
     "hash": "31862cc71836a94b0e0781803a3648767fc4cb197cc35bade0ddf231ddce7d7c"
    }
   }
  }
 },
 "nbformat": 4,
 "nbformat_minor": 2,
 "cells": [
  {
   "source": [
    "# Usage Overview\n",
    "The following is mocked example usage for `harmony-py`. \n"
   ],
   "cell_type": "markdown",
   "metadata": {}
  },
  {
   "cell_type": "code",
   "execution_count": 2,
   "metadata": {},
   "outputs": [],
   "source": [
    "import datetime\n",
    "from shapely.geometry import Polygon\n",
    "from harmony_py_mock import Action, Authenticate, Format, Request, Results\n",
    "been  Synchronuous."
   ]
  },
  {
   "source": [
    "# collection object CMR interaction TBD.\n",
    "collection = Collection(id='C1940468263-POCLOUD')\n",
    "\n",
    "# See more authentication options below. Creates a session object to be passed into 'submit()'.\n",
    "auth = Authenticate()\n",
    "\n",
    "# Individual parameters are validated when set.\n",
    "req = Request(\n",
    "    collection=collection,\n",
    "    spatial=Bbox(lat=(40, 42), lon=(-107, -105)),  # could accept bbox, shapely, geojson (polygon)\n",
    "    temporal=Temporal(start=datetime.date(2020, 6, 1), stop=datetime.date(2020, 6, 30)),\n",
    "    format=Format.ZARR\n",
    ")\n",
    "\n",
    "# Not all keyword args need be supplied at once. Also, parameters may be replaced.\n",
    "req.spatial = Polygon([(0, 0), (1, 1), (1, 0)])\n",
    "\n",
    "# Optional; 'Request' action defaults to 'SUBSET'. Could also have specified during request instantiation.\n",
    "req.action = Action.SUBSET\n",
    "\n",
    "# A user may explicitly validate. Validation implicitly happens on 'submit()'.\n",
    "Request.validate(req)\n",
    "\n",
    "# Send request to Harmony and begin processing. Returns a 'Results'.\n",
    "res = Request.submit(req, auth)\n",
    "\n"
   ],
   "cell_type": "code",
   "metadata": {},
   "execution_count": null,
   "outputs": []
  },
  {
   "source": [
    "# Further Examples"
   ],
   "cell_type": "markdown",
   "metadata": {}
  },
  {
   "cell_type": "code",
   "execution_count": null,
   "metadata": {},
   "outputs": [],
   "source": [
    "# Notes:\n",
    "# I haven't seen a common bounding box class used in other software. It's simple enough that a namedtuple w/ validation should be sufficient\n",
    "# The Builder Pattern as used in javascript thing().setSomething('asdf').setSomethingElse('asdf2') is not very Pythonic. Prefer kwargs instead. \n",
    "# As noted above, paramters validated on every 'Set', to the extent it's possible.\n",
    "# Not all parameters need be provided at once.\n",
    "# Request is validated upon submit()\n",
    "# Need to research CMR library capabilities and plans\n",
    "# (more notes responses coming)"
   ]
  },
  {
   "source": [
    "## Request Parameters"
   ],
   "cell_type": "markdown",
   "metadata": {}
  },
  {
   "source": [
    "## Authentication"
   ],
   "cell_type": "markdown",
   "metadata": {}
  },
  {
   "source": [
    "# Authentication options:\n",
    "#   .) specify `username` and `password`\n",
    "#   .) specify `username` and receive password prompt\n",
    "#   .) specify .netrc\n",
    "#   .) read .netrc in default location\n",
    "#   .) read .env file\n",
    "#   .) read ENV vars    \n",
    "\n",
    "auth = Authenticate(username='myusername', password='supersecret')\n",
    "# or\n",
    "auth = Authenticate(username='myusername')\n",
    "# or\n",
    "auth = Authenticate(netrc='/usr/local/etc/some/path/.netrc')\n",
    "\n",
    "# or\n",
    "auth = Authenticate()\n"
   ],
   "cell_type": "code",
   "metadata": {},
   "execution_count": null,
   "outputs": []
  },
  {
   "source": [
    "## Determine Service Availability and Variables / Working with CMR"
   ],
   "cell_type": "markdown",
   "metadata": {}
  },
  {
   "source": [
    "## Async vs. Sync Request Submit()"
   ],
   "cell_type": "markdown",
   "metadata": {}
  },
  {
   "source": [
    "## Retrieve Results in Cloud: In / Out of Region; Internet Retrieval"
   ],
   "cell_type": "markdown",
   "metadata": {}
  },
  {
   "source": [
    "## Error Notification and Handling"
   ],
   "cell_type": "markdown",
   "metadata": {}
  }
 ]
}
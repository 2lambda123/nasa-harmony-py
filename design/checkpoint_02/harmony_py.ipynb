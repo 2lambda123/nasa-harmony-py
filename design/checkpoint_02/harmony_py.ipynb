{
 "metadata": {
  "language_info": {
   "codemirror_mode": {
    "name": "ipython",
    "version": 3
   },
   "file_extension": ".py",
   "mimetype": "text/x-python",
   "name": "python",
   "nbconvert_exporter": "python",
   "pygments_lexer": "ipython3",
   "version": "3.8.5-final"
  },
  "orig_nbformat": 2,
  "kernelspec": {
   "name": "python3",
   "display_name": "Python 3.8.5 64-bit",
   "metadata": {
    "interpreter": {
     "hash": "31862cc71836a94b0e0781803a3648767fc4cb197cc35bade0ddf231ddce7d7c"
    }
   }
  }
 },
 "nbformat": 4,
 "nbformat_minor": 2,
 "cells": [
  {
   "source": [
    "# Usage Overview\n",
    "The following is example usage for `harmony-py`. \n"
   ],
   "cell_type": "markdown",
   "metadata": {}
  },
  {
   "cell_type": "code",
   "execution_count": 2,
   "metadata": {},
   "outputs": [],
   "source": [
    "import datetime\n",
    "import boto3\n",
    "from shapely.geometry import Polygon\n",
    "from harmony_py_mock import Action, Authenticate, Format, Request, Results\n"
   ]
  },
  {
   "source": [
    "# Can also pass CMR python library output into Collection; see below.\n",
    "collection = Collection(id='C1940468263-POCLOUD')\n",
    "\n",
    "# See more authentication options below. Creates a session object to be passed into Request.submit().\n",
    "auth = Authenticate()\n",
    "\n",
    "# Individual parameters are validated when set.\n",
    "req = Request(\n",
    "    collection=collection,\n",
    "    spatial=Bbox(lat=(40, 42), lon=(-107, -105)),  # could accept bbox, shapely, geojson (polygon)\n",
    "    temporal=Temporal(start=datetime.date(2020, 6, 1), stop=datetime.date(2020, 6, 30)),\n",
    "    format=Format.ZARR\n",
    ")\n",
    "\n",
    "# Not all keyword args need be supplied at once. Also, parameters may be replaced.\n",
    "req.spatial = Polygon([(0, 0), (1, 1), (1, 0)])\n",
    "\n",
    "# Optional; 'Request' action defaults to 'SUBSET'. Could also have specified during request instantiation.\n",
    "req.action = Action.SUBSET\n",
    "\n",
    "# A user may explicitly validate prior to Request.submit(). Validation implicitly happens on Request.submit().\n",
    "Request.validate(req)\n",
    "\n",
    "# Send request to Harmony and begin processing. Returns a 'Results'. Async by default.\n",
    "res = Request.submit(req, auth, verbose=True, async=True)\n",
    "\n",
    "# Optionally cancel request before it finishes.\n",
    "Response.cancel(res, auth)\n",
    "\n",
    "# Getting results in-region\n",
    "Response.download(res, region=Response.IN_REGION, directory='./research', overwrite=True)\n"
   ],
   "cell_type": "code",
   "metadata": {},
   "execution_count": null,
   "outputs": []
  },
  {
   "source": [
    "# Further Examples"
   ],
   "cell_type": "markdown",
   "metadata": {}
  },
  {
   "source": [
    "## Authentication"
   ],
   "cell_type": "markdown",
   "metadata": {}
  },
  {
   "source": [
    "# Authentication options:\n",
    "#   .) specify `username` and `password`\n",
    "#   .) specify `username` and receive password prompt\n",
    "#   .) specify .netrc\n",
    "#   .) read .netrc in default location\n",
    "#   .) read .env file\n",
    "#   .) read ENV vars    \n",
    "\n",
    "auth = Authenticate(username='myusername', password='supersecret')\n",
    "# or\n",
    "auth = Authenticate(username='myusername')\n",
    "# or\n",
    "auth = Authenticate(netrc='/usr/local/etc/some/path/.netrc')\n",
    "\n",
    "# or\n",
    "auth = Authenticate()\n"
   ],
   "cell_type": "code",
   "metadata": {},
   "execution_count": null,
   "outputs": []
  },
  {
   "source": [
    "## Determine Service Availability and Variables / Working with CMR"
   ],
   "cell_type": "markdown",
   "metadata": {}
  },
  {
   "cell_type": "code",
   "execution_count": null,
   "metadata": {},
   "outputs": [],
   "source": [
    "# Notes from a previous meeting:\n",
    "# extend CMR library to UMM-S; nice output\n",
    "# when and where do we use Harmony's Capabilities documents?\n",
    "# stick with Python data structures (dicts, lists, etc.)\n",
    "# output of CMR should be acceptable input to Harmony python lib\n",
    "# but also allow a user to submit strings as input for Harmony python lib\n",
    "# understand UMM-Var response (coupled ot their metadata format)\n",
    "\n",
    "# More Notes: We may want to contribute to the CMR python library in order to make feeding data into the Harmony python library easier than what's shown here.\n",
    "\n",
    "import re\n",
    "\n",
    "# Import CMR's python library\n",
    "import cmr.search.collection as coll\n",
    "import cmr.search.granule as gran\n",
    "\n",
    "cmr_res = coll.search({'keyword':'MOD09*',\n",
    "                       'archive_center': 'lp daac'})\n",
    "\n",
    "# regex uses a negative look-around assertion\n",
    "brief = [[r['meta']['concept-id'],\n",
    "          r['umm']['ShortName'],\n",
    "          r['meta']['native-id']] for r in cmr_res if re.search('^((?!mmt_collection_).)*$', r['meta']['native-id'])]\n",
    "[print(b) for b in brief]\n",
    "# ['C193529903-LPDAAC_ECS', 'MOD09GQ', 'MODIS/Terra Surface Reflectance Daily L2G Global 250m SIN Grid V006']\n",
    "# ['C193529902-LPDAAC_ECS', 'MOD09GA', 'MODIS/Terra Surface Reflectance Daily L2G Global 1km and 500m SIN Grid V006']\n",
    "# ['C193529899-LPDAAC_ECS', 'MOD09A1', 'MODIS/Terra Surface Reflectance 8-Day L3 Global 500m SIN Grid V006']\n",
    "# ['C193529944-LPDAAC_ECS', 'MOD09Q1', 'MODIS/Terra Surface Reflectance 8-Day L3 Global 250m SIN Grid V006']\n",
    "# ['C193529901-LPDAAC_ECS', 'MOD09CMG', 'MODIS/Terra Surface Reflectance Daily L3 Global 0.05Deg CMG V006']\n",
    "\n",
    "\n",
    "####\n",
    "# The CMR python library does not support variable browsing at this time.\n",
    "####\n",
    "\n",
    "\n",
    "# The output from CMR may be used as input to the Harmony python library\n",
    "req = Request(\n",
    "    collection=cmr_res[0],\n",
    "    spatial=Bbox(lat=(40, 42), lon=(-107, -105)),  # could accept bbox, shapely, geojson (polygon)\n",
    "    temporal=Temporal(start=datetime.date(2020, 6, 1), stop=datetime.date(2020, 6, 30)),\n",
    "    format=Format.ZARR\n",
    ")\n"
   ]
  },
  {
   "source": [
    "## Async vs. Sync Request Submit()"
   ],
   "cell_type": "markdown",
   "metadata": {}
  },
  {
   "cell_type": "code",
   "execution_count": null,
   "metadata": {},
   "outputs": [],
   "source": [
    "# Sync Request\n",
    "res = Request.submit(req, auth, sync=True)\n",
    "\n",
    "# Async request; default behavior\n",
    "res = Request.submit(req, auth)\n",
    "\n",
    "# Async usage: Poll Harmony status page and display progress updates.\n",
    "res.update()\n",
    "\n",
    "# Async usage: Cancel an ongoing job (Result)\n",
    "res.cancel()\n"
   ]
  },
  {
   "source": [
    "## Retrieve Results in Cloud: In / Out of Region; Internet Retrieval"
   ],
   "cell_type": "markdown",
   "metadata": {}
  },
  {
   "source": [
    "# Notes:\n",
    "# require the user to be explicit on style of retrieval: in-cloud/in-region vs. over internet\n",
    "# if in same region, collect k/v pairs for parameters to boto3 constructor\n",
    "# End-user _must_ specify region keyword argument.\n",
    "\n",
    "import boto3\n",
    "import requests\n",
    "\n",
    "# Downloads files to a local directory. Easy method.\n",
    "Response.download(res, region=Response.IN_REGION, directory='./research', overwrite=True)\n",
    "\n",
    "# Downloads files to a local directory but skips files which already exist; Note: doesn't verify existing file size. Easy method.\n",
    "Response.download(res, region=Response.IN_REGION, directory='./research', overwrite=False)\n",
    "\n",
    "####\n",
    "\n",
    "# In-Region; alternative to the above.\n",
    "s3 = boto3.client('s3')\n",
    "files = Response.files(res, region=Response.IN_REGION)\n",
    "for f in files:\n",
    "    # The parameters for each output file are the inputs to this boto method.\n",
    "    s3.download_file(f.bucket_name, f.object_name, './research/' + f.filename)\n",
    "\n",
    "# Out-of-Region; alternative to the above easy methods.\n",
    "files = Response.files(res, region=Response.OUT_OF_REGION)\n",
    "for f in files:\n",
    "    r = requests.get(f.url, allow_redirects=True)\n",
    "    open(f.filename, 'wb').write(r.content)\n"
   ],
   "cell_type": "code",
   "metadata": {},
   "execution_count": null,
   "outputs": []
  },
  {
   "source": [
    "## Error Notification and Handling\n",
    "\n",
    "Open for suggestions. We probably should raise exceptions as needed and output friendly messages via logging. The same logging will be used for async operation. Async is futures based so the GIL and cooperative multitasking will handle contention for logging output destinations. STDOUT will be the default logging target."
   ],
   "cell_type": "markdown",
   "metadata": {}
  },
  {
   "cell_type": "code",
   "execution_count": null,
   "metadata": {},
   "outputs": [],
   "source": [
    "# Notes:\n",
    "# verbose logging by default; verbosity configurable\n"
   ]
  }
 ]
}
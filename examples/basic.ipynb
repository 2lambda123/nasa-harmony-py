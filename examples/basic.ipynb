{
 "cells": [
  {
   "cell_type": "markdown",
   "id": "romantic-atmosphere",
   "metadata": {},
   "source": [
    "## Harmony Py Library\n",
    "\n",
    "### Basic Workflow Example\n",
    "\n",
    "This notebook shows three basic examples of Harmony jobs, each using a Harmony test Collection. The first example requests a spatial subset of Alaska, the second a temporal subset (a single-month timespan), and the third shows a combination of both spatial and temporal subsetting.\n",
    "\n",
    "First, we import a helper module for the notebook, but then import the Harmony Py classes we need to make a request."
   ]
  },
  {
   "cell_type": "code",
   "execution_count": null,
   "id": "knowing-atlas",
   "metadata": {},
   "outputs": [],
   "source": [
    "import helper"
   ]
  },
  {
   "cell_type": "code",
   "execution_count": null,
   "id": "impaired-transfer",
   "metadata": {},
   "outputs": [],
   "source": [
    "import datetime as dt\n",
    "from harmony import BBox, Client, Collection, Request"
   ]
  },
  {
   "cell_type": "markdown",
   "id": "motivated-pressing",
   "metadata": {},
   "source": [
    "First let's prompt for your CMR credentials (UAT). Your credentials are stored without needing to hit enter in either field."
   ]
  },
  {
   "cell_type": "code",
   "execution_count": null,
   "id": "attractive-german",
   "metadata": {},
   "outputs": [],
   "source": [
    "username = helper.Text(placeholder='captainmarvel', description='Username')\n",
    "helper.display(username)\n",
    "password = helper.Password(placeholder='Password', description='Password')\n",
    "helper.display(password)"
   ]
  },
  {
   "cell_type": "markdown",
   "id": "electoral-update",
   "metadata": {},
   "source": [
    "Now we create a Harmony Client object, passing in the `auth` tuple containing the username and password entered above."
   ]
  },
  {
   "cell_type": "code",
   "execution_count": null,
   "id": "peripheral-cattle",
   "metadata": {},
   "outputs": [],
   "source": [
    "harmony_client = Client(auth=(username.value, password.value))"
   ]
  },
  {
   "cell_type": "markdown",
   "id": "dominican-serial",
   "metadata": {},
   "source": [
    "Next, we create a Collection object with the CMR collection id for our test collection. We then create a Request which specifies the collection, and a `spatial` `BBox` describing the bounding box for the area we're interested in. We'll see later in the notebook how to make sure the request we have is valid."
   ]
  },
  {
   "cell_type": "code",
   "execution_count": null,
   "id": "charming-wheat",
   "metadata": {},
   "outputs": [],
   "source": [
    "collection = Collection(id='C1234088182-EEDTEST')\n",
    "\n",
    "request = Request(\n",
    "    collection=collection,\n",
    "    spatial=BBox(-165, 52, -140, 77)\n",
    ")"
   ]
  },
  {
   "cell_type": "markdown",
   "id": "tracked-distributor",
   "metadata": {},
   "source": [
    "Now that we have a request, we can submit it to Harmony using the Harmony Client object we created earlier. We'll get back a JSON object that describes the Harmony job that we've submitted. As you can see, the Job contains the original request that was submitted to Harmony, its status, as well as a URL where we can get the Job's current status, and its results if it has completed."
   ]
  },
  {
   "cell_type": "code",
   "execution_count": null,
   "id": "entertaining-romania",
   "metadata": {},
   "outputs": [],
   "source": [
    "job1_id = harmony_client.submit(request)"
   ]
  },
  {
   "cell_type": "markdown",
   "id": "documented-membrane",
   "metadata": {},
   "source": [
    "Now using our helper module, we'll wait for the Job to complete, and then we'll download the results and view them."
   ]
  },
  {
   "cell_type": "code",
   "execution_count": null,
   "id": "outer-syndrome",
   "metadata": {},
   "outputs": [],
   "source": [
    "helper.download_and_show_results(harmony_client, job1_id)"
   ]
  },
  {
   "cell_type": "markdown",
   "id": "former-quick",
   "metadata": {},
   "source": [
    "Now we show a Harmony request for a temporal range: one month in 2020. As before, we create a Request, and submit it with the same Harmony Client we used above."
   ]
  },
  {
   "cell_type": "code",
   "execution_count": null,
   "id": "medieval-appliance",
   "metadata": {},
   "outputs": [],
   "source": [
    "request = Request(\n",
    "    collection=collection,\n",
    "    temporal={\n",
    "        'start': dt.datetime(2020, 6, 1),\n",
    "        'stop': dt.datetime(2020, 6, 30)\n",
    "    })\n",
    "\n",
    "job2_id = harmony_client.submit(request)"
   ]
  },
  {
   "cell_type": "code",
   "execution_count": null,
   "id": "minus-hampton",
   "metadata": {},
   "outputs": [],
   "source": [
    "helper.download_and_show_results(harmony_client, job2_id)"
   ]
  },
  {
   "cell_type": "markdown",
   "id": "premium-initial",
   "metadata": {},
   "source": [
    "Finally, we show a Harmony request for both a spatial and temporal range. We create the Request and simply specify both a `spatial` bounds and a `temporal` range, submitting it with the Harmony Client."
   ]
  },
  {
   "cell_type": "code",
   "execution_count": null,
   "id": "broadband-lobby",
   "metadata": {},
   "outputs": [],
   "source": [
    "request = Request(\n",
    "    collection=collection,\n",
    "    spatial=BBox(-165, 52, -140, 77),\n",
    "    temporal={\n",
    "        'start': dt.datetime(2010, 1, 1),\n",
    "        'stop': dt.datetime(2020, 12, 30)\n",
    "    })\n",
    "\n",
    "job3_id = harmony_client.submit(request)"
   ]
  },
  {
   "cell_type": "code",
   "execution_count": null,
   "id": "martial-radar",
   "metadata": {},
   "outputs": [],
   "source": [
    "helper.download_and_show_results(harmony_client, job3_id)"
   ]
  },
  {
   "cell_type": "markdown",
   "id": "quality-earth",
   "metadata": {},
   "source": [
    "Now that we know how to make a request, let's investigate how the Harmony Py library can help us make sure we have a valid request. Recall that we used the Harmony `BBox` type to provide a spatial constraint in our request. If we investigate its help text, we see that we create a `BBox` by providing the western, southern, eastern, and northern latitude/longitude bounds for a bounding box."
   ]
  },
  {
   "cell_type": "code",
   "execution_count": null,
   "id": "discrete-excitement",
   "metadata": {},
   "outputs": [],
   "source": [
    "help(BBox)"
   ]
  },
  {
   "cell_type": "markdown",
   "id": "arranged-advisory",
   "metadata": {},
   "source": [
    "Now let's create an invalid bounding box by specifying a longitude less than -180 and a northern latitude less than its southern bounds:"
   ]
  },
  {
   "cell_type": "code",
   "execution_count": null,
   "id": "circular-motion",
   "metadata": {},
   "outputs": [],
   "source": [
    "collection = Collection(id='C1234088182-EEDTEST')\n",
    "\n",
    "request = Request(\n",
    "    collection=collection,\n",
    "    spatial=BBox(-183, 40, 10, 30)\n",
    ")\n",
    "\n",
    "print(f\"Request valid? {request.is_valid()}\")\n",
    "for m in request.error_messages():\n",
    "    print(\" * \" + m)"
   ]
  },
  {
   "cell_type": "markdown",
   "id": "democratic-combining",
   "metadata": {},
   "source": [
    "Similarly, we can see errors in the temporal parameter:"
   ]
  },
  {
   "cell_type": "code",
   "execution_count": null,
   "id": "incredible-tuning",
   "metadata": {},
   "outputs": [],
   "source": [
    "collection = Collection(id='C1234088182-EEDTEST')\n",
    "\n",
    "request = Request(\n",
    "    collection=collection,\n",
    "    temporal={\n",
    "        'start': dt.datetime(2020, 12, 30),\n",
    "        'stop': dt.datetime(2010, 1, 1)\n",
    "    }\n",
    ")\n",
    "\n",
    "print(f\"Request valid? {request.is_valid()}\")\n",
    "for m in request.error_messages():\n",
    "    print(\" * \" + m)"
   ]
  },
  {
   "cell_type": "markdown",
   "id": "imported-choir",
   "metadata": {},
   "source": [
    "So before submitting a Harmony Request, you can test your request to see if it's valid and how to fix it if not:"
   ]
  },
  {
   "cell_type": "code",
   "execution_count": null,
   "id": "parallel-difference",
   "metadata": {},
   "outputs": [],
   "source": [
    "collection = Collection(id='C1234088182-EEDTEST')\n",
    "\n",
    "request = Request(\n",
    "    collection=collection,\n",
    "    spatial=BBox(-183, 40, 10, 30),\n",
    "    temporal={\n",
    "        'start': dt.datetime(2020, 12, 30),\n",
    "        'stop': dt.datetime(2010, 1, 1)\n",
    "    }\n",
    ")\n",
    "\n",
    "print(f\"Request valid? {request.is_valid()}\")\n",
    "for m in request.error_messages():\n",
    "    print(\" * \" + m)"
   ]
  },
  {
   "cell_type": "markdown",
   "id": "overall-census",
   "metadata": {},
   "source": [
    "If we don't validate the request first, Harmony Py will validate it automatically and raise an exception with a message indicating the errors that need to be fixed:"
   ]
  },
  {
   "cell_type": "code",
   "execution_count": null,
   "id": "hired-force",
   "metadata": {},
   "outputs": [],
   "source": [
    "try:\n",
    "    harmony_client.submit(request)\n",
    "except Exception as e:\n",
    "    print(\"Harmony Py raised an exception:\\n\")\n",
    "    print(e)"
   ]
  },
  {
   "cell_type": "markdown",
   "id": "nutritional-position",
   "metadata": {},
   "source": [
    "Now let's look at some examples of some of the other parameters that you can use when submitting a Harmony request:\n",
    "\n",
    "First, let's start by specifying a couple ways to limit how many granules of data we're interested in. When creating the Request, you can add the `max_results` argument. This is useful if we eventually want to run a bigger request, but we're experimenting and would like to get some sample results first:"
   ]
  },
  {
   "cell_type": "code",
   "execution_count": null,
   "id": "offshore-mainland",
   "metadata": {},
   "outputs": [],
   "source": [
    "collection = Collection(id='C1234088182-EEDTEST')\n",
    "\n",
    "request = Request(\n",
    "    collection=collection,\n",
    "    spatial=BBox(-10, 0, 10, 10),\n",
    "    temporal={\n",
    "        'start': dt.datetime(2021, 1, 1),\n",
    "        'stop': dt.datetime(2021, 1, 10)\n",
    "    },\n",
    "    max_results=2\n",
    ")\n",
    "request.is_valid()"
   ]
  },
  {
   "cell_type": "markdown",
   "id": "saving-professor",
   "metadata": {},
   "source": [
    "Or maybe you'd like to operate on some specific granules. In that case, passing the `granule_id` argument allows you to list the granule IDs (one or more) to operate upon. Let's try this in combination with another parameter: `crs`, the coordinate reference system we'd like to reproject our results into. In addition we show other options which specify what output format we'd like, the resulting image height and width, and `force_async` tells Harmony we'll come back later and check for our results -- don't hold up the notebook waiting for the result."
   ]
  },
  {
   "cell_type": "code",
   "execution_count": null,
   "id": "progressive-crisis",
   "metadata": {},
   "outputs": [],
   "source": [
    "collection = Collection(id='C1234088182-EEDTEST'\n",
    "                        )\n",
    "\n",
    "request = Request(\n",
    "    collection=collection,\n",
    "    spatial=BBox(-140, 20, -50, 60),\n",
    "    granule_id=['G1234088196-EEDTEST'],\n",
    "    crs='EPSG:3995',\n",
    "    format='image/tiff',\n",
    "    height=400,\n",
    "    width=900,\n",
    "    force_async=True\n",
    ")\n",
    "request.is_valid()"
   ]
  },
  {
   "cell_type": "code",
   "execution_count": null,
   "id": "humanitarian-caution",
   "metadata": {},
   "outputs": [],
   "source": [
    "job_id = harmony_client.submit(request)\n",
    "helper.download_and_show_results(harmony_client, job_id)"
   ]
  },
  {
   "cell_type": "markdown",
   "id": "polyphonic-digit",
   "metadata": {},
   "source": [
    "Now we'll craft the same request, but this time instead of getting all the variables in the granule--the default--we'll select just the red, green, and blue variables."
   ]
  },
  {
   "cell_type": "code",
   "execution_count": null,
   "id": "configured-leave",
   "metadata": {},
   "outputs": [],
   "source": [
    "collection = Collection(id='C1234088182-EEDTEST')\n",
    "\n",
    "request = Request(\n",
    "    collection=collection,\n",
    "    spatial=BBox(-140, 20, -50, 60),\n",
    "    granule_id=['G1234088196-EEDTEST'],\n",
    "    crs='EPSG:3995',\n",
    "    format='image/tiff',\n",
    "    height=400,\n",
    "    width=900,\n",
    "    force_async=True,\n",
    "    variables=['red_var', 'green_var', 'blue_var']\n",
    ")\n",
    "request.is_valid()"
   ]
  },
  {
   "cell_type": "code",
   "execution_count": null,
   "id": "initial-enemy",
   "metadata": {},
   "outputs": [],
   "source": [
    "job_id = harmony_client.submit(request)\n",
    "helper.download_and_show_results(harmony_client, job_id)"
   ]
  }
 ],
 "metadata": {
  "kernelspec": {
   "display_name": "Python 3",
   "language": "python",
   "name": "python3"
  },
  "language_info": {
   "codemirror_mode": {
    "name": "ipython",
    "version": 3
   },
   "file_extension": ".py",
   "mimetype": "text/x-python",
   "name": "python",
   "nbconvert_exporter": "python",
   "pygments_lexer": "ipython3",
   "version": "3.9.1"
  }
 },
 "nbformat": 4,
 "nbformat_minor": 5
}

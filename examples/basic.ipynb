{
 "cells": [
  {
   "cell_type": "markdown",
   "id": "found-fiber",
   "metadata": {},
   "source": [
    "## Harmony Py Library\n",
    "\n",
    "### Basic Workflow Example\n",
    "\n",
    "This notebook shows three basic examples of Harmony jobs, each using a Harmony test Collection. The first example requests a spatial subset of Alaska, the second a temporal subset (a single-month timespan), and the third shows a combination of both spatial and temporal subsetting.\n",
    "\n",
    "First, we import a helper module for the notebook, but then import the Harmony Py classes we need to make a request."
   ]
  },
  {
   "cell_type": "code",
   "execution_count": null,
   "id": "advisory-brake",
   "metadata": {
    "jupyter": {
     "source_hidden": true
    }
   },
   "outputs": [],
   "source": [
    "import helper"
   ]
  },
  {
   "cell_type": "code",
   "execution_count": null,
   "id": "dense-handbook",
   "metadata": {},
   "outputs": [],
   "source": [
    "from harmony.harmony import Client, Collection, Request"
   ]
  },
  {
   "cell_type": "markdown",
   "id": "scenic-american",
   "metadata": {},
   "source": [
    "First let's prompt for your CMR credentials (UAT)."
   ]
  },
  {
   "cell_type": "code",
   "execution_count": null,
   "id": "statutory-energy",
   "metadata": {
    "jupyter": {
     "source_hidden": true
    }
   },
   "outputs": [],
   "source": [
    "username = helper.Text(placeholder='captainmarvel', description='Username')\n",
    "helper.display(username)\n",
    "password = helper.Password(placeholder='Password', description='Password')\n",
    "helper.display(password)"
   ]
  },
  {
   "cell_type": "markdown",
   "id": "spare-shaft",
   "metadata": {},
   "source": [
    "Now we create a Harmony Client object, passing in the `auth` tuple containing the username and password entered above."
   ]
  },
  {
   "cell_type": "code",
   "execution_count": null,
   "id": "japanese-mining",
   "metadata": {},
   "outputs": [],
   "source": [
    "harmony_client = Client(auth=(username.value, password.value))"
   ]
  },
  {
   "cell_type": "markdown",
   "id": "mineral-fortune",
   "metadata": {},
   "source": [
    "Next, we create a Collection object with the CMR collection id for our test collection. We then create a Request which specifies the collection, and a `spatial` tuple describing the bounding box for the area we're interested in."
   ]
  },
  {
   "cell_type": "code",
   "execution_count": null,
   "id": "linear-abortion",
   "metadata": {},
   "outputs": [],
   "source": [
    "collection = Collection(id='C1234088182-EEDTEST')\n",
    "\n",
    "request = Request(\n",
    "    collection=collection,\n",
    "    spatial=(-165, 52, -140, 77)\n",
    ")"
   ]
  },
  {
   "cell_type": "markdown",
   "id": "structural-canberra",
   "metadata": {},
   "source": [
    "Now that we have a request, we can submit it to Harmony using the Harmony Client object we created earlier. We'll get back a JSON object that describes the Harmony job that we've submitted. As you can see, the Job contains the original request that was submitted to Harmony, its status, as well as a URL where we can get the Job's current status, and its results if it has completed."
   ]
  },
  {
   "cell_type": "code",
   "execution_count": null,
   "id": "thorough-masters",
   "metadata": {},
   "outputs": [],
   "source": [
    "job1 = harmony_client.submit(request)\n",
    "\n",
    "helper.JSON(job1)"
   ]
  },
  {
   "cell_type": "markdown",
   "id": "shared-warrant",
   "metadata": {},
   "source": [
    "Now using our helper module, we'll wait for the Job to complete, and then we'll download the results and view them."
   ]
  },
  {
   "cell_type": "code",
   "execution_count": null,
   "id": "available-energy",
   "metadata": {},
   "outputs": [],
   "source": [
    "helper.download_and_show_results(harmony_client, job1)"
   ]
  },
  {
   "cell_type": "markdown",
   "id": "reverse-arena",
   "metadata": {},
   "source": [
    "Now we show a Harmony request for a temporal range: one month in 2020. As before, we create a Request, and submit it with the same Harmony Client we used above."
   ]
  },
  {
   "cell_type": "code",
   "execution_count": null,
   "id": "numerical-newspaper",
   "metadata": {},
   "outputs": [],
   "source": [
    "request = Request(\n",
    "    collection=collection,\n",
    "    temporal={\n",
    "        'start': dt.datetime(2020, 6, 1),\n",
    "        'stop': dt.datetime(2020, 6, 30)\n",
    "    })\n",
    "\n",
    "job2 = harmony_client.submit(request)\n",
    "\n",
    "helper.JSON(job2)"
   ]
  },
  {
   "cell_type": "code",
   "execution_count": null,
   "id": "suspended-norway",
   "metadata": {},
   "outputs": [],
   "source": [
    "download_and_show_results(job2)"
   ]
  },
  {
   "cell_type": "markdown",
   "id": "urban-familiar",
   "metadata": {},
   "source": [
    "Finally, we show a Harmony request for both a spatial and temporal range. We create the Request and simply specify both a `spatial` bounds and a `temporal` range, submitting it with the Harmony Client."
   ]
  },
  {
   "cell_type": "code",
   "execution_count": null,
   "id": "persistent-character",
   "metadata": {},
   "outputs": [],
   "source": [
    "request = Request(\n",
    "    collection=collection,\n",
    "    spatial=(-165, 52, -140, 77),\n",
    "    temporal={\n",
    "        'start': dt.datetime(2010, 1, 1),\n",
    "        'stop': dt.datetime(2020, 12, 30)\n",
    "    })\n",
    "\n",
    "job3 = harmony_client.submit(request)\n",
    "\n",
    "helper.JSON(job3)"
   ]
  },
  {
   "cell_type": "code",
   "execution_count": null,
   "id": "responsible-fighter",
   "metadata": {},
   "outputs": [],
   "source": [
    "download_and_show_results(job3)"
   ]
  }
 ],
 "metadata": {
  "kernelspec": {
   "display_name": "Python 3",
   "language": "python",
   "name": "python3"
  },
  "language_info": {
   "codemirror_mode": {
    "name": "ipython",
    "version": 3
   },
   "file_extension": ".py",
   "mimetype": "text/x-python",
   "name": "python",
   "nbconvert_exporter": "python",
   "pygments_lexer": "ipython3",
   "version": "3.8.2"
  }
 },
 "nbformat": 4,
 "nbformat_minor": 5
}

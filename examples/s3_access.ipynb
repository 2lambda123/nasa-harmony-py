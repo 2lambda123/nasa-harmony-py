{
 "metadata": {
  "language_info": {
   "codemirror_mode": {
    "name": "ipython",
    "version": 3
   },
   "file_extension": ".py",
   "mimetype": "text/x-python",
   "name": "python",
   "nbconvert_exporter": "python",
   "pygments_lexer": "ipython3",
   "version": "3.8.5-final"
  },
  "orig_nbformat": 2,
  "kernelspec": {
   "name": "python3",
   "display_name": "Python 3.8.5 64-bit",
   "metadata": {
    "interpreter": {
     "hash": "31862cc71836a94b0e0781803a3648767fc4cb197cc35bade0ddf231ddce7d7c"
    }
   }
  }
 },
 "nbformat": 4,
 "nbformat_minor": 2,
 "cells": [
  {
   "source": [
    "## Harmony Py Library\n",
    "### Job Results Example"
   ],
   "cell_type": "markdown",
   "metadata": {}
  },
  {
   "cell_type": "code",
   "execution_count": null,
   "metadata": {},
   "outputs": [],
   "source": [
    "import sys\n",
    "sys.path.append('..')\n",
    "from harmony import BBox, Client, Collection, Request\n"
   ]
  },
  {
   "source": [
    "Cloud access credentials can be retrieved from an instantiated Client."
   ],
   "cell_type": "markdown",
   "metadata": {}
  },
  {
   "cell_type": "code",
   "execution_count": null,
   "metadata": {},
   "outputs": [],
   "source": [
    "harmony_client = Client()  # assumes .netrc usage\n",
    "\n",
    "creds = harmony_client.aws_credentials()\n"
   ]
  },
  {
   "source": [
    "Then, instantiate a boto3 client with those credentials."
   ],
   "cell_type": "markdown",
   "metadata": {}
  },
  {
   "cell_type": "code",
   "execution_count": null,
   "metadata": {},
   "outputs": [],
   "source": [
    "#\n",
    "# NOTE: Execution of this cell will only succeed within the AWS us-west-2 region. \n",
    "#\n",
    "\n",
    "import boto3\n",
    "\n",
    "s3 = boto3.client('s3', **creds)\n",
    "uri = 's3://harmony-uat-staging/public/harmony/netcdf-to-zarr/817a3e99-d53c-4169-b9f1-82cc947793be/2020_01_01_7f00ff_global.zarr'\n",
    "bucket_name = uri.split('/')[2]\n",
    "object_name = '/'.join(uri.split('/')[3:])\n",
    "file_name = uri.split('/')[-1]\n",
    "\n",
    "with open(file_name, 'wb') as f:\n",
    "    # should return a 403 Forbidden if run outside of us-west-2\n",
    "    s3.download_fileobj(bucket_name, object_name, f)\n",
    "\n"
   ]
  },
  {
   "cell_type": "code",
   "execution_count": null,
   "metadata": {},
   "outputs": [],
   "source": []
  }
 ]
}
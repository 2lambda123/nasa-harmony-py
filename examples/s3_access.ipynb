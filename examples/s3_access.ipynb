{
 "cells": [
  {
   "cell_type": "markdown",
   "metadata": {},
   "source": [
    "## Using a User-owned S3 Bucket to Stage Results"
   ]
  },
  {
   "cell_type": "code",
   "execution_count": null,
   "metadata": {},
   "outputs": [],
   "source": [
    "import boto3\n",
    "import datetime as dt\n",
    "import helper\n",
    "import json\n",
    "import rasterio\n",
    "import rasterio.plot\n",
    "import netCDF4 as nc4\n",
    "from matplotlib import pyplot as plt\n",
    "import numpy as np\n",
    "import re\n",
    "import requests\n",
    "import sys\n",
    "sys.path.append('..')\n",
    "!{sys.executable} -m pip install -q -r ../requirements/examples.txt\n",
    "\n",
    "# Install harmony-py requirements.  Not necessary if you ran `pip install harmony-py` in your kernel  \n",
    "!{sys.executable} -m pip install -q -r ../requirements/core.txt\n",
    "\n",
    "from harmony import BBox, Client, Collection, LinkType, Request, s3_components, Environment"
   ]
  },
  {
   "cell_type": "code",
   "execution_count": null,
   "metadata": {},
   "outputs": [],
   "source": [
    "# the bucket we will use to store our results\n",
    "staging_bucket = 'jn-staging-test4'\n",
    "\n",
    "# create an AWS session using our profile\n",
    "session = boto3.Session(profile_name='harmony-sit')\n",
    "\n",
    "# check to see if the bucket already exists - create it if it does not\n",
    "s3_client = session.client('s3')\n",
    "try:\n",
    "    response = s3_client.head_bucket(\n",
    "        Bucket=staging_bucket\n",
    "    )\n",
    "except:\n",
    "    print(f'Creating bucket {staging_bucket}')\n",
    "    response = s3_client.create_bucket(\n",
    "        Bucket=staging_bucket, \n",
    "        CreateBucketConfiguration={\n",
    "            'LocationConstraint': 'us-west-2'\n",
    "        },\n",
    "        ObjectOwnership='BucketOwnerEnforced')\n",
    "    response"
   ]
  },
  {
   "cell_type": "code",
   "execution_count": null,
   "metadata": {},
   "outputs": [],
   "source": [
    "request = Request(\n",
    "    collection=Collection(id='C1940472420-POCLOUD'),\n",
    "    spatial=BBox(-160, -80, 160, 80),\n",
    "    variables=['bathymetry'],\n",
    "    max_results=3,\n",
    "    concatenate=False,\n",
    "    destination_url=f's3://{staging_bucket}/foo'\n",
    ")\n",
    "\n",
    "request.is_valid()"
   ]
  },
  {
   "cell_type": "code",
   "execution_count": null,
   "metadata": {},
   "outputs": [],
   "source": [
    "# create a Harmomy client with which to make requests\n",
    "harmony_client = Client(env=Environment.PROD)# assumes .netrc usage"
   ]
  },
  {
   "cell_type": "code",
   "execution_count": null,
   "metadata": {},
   "outputs": [],
   "source": [
    "job_id = None\n",
    "bucket_policy_url = None\n",
    "try:\n",
    "    job_id = harmony_client.submit(request)\n",
    "    print(job_id)\n",
    "except Exception as e:\n",
    "    error = e.args[1]\n",
    "    bucket_policy_url = re.search(\"https:\\/\\/.*\", error).group()\n",
    "    print(error)"
   ]
  },
  {
   "cell_type": "code",
   "execution_count": null,
   "metadata": {},
   "outputs": [],
   "source": [
    "if bucket_policy_url:\n",
    "    # get the bucket policy from harmony\n",
    "    policy = requests.get(bucket_policy_url).json()\n",
    "    # set the policy on the bucket\n",
    "    response = s3_client.put_bucket_policy(\n",
    "        Bucket=staging_bucket,\n",
    "        Policy=json.dumps(policy)\n",
    "    )\n",
    "    print(response)"
   ]
  },
  {
   "cell_type": "markdown",
   "metadata": {},
   "source": [
    "Now let's get the data URLs from Harmony, but request S3 URLs instead of the default HTTPS."
   ]
  },
  {
   "cell_type": "code",
   "execution_count": null,
   "metadata": {},
   "outputs": [],
   "source": [
    "results = harmony_client.result_urls(job_id, link_type=LinkType.s3)"
   ]
  },
  {
   "cell_type": "markdown",
   "metadata": {},
   "source": [
    "Now we'll use the AWS Python library boto3 to download our results from the S3 bucket"
   ]
  },
  {
   "cell_type": "code",
   "execution_count": null,
   "metadata": {},
   "outputs": [],
   "source": [
    "for url in results:\n",
    "    print(url)\n",
    "    bucket, obj, fn = s3_components(url)\n",
    "    with open(fn, 'wb') as f:\n",
    "        s3_client.download_fileobj(bucket, obj, f)\n",
    "        helper.show_result(f.name)\n",
    "        # nc4_file=nc4.Dataset(f.name)\n",
    "        # arrays = []\n",
    "        # for var in ['bathymetry']:\n",
    "        #     ds = nc4_file.variables[var][0]\n",
    "        #     arrays.append(ds)\n",
    "        # plt.imshow(np.dstack(arrays))"
   ]
  },
  {
   "cell_type": "code",
   "execution_count": null,
   "metadata": {},
   "outputs": [],
   "source": []
  }
 ],
 "metadata": {
  "kernelspec": {
   "display_name": "Python 3 (ipykernel)",
   "language": "python",
   "name": "python3"
  },
  "language_info": {
   "codemirror_mode": {
    "name": "ipython",
    "version": 3
   },
   "file_extension": ".py",
   "mimetype": "text/x-python",
   "name": "python",
   "nbconvert_exporter": "python",
   "pygments_lexer": "ipython3",
   "version": "3.10.9"
  },
  "vscode": {
   "interpreter": {
    "hash": "bc748110a6ec18982109b2289f9c506ebfe86428d3e48ddecc746f3969e698e0"
   }
  }
 },
 "nbformat": 4,
 "nbformat_minor": 4
}

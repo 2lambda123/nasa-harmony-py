{
 "cells": [
  {
   "cell_type": "markdown",
   "metadata": {},
   "source": [
    "## Harmony Py Library\n",
    "### Variable Coverages Example"
   ]
  },
  {
   "cell_type": "code",
   "execution_count": 1,
   "metadata": {
    "tags": []
   },
   "outputs": [],
   "source": [
    "import helper\n",
    "import json\n",
    "from IPython.display import display, JSON\n",
    "import sys\n",
    "sys.path.append('..')\n",
    "import rasterio\n",
    "import rasterio.plot\n",
    "import netCDF4 as nc\n",
    "\n",
    "# Install harmony-py requirements.  Not necessary if you ran `pip install harmony-py` in your kernel  \n",
    "!{sys.executable} -m pip install -q -r ../requirements/core.txt\n",
    "\n",
    "from harmony import BBox, Client, Variable, VariableCoveragesRequest, Environment"
   ]
  },
  {
   "cell_type": "markdown",
   "metadata": {},
   "source": [
    "#### Submit a Variable Coverages request"
   ]
  },
  {
   "cell_type": "code",
   "execution_count": 2,
   "metadata": {},
   "outputs": [],
   "source": [
    "harmony_client = Client(env=Environment.LOCAL)\n",
    "\n",
    "#var1 = Variable(id='V1233801695-EEDTEST')\n",
    "#var2 = Variable(id='V1233801696-EEDTEST')\n",
    "var1 = Variable(id='red')\n",
    "var2 = Variable(id='blue')\n",
    "\n",
    "variable_request = VariableCoveragesRequest(\n",
    "    variables=[var1, var2],\n",
    "    spatial=BBox(-140, 20, -50, 40),\n",
    "    crs='EPSG:31975',\n",
    "    format='image/png',\n",
    "    max_results=1\n",
    ")\n",
    "\n",
    "job_id = harmony_client.submit(variable_request)"
   ]
  },
  {
   "cell_type": "markdown",
   "metadata": {},
   "source": [
    "#### Download and show the png file in result"
   ]
  },
  {
   "cell_type": "code",
   "execution_count": 3,
   "metadata": {
    "tags": []
   },
   "outputs": [
    {
     "name": "stdout",
     "output_type": "stream",
     "text": [
      "001_00_7f00ff_global_regridded_subsetted.nc.png\n",
      "\n",
      "  001_00_7f00ff_global_regridded_subsetted.nc.png\n"
     ]
    },
    {
     "data": {
      "image/png": "[encoded data removed]",
      "text/plain": [
       "<Figure size 640x480 with 1 Axes>"
      ]
     },
     "metadata": {},
     "output_type": "display_data"
    }
   ],
   "source": [
    "import warnings\n",
    "\n",
    "# Disable all warnings\n",
    "warnings.filterwarnings(\"ignore\")\n",
    "\n",
    "for filename in [f.result() for f in harmony_client.download_all(job_id)]:\n",
    "    if filename.endswith(\"png\"):\n",
    "        helper.show_result(filename)"
   ]
  },
  {
   "cell_type": "code",
   "execution_count": 4,
   "metadata": {
    "tags": []
   },
   "outputs": [],
   "source": [
    "var3=Variable(id='ozone')\n",
    "\n",
    "ozone_variable_request = VariableCoveragesRequest(\n",
    "    variables=[var3],\n",
    "    #spatial=BBox(-140, 20, -50, 40),\n",
    "    #crs='EPSG:31975',\n",
    "    #format='image/png',\n",
    "    max_results=2\n",
    ")\n",
    "\n",
    "ozone_job_id = harmony_client.submit(ozone_variable_request)"
   ]
  },
  {
   "cell_type": "code",
   "execution_count": 5,
   "metadata": {
    "tags": []
   },
   "outputs": [
    {
     "name": "stderr",
     "output_type": "stream",
     "text": [
      " [ Processing: 100% ] |###################################################| [|]\n"
     ]
    }
   ],
   "source": [
    "harmony_client.wait_for_processing(ozone_job_id, show_progress=True)"
   ]
  },
  {
   "cell_type": "code",
   "execution_count": 6,
   "metadata": {
    "tags": []
   },
   "outputs": [
    {
     "data": {
      "application/json": {
       "createdAt": "2023-07-10T17:29:05.330Z",
       "dataExpiration": "2023-08-09T17:29:05.330Z",
       "jobID": "9b114cc4-03d8-40bb-90d7-0dc9b289c2c1",
       "links": [
        {
         "href": "http://localhost:3000/stac/9b114cc4-03d8-40bb-90d7-0dc9b289c2c1/",
         "rel": "stac-catalog-json",
         "title": "STAC catalog",
         "type": "application/json"
        },
        {
         "bbox": [
          12.6,
          14.2,
          38.6,
          37.3
         ],
         "href": "http://localhost:3000/service-results/local-staging-bucket/public/9b114cc4-03d8-40bb-90d7-0dc9b289c2c1/29477/SNDR.J1.CRIMSS.20180217T0000.m06.g001.L2_CLIMCAPS_RET.std.v02_28.G.200221153452_mol_lay_o3_mol_lay_subsetted.nc4",
         "rel": "data",
         "temporal": {
          "end": "2018-02-17T00:06:00.000Z",
          "start": "2018-02-17T00:00:00.000Z"
         },
         "title": "SNDR.J1.CRIMSS.20180217T0000.m06.g001.L2_CLIMCAPS_RET.std.v02_28.G.200221153452_mol_lay_o3_mol_lay_subsetted.nc4",
         "type": "application/x-netcdf4"
        },
        {
         "bbox": [
          -7.5,
          -48.6,
          22.7,
          -25.2
         ],
         "href": "http://localhost:3000/service-results/local-staging-bucket/public/9b114cc4-03d8-40bb-90d7-0dc9b289c2c1/29478/SNDR.J1.CRIMSS.20180217T0018.m06.g004.L2_CLIMCAPS_RET.std.v02_28.G.200221153452_mol_lay_o3_mol_lay_subsetted.nc4",
         "rel": "data",
         "temporal": {
          "end": "2018-02-17T00:24:00.000Z",
          "start": "2018-02-17T00:18:00.000Z"
         },
         "title": "SNDR.J1.CRIMSS.20180217T0018.m06.g004.L2_CLIMCAPS_RET.std.v02_28.G.200221153452_mol_lay_o3_mol_lay_subsetted.nc4",
         "type": "application/x-netcdf4"
        },
        {
         "href": "http://localhost:3000/jobs/9b114cc4-03d8-40bb-90d7-0dc9b289c2c1?linktype=https&page=1&limit=2000",
         "rel": "self",
         "title": "The current page",
         "type": "application/json"
        }
       ],
       "message": "CMR query identified 3627 granules, but the request has been limited to process only the first 2 granules because you requested 2 maxResults.",
       "numInputGranules": 2,
       "progress": 100,
       "request": "http://localhost:3000/C1232998567-GES_DISC/ogc-api-coverages/1.0.0/collections/mol_lay%2Fo3_mol_lay/coverage/rangeset?forceAsync=true&maxResults=2",
       "shareable": false,
       "status": "successful",
       "updatedAt": "2023-07-10T17:29:49.154Z",
       "username": "jnorton1"
      },
      "text/plain": [
       "<IPython.core.display.JSON object>"
      ]
     },
     "execution_count": 6,
     "metadata": {
      "application/json": {
       "expanded": false,
       "root": "root"
      }
     },
     "output_type": "execute_result"
    }
   ],
   "source": [
    "data = harmony_client.result_json(ozone_job_id)\n",
    "JSON(data)"
   ]
  },
  {
   "cell_type": "code",
   "execution_count": 34,
   "metadata": {
    "tags": []
   },
   "outputs": [
    {
     "data": {
      "text/plain": [
       "<generator object Client.result_urls at 0x1309a42e0>"
      ]
     },
     "execution_count": 34,
     "metadata": {},
     "output_type": "execute_result"
    }
   ],
   "source": [
    "# urls = harmony_client.result_urls(salinity_job_id, show_progress=True)\n",
    "# urls"
   ]
  },
  {
   "cell_type": "code",
   "execution_count": 7,
   "metadata": {
    "tags": []
   },
   "outputs": [
    {
     "name": "stdout",
     "output_type": "stream",
     "text": [
      "/tmp/SNDR.J1.CRIMSS.20180217T0000.m06.g001.L2_CLIMCAPS_RET.std.v02_28.G.200221153452_mol_lay_o3_mol_lay_subsetted.nc4\n",
      "/tmp/SNDR.J1.CRIMSS.20180217T0018.m06.g004.L2_CLIMCAPS_RET.std.v02_28.G.200221153452_mol_lay_o3_mol_lay_subsetted.nc4\n"
     ]
    },
    {
     "data": {
      "text/plain": [
       "['/tmp/SNDR.J1.CRIMSS.20180217T0000.m06.g001.L2_CLIMCAPS_RET.std.v02_28.G.200221153452_mol_lay_o3_mol_lay_subsetted.nc4',\n",
       " '/tmp/SNDR.J1.CRIMSS.20180217T0018.m06.g004.L2_CLIMCAPS_RET.std.v02_28.G.200221153452_mol_lay_o3_mol_lay_subsetted.nc4']"
      ]
     },
     "execution_count": 7,
     "metadata": {},
     "output_type": "execute_result"
    }
   ],
   "source": [
    "results = harmony_client.download_all(ozone_job_id, directory='/tmp', overwrite=True)\n",
    "file_names = [f.result() for f in results]\n",
    "file_names"
   ]
  },
  {
   "cell_type": "code",
   "execution_count": 8,
   "metadata": {
    "tags": []
   },
   "outputs": [
    {
     "data": {
      "text/plain": [
       "<class 'netCDF4._netCDF4.Dataset'>\n",
       "root group (NETCDF4 data model, file format HDF5):\n",
       "    keywords: ATMOSPHERE > ATMOSPHERIC TEMPERATURE > UPPER AIR TEMPERATURE, ATMOSPHERE > ATMOSPHERIC WATER VAPOR > WATER VAPOR\n",
       "    Conventions: CF-1.6, ACDD-1.3\n",
       "    source: CrIS and ATMS instrument telemetry\n",
       "    processing_level: 2\n",
       "    product_name_type_id: L2_CLIMCAPS_RET_NSR\n",
       "    comment: \n",
       "    acknowledgment: Support for this research was provided by NASA.\n",
       "    standard_name_vocabulary: CF Standard Name Table v28\n",
       "    project: Sounder SIPS\n",
       "    product_name_project: SNDR\n",
       "    geospatial_bounds_crs: EPSG:4326\n",
       "    time_coverage_duration: P0000-00-00T00:06:00\n",
       "    product_name_duration: m06\n",
       "    creator_type: institution\n",
       "    keywords_vocabulary: GCMD:GCMD Keywords\n",
       "    platform: JPSS-1 > Joint Polar Satellite System - 1\n",
       "    platform_vocabulary: GCMD:GCMD Keywords\n",
       "    product_name_platform: J1\n",
       "    instrument: CRIMSS > Cross-track Infrared and Advanced Technology Microwave Sounders, CrIS > Cross-track Infrared Sounder, ATMS > Advanced Technology Microwave Sounder\n",
       "    instrument_vocabulary: GCMD:GCMD Keywords\n",
       "    product_name_instr: CRIMSS\n",
       "    product_name_extension: nc\n",
       "    featureType: point\n",
       "    data_structure: swath\n",
       "    cdm_data_type: Swath\n",
       "    format_version: v02.01.06\n",
       "    title: Level-2 CLIMCAPS JPSS-1 CrIMSS\n",
       "    summary: The Level-2 CLIMCAPS product includes atmospheric state retrieval products from the CLIMCAPS algorithm for one six-minute interval.  These include temperature and water vapor profiles as well as cloud and surface products and minor gases.\n",
       "    shortname: SNDRJ1IML2CCPRET\n",
       "    product_group: l2_crimss\n",
       "    references: \n",
       "    contributor_name: Christopher D. Barnet, STC; L. Larrabee Strow, UMBC; Philip W. Rosenkranz, MIT\n",
       "    contributor_role: Retrieval PI; Forward Model PI; Microwave PI\n",
       "    history: Created on 2020-02-21 by L2 CLIMCAPS RETRIEVAL PGE at Sounder SIPS: GES DISC\n",
       "2020-02-21T15:34:52 s4pmops crimss_postproc.pro v015a gran=20180217T0000\n",
       "2023-07-10 17:29:27.177615 l2ss-py v2.3.0a4 (bbox=[[-180, 180], [-90, 90]] cut=True)\n",
       "    license: Freely Distributed\n",
       "    date_created: 2020-02-21T15:34:52\n",
       "    creator_name: Goddard Space Flight Center - National Aeronautics and Space Administration\n",
       "    creator_email: gsfc-help-disc@lists.nasa.gov\n",
       "    creator_url: http://disc.sci.gsfc.nasa.gov/\n",
       "    institution: Goddard Space Flight Center - National Aeronautics and Space Administration\n",
       "    publisher_name: Goddard Earth Science Data and Information Services Center\n",
       "    publisher_email: gsfc-help-disc@lists.nasa.gov\n",
       "    publisher_url: http://disc.sci.gsfc.nasa.gov/\n",
       "    geospatial_bounds: POLYGON ((34.25 39.09, 37.49 15.64, 16.62 12.24, 13.96 31.86, 34.25 39.09))\n",
       "    geospatial_lat_min: 13.87782\n",
       "    geospatial_lat_max: 37.648052\n",
       "    geospatial_lon_min: 11.884608\n",
       "    geospatial_lon_max: 39.388844\n",
       "    time_coverage_start: 2018-02-17T00:00:00Z\n",
       "    time_of_first_valid_obs: 2018-02-17T00:00:00.166965Z\n",
       "    time_coverage_mid: 2018-02-17T00:03:00Z\n",
       "    time_coverage_end: 2018-02-17T00:06:00Z\n",
       "    time_of_last_valid_obs: 2018-02-17T00:06:00.166965Z\n",
       "    creator_institution: Goddard Space Flight Center - National Aeronautics and Space Administration\n",
       "    product_version: v02.28.02\n",
       "    product_name: SNDR.J1.CRIMSS.20180217T0000.m06.g001.L2_CLIMCAPS_RET.std.v02_28.G.200221153452.nc\n",
       "    product_name_variant: std\n",
       "    product_name_version: v02_28\n",
       "    product_name_producer: G\n",
       "    product_name_timestamp: 200221153452\n",
       "    granule_number: 1\n",
       "    product_name_granule_number: g001\n",
       "    gran_id: 20180217T0000\n",
       "    geospatial_lat_mid: 26.011791\n",
       "    geospatial_lon_mid: 24.71358\n",
       "    id: 10.5067/LESQUBLWS18H\n",
       "    naming_authority: http://dx.doi.org/\n",
       "    identifier_product_doi: 10.5067/LESQUBLWS18H\n",
       "    identifier_product_doi_authority: http://dx.doi.org/\n",
       "    algorithm_version: CLIMCAPS v02.00.02  NOAA-20 CrIS+ATMS\n",
       "    production_host: Linux ac23-local 3.10.0-1062.9.1.el7.x86_64 #1 SMP Fri Dec 6 15:49:49 UTC 2019 x86_64 x86_64 x86_64 GNU/Linux\n",
       "    input_file_names: SNDR.J1.CRIS.20180217T0000.m06.g001.L1B.std.v02_11.G.181130184959.nc; SNDR.J1.ATMS.20180216T2354.m06.g240.L1B.std.v02_11.G.181213215530.nc; SNDR.J1.ATMS.20180217T0000.m06.g001.L1B.std.v02_11.G.181213204411.nc; SNDR.J1.ATMS.20180217T0006.m06.g002.L1B.std.v02_11.G.181213204410.nc; MERRA2_400.inst3_3d_asm_Nv.20180216.nc4; MERRA2_400.inst3_3d_asm_Nv.20180217.nc4; MERRA2_400.inst3_3d_asm_Nv.20180218.nc4; j1_l2_climcaps_crimss.nc; j1_l2_climcaps_crimss_cc.nc; gblav.PGrb2F03.180217.00z; gblav.PGrb2F06.180217.00z; gblav.PGrb2F09.180217.00z; gblav.PGrb2F03.180217.06z; gblav.PGrb2F06.180217.06z; gblav.PGrb2F09.180217.06z; gblav.PGrb2F03.180216.18z; gblav.PGrb2F06.180216.18z; gblav.PGrb2F09.180216.18z\n",
       "    input_file_types: CRIS_L1B; ATMS_L1B; ATMS_L1B; ATMS_L1B; MERRA; MERRA; MERRA; RET_TEMPLATE; CCR_TEMPLATE; GFS_F03; GFS_F06; GFS_F09; GFS_F03; GFS_F06; GFS_F09; GFS_F03; GFS_F06; GFS_F09\n",
       "    input_file_dates: 2018-11-30; 2018-12-13; 2018-12-13; 2018-12-13; Unknown; Unknown; Unknown; Unassigned; Unassigned; 2018-02-17; 2018-02-17; 2018-02-17; 2018-02-17; 2018-02-17; 2018-02-17; 2018-02-17; 2018-02-17; 2018-02-17\n",
       "    orbitDirection: Descending\n",
       "    day_night_flag: Night\n",
       "    AutomaticQualityFlag: Passed\n",
       "    qa_pct_data_missing: 0.0\n",
       "    qa_pct_data_geo: 100.0\n",
       "    qa_pct_data_sci_mode: 100.0\n",
       "    qa_no_data: FALSE\n",
       "    metadata_link: http://disc.sci.gsfc.nasa.gov/\n",
       "    history_json: [{\"date_time\": \"2023-07-10T17:29:27.178237+00:00\", \"derived_from\": \"https://data.gesdisc.uat.earthdata.nasa.gov/data/JPSS1_Sounder_Level2/SNDRJ1IML2CCPRET.2/2018/048/SNDR.J1.CRIMSS.20180217T0000.m06.g001.L2_CLIMCAPS_RET.std.v02_28.G.200221153452.nc\", \"program\": \"l2ss-py\", \"version\": \"2.3.0a4\", \"parameters\": \"bbox=[[-180, 180], [-90, 90]] cut=True\", \"program_ref\": \"https://cmr.earthdata.nasa.gov:443/search/concepts/S1962070864-POCLOUD\", \"$schema\": \"https://harmony.earthdata.nasa.gov/schemas/history/0.1.0/history-v0.1.0.json\"}]\n",
       "    dimensions(sizes): atrack(45), xtrack(30), utc_tuple(8)\n",
       "    variables(dimensions): float64 obs_time_tai93(atrack, xtrack), uint16 obs_time_utc(atrack, xtrack, utc_tuple), float32 lat(atrack, xtrack), float32 lon(atrack, xtrack)\n",
       "    groups: "
      ]
     },
     "execution_count": 8,
     "metadata": {},
     "output_type": "execute_result"
    }
   ],
   "source": [
    "ds = nc.Dataset(file_names[0])\n",
    "ds"
   ]
  },
  {
   "cell_type": "code",
   "execution_count": 37,
   "metadata": {
    "tags": []
   },
   "outputs": [
    {
     "ename": "IndexError",
     "evalue": "anc_sss not found in /",
     "output_type": "error",
     "traceback": [
      "\u001b[0;31m---------------------------------------------------------------------------\u001b[0m",
      "\u001b[0;31mIndexError\u001b[0m                                Traceback (most recent call last)",
      "Cell \u001b[0;32mIn[37], line 1\u001b[0m\n\u001b[0;32m----> 1\u001b[0m salinity \u001b[38;5;241m=\u001b[39m \u001b[43mds\u001b[49m\u001b[43m[\u001b[49m\u001b[38;5;124;43m'\u001b[39;49m\u001b[38;5;124;43manc_sss\u001b[39;49m\u001b[38;5;124;43m'\u001b[39;49m\u001b[43m]\u001b[49m[:]\n",
      "File \u001b[0;32msrc/netCDF4/_netCDF4.pyx:2517\u001b[0m, in \u001b[0;36mnetCDF4._netCDF4.Dataset.__getitem__\u001b[0;34m()\u001b[0m\n",
      "\u001b[0;31mIndexError\u001b[0m: anc_sss not found in /"
     ]
    }
   ],
   "source": [
    "ozone = ds[''][:]"
   ]
  },
  {
   "cell_type": "code",
   "execution_count": 28,
   "metadata": {
    "tags": []
   },
   "outputs": [
    {
     "name": "stdout",
     "output_type": "stream",
     "text": [
      "<class 'netCDF4._netCDF4.Variable'>\n",
      "int32 lat(time)\n",
      "    long_name: latitude\n",
      "    standard_name: latitude\n",
      "    units: degrees_north\n",
      "    quality_flag: orb_state_flag_rest\n",
      "    scale_factor: 1e-06\n",
      "    comment: Positive latitude is North latitude, negative latitude is South latitude. See Jason-1 User Handbook.\n",
      "unlimited dimensions: \n",
      "current shape = (2707,)\n",
      "filling on, default _FillValue of -2147483647 used\n",
      "<class 'netCDF4._netCDF4.Variable'>\n",
      "int32 lon(time)\n",
      "    long_name: longitude\n",
      "    standard_name: longitude\n",
      "    units: degrees_east\n",
      "    quality_flag: orb_state_flag_rest\n",
      "    scale_factor: 1e-06\n",
      "    comment: East longitude relative to Greenwich meridian. See Jason-1 User Handbook.\n",
      "unlimited dimensions: \n",
      "current shape = (2707,)\n",
      "filling on, default _FillValue of -2147483647 used\n",
      "<class 'netCDF4._netCDF4.Variable'>\n",
      "float64 time(time)\n",
      "    _FillValue: nan\n",
      "    long_name: time (sec. since 2000-01-01)\n",
      "    standard_name: time\n",
      "    calendar: gregorian\n",
      "    tai_utc_difference: 33.0\n",
      "    leap_second: 0000-00-00 00:00:00\n",
      "    units: seconds since 2000-01-01 00:00:00.0\n",
      "    comment: [tai_utc_difference] is the difference between TAI - UTC (i.e., leap seconds) for the first measurement of the data set. [leap_second] is the UTC time at which a leap second occurs in the data set, if any. After this UTC time, the [tai_utc_difference] is increased by 1 second. time variable is corrected from datation bias. See Jason-1 User handbook.\n",
      "unlimited dimensions: \n",
      "current shape = (2707,)\n",
      "filling on\n"
     ]
    }
   ],
   "source": [
    "for var in ds.variables.values():\n",
    "    print(var)"
   ]
  },
  {
   "cell_type": "code",
   "execution_count": null,
   "metadata": {},
   "outputs": [],
   "source": []
  }
 ],
 "metadata": {
  "kernelspec": {
   "display_name": "Python 3 (ipykernel)",
   "language": "python",
   "name": "python3"
  },
  "language_info": {
   "codemirror_mode": {
    "name": "ipython",
    "version": 3
   },
   "file_extension": ".py",
   "mimetype": "text/x-python",
   "name": "python",
   "nbconvert_exporter": "python",
   "pygments_lexer": "ipython3",
   "version": "3.10.4"
  }
 },
 "nbformat": 4,
 "nbformat_minor": 4
}

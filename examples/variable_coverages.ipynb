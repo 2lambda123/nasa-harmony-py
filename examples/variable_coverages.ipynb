{
 "cells": [
  {
   "cell_type": "markdown",
   "metadata": {},
   "source": [
    "## Harmony Py Library\n",
    "### Variable Coverages Example"
   ]
  },
  {
   "cell_type": "code",
   "execution_count": null,
   "metadata": {
    "tags": []
   },
   "outputs": [],
   "source": [
    "import helper\n",
    "import json\n",
    "import sys\n",
    "sys.path.append('..')\n",
    "\n",
    "# Install harmony-py requirements.  Not necessary if you ran `pip install harmony-py` in your kernel  \n",
    "!{sys.executable} -m pip install -q -r ../requirements/core.txt\n",
    "\n",
    "from harmony import BBox, Client, Variable, VariableCoveragesRequest, Environment"
   ]
  },
  {
   "cell_type": "markdown",
   "metadata": {},
   "source": [
    "#### Submit a Variable Coverages request"
   ]
  },
  {
   "cell_type": "code",
   "execution_count": null,
   "metadata": {},
   "outputs": [],
   "source": [
    "harmony_client = Client(env=Environment.LOCAL)\n",
    "\n",
    "var1 = Variable(id='V1233801695-EEDTEST')\n",
    "var2 = Variable(id='V1233801696-EEDTEST')\n",
    "\n",
    "variable_request = VariableCoveragesRequest(\n",
    "    variables=[var1, var2],\n",
    "    spatial=BBox(-140, 20, -50, 40),\n",
    "    crs='EPSG:31975',\n",
    "    format='image/png',\n",
    "    max_results=1\n",
    ")\n",
    "\n",
    "job_id = harmony_client.submit(variable_request)"
   ]
  },
  {
   "cell_type": "markdown",
   "metadata": {},
   "source": [
    "#### Download and show the png file in result"
   ]
  },
  {
   "cell_type": "code",
   "execution_count": null,
   "metadata": {
    "tags": []
   },
   "outputs": [],
   "source": [
    "import warnings\n",
    "\n",
    "# Disable all warnings\n",
    "warnings.filterwarnings(\"ignore\")\n",
    "\n",
    "for filename in [f.result() for f in harmony_client.download_all(job_id)]:\n",
    "    if filename.endswith(\"png\"):\n",
    "        helper.show_result(filename)"
   ]
  }
 ],
 "metadata": {
  "kernelspec": {
   "display_name": "Python 3 (ipykernel)",
   "language": "python",
   "name": "python3"
  },
  "language_info": {
   "codemirror_mode": {
    "name": "ipython",
    "version": 3
   },
   "file_extension": ".py",
   "mimetype": "text/x-python",
   "name": "python",
   "nbconvert_exporter": "python",
   "pygments_lexer": "ipython3",
   "version": "3.11.2"
  }
 },
 "nbformat": 4,
 "nbformat_minor": 4
}

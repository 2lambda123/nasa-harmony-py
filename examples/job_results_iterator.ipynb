{
 "cells": [
  {
   "cell_type": "markdown",
   "metadata": {},
   "source": [
    "## Harmony Py Library\n",
    "### Job Results Iterator Example"
   ]
  },
  {
   "cell_type": "code",
   "execution_count": 1,
   "metadata": {},
   "outputs": [],
   "source": [
    "import sys\n",
    "sys.path.append('..')\n",
    "\n",
    "# Install harmony-py requirements.  Not necessary if you ran `pip install harmony-py` in your kernel  \n",
    "!{sys.executable} -m pip install -q -r ../requirements/core.txt\n",
    "\n",
    "import concurrent.futures\n",
    "from harmony import BBox, Client, Collection, Request, Environment\n"
   ]
  },
  {
   "cell_type": "code",
   "execution_count": 2,
   "metadata": {},
   "outputs": [],
   "source": [
    "harmony_client = Client(env=Environment.UAT)  # assumes .netrc usage\n",
    "\n",
    "collection = Collection(id='C1234088182-EEDTEST')\n",
    "request = Request(\n",
    "    collection=collection,\n",
    "    spatial=BBox(-165, 52, -140, 77)\n",
    ")\n"
   ]
  },
  {
   "cell_type": "code",
   "execution_count": 3,
   "metadata": {},
   "outputs": [
    {
     "data": {
      "text/plain": [
       "'4d3e3250-f18b-49fd-8319-5d96c8adf9b9'"
      ]
     },
     "execution_count": 3,
     "metadata": {},
     "output_type": "execute_result"
    }
   ],
   "source": [
    "# submit an async request for processing and return the job_id\n",
    "job_id = harmony_client.submit(request)\n",
    "job_id\n"
   ]
  },
  {
   "cell_type": "code",
   "execution_count": 4,
   "metadata": {},
   "outputs": [],
   "source": [
    "iter = harmony_client.iterator(job_id, '/tmp/job_results_iter', True)\n",
    "futures = list(map(lambda x: x['path'], iter))\n",
    "(done_futures, _) = concurrent.futures.wait(futures)\n",
    "for f in done_futures:\n",
    "  path = f.result()\n",
    "  print(path)"
   ]
  },
  {
   "cell_type": "code",
   "execution_count": 5,
   "metadata": {},
   "outputs": [
    {
     "name": "stdout",
     "output_type": "stream",
     "text": [
      "https://harmony.uat.earthdata.nasa.gov/jobs/4d3e3250-f18b-49fd-8319-5d96c8adf9b9?linktype=https\n",
      "2020_01_01_7f00ff_global_subsetted.nc.tif\n",
      "2020_01_02_3200ff_global_subsetted.nc.tif\n",
      "2020_01_11_7fff00_global_subsetted.nc.tif\n",
      "2020_01_12_cbff00_global_subsetted.nc.tif\n",
      "2020_01_13_ffe500_global_subsetted.nc.tif\n",
      "2020_01_14_ff9900_global_subsetted.nc.tif\n",
      "2020_01_15_ff4c00_global_subsetted.nc.tif\n",
      "2020_01_16_ff0000_global_subsetted.nc.tif\n",
      "2020_08_01_7f00ff_north_america_subsetted.nc.tif\n",
      "2020_08_02_3200ff_north_america_subsetted.nc.tif\n",
      "2020_08_03_0019ff_north_america_subsetted.nc.tif\n",
      "2020_08_04_0065ff_north_america_subsetted.nc.tif\n",
      "2020_01_03_0019ff_global_subsetted.nc.tif\n",
      "2020_08_05_00b2ff_north_america_subsetted.nc.tif\n",
      "2020_08_06_00feff_north_america_subsetted.nc.tif\n",
      "2020_08_07_00ffb2_north_america_subsetted.nc.tif\n",
      "2020_08_08_00ff66_north_america_subsetted.nc.tif\n",
      "2020_08_09_00ff19_north_america_subsetted.nc.tif\n",
      "2020_08_10_32ff00_north_america_subsetted.nc.tif\n",
      "2020_08_11_7fff00_north_america_subsetted.nc.tif\n",
      "2020_08_12_cbff00_north_america_subsetted.nc.tif\n",
      "2020_08_13_ffe500_north_america_subsetted.nc.tif\n",
      "2020_08_14_ff9900_north_america_subsetted.nc.tif\n"
     ]
    }
   ],
   "source": [
    "# We can iterator over the results without waiting for the job to complete before downloading\n",
    "# the first results\n",
    "# iter = harmony_client.iterator(job_id, '', True)\n",
    "# for result in iter:\n",
    "#   # print the file name\n",
    "#   path_future = result['path']\n",
    "#   path = path_future.result()\n",
    "#   print(path)"
   ]
  },
  {
   "cell_type": "code",
   "execution_count": null,
   "metadata": {},
   "outputs": [],
   "source": []
  }
 ],
 "metadata": {
  "kernelspec": {
   "display_name": "Python 3.7.6 64-bit ('base': conda)",
   "language": "python",
   "name": "python3"
  },
  "language_info": {
   "codemirror_mode": {
    "name": "ipython",
    "version": 3
   },
   "file_extension": ".py",
   "mimetype": "text/x-python",
   "name": "python",
   "nbconvert_exporter": "python",
   "pygments_lexer": "ipython3",
   "version": "3.7.6"
  },
  "vscode": {
   "interpreter": {
    "hash": "691e87652ceac3c5099314ecb0538ffe7a8fdf4c87c30f290964dc685c42c47b"
   }
  }
 },
 "nbformat": 4,
 "nbformat_minor": 4
}

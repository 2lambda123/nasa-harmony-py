{
 "cells": [
  {
   "cell_type": "markdown",
   "metadata": {},
   "source": [
    "## Harmony Py Library\n",
    "### Job Results Iterator Example"
   ]
  },
  {
   "cell_type": "code",
   "execution_count": null,
   "metadata": {},
   "outputs": [],
   "source": [
    "import sys\n",
    "sys.path.append('..')\n",
    "\n",
    "# Install harmony-py requirements.  Not necessary if you ran `pip install harmony-py` in your kernel  \n",
    "!{sys.executable} -m pip install -q -r ../requirements/core.txt\n",
    "\n",
    "import concurrent.futures\n",
    "import os\n",
    "from harmony import BBox, Client, Collection, Request, Environment\n"
   ]
  },
  {
   "cell_type": "code",
   "execution_count": null,
   "metadata": {},
   "outputs": [],
   "source": [
    "harmony_client = Client(env=Environment.UAT)  # assumes .netrc usage\n",
    "\n",
    "collection = Collection(id='C1234088182-EEDTEST')\n",
    "request = Request(\n",
    "    collection=collection,\n",
    "    spatial=BBox(-165, 52, -140, 77)\n",
    ")\n"
   ]
  },
  {
   "cell_type": "code",
   "execution_count": null,
   "metadata": {},
   "outputs": [],
   "source": [
    "# submit an async request for processing and return the job_id\n",
    "job_id = harmony_client.submit(request)\n",
    "job_id\n"
   ]
  },
  {
   "cell_type": "code",
   "execution_count": null,
   "metadata": {},
   "outputs": [],
   "source": [
    "# We can iterate over the results which will cause them to download in parallel while the job is running\n",
    "# the first argument to `iterator()` is the ID of the job we want\n",
    "# the second argument is the path where we want to download the files\n",
    "# the third argument is whether or not we want to overwrite files - this defaults to False which\n",
    "# speeds up processing by not re-downloading files that have already been downloaded\n",
    "iter = harmony_client.iterator(job_id, '', True)\n",
    "# grab all the futures that are downloading the files\n",
    "futures = list(map(lambda x: x['path'], iter))\n",
    "# wait for all the futures to complete\n",
    "(done_futures, _) = concurrent.futures.wait(futures)\n",
    "#iterate of the futures to get the file paths\n",
    "for f in done_futures:\n",
    "  path = f.result()\n",
    "  print(path)"
   ]
  },
  {
   "cell_type": "code",
   "execution_count": null,
   "metadata": {},
   "outputs": [],
   "source": [
    "# submit another async request for processing and return the job_id\n",
    "job_id = harmony_client.submit(request)\n",
    "job_id"
   ]
  },
  {
   "cell_type": "code",
   "execution_count": null,
   "metadata": {},
   "outputs": [],
   "source": [
    "# We can iterator over the results without waiting for the job to complete before downloading\n",
    "# the first results. This is slower because we don't start downloading a file until we have\n",
    "# finished downloading the previous file, but it is still faster than `download_all` because\n",
    "# `download_all` waits for the job to complete before starting downloads. Also, this approach\n",
    "# allows us to peak at the files as they come in, rather than waiting for everything to finish\n",
    "# downloading as we did above.\n",
    "iter = harmony_client.iterator(job_id, '', True)\n",
    "for result in iter:\n",
    "  # print the file name\n",
    "  path_future = result['path']\n",
    "  path = path_future.result()\n",
    "  print(path)"
   ]
  },
  {
   "cell_type": "code",
   "execution_count": null,
   "metadata": {},
   "outputs": [],
   "source": []
  }
 ],
 "metadata": {
  "kernelspec": {
   "display_name": "Python 3.7.6 64-bit ('base': conda)",
   "language": "python",
   "name": "python3"
  },
  "language_info": {
   "codemirror_mode": {
    "name": "ipython",
    "version": 3
   },
   "file_extension": ".py",
   "mimetype": "text/x-python",
   "name": "python",
   "nbconvert_exporter": "python",
   "pygments_lexer": "ipython3",
   "version": "3.7.6"
  },
  "vscode": {
   "interpreter": {
    "hash": "691e87652ceac3c5099314ecb0538ffe7a8fdf4c87c30f290964dc685c42c47b"
   }
  }
 },
 "nbformat": 4,
 "nbformat_minor": 4
}

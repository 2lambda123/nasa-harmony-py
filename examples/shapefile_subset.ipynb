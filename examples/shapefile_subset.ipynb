{
 "cells": [
  {
   "cell_type": "markdown",
   "metadata": {},
   "source": [
    "## Harmony Py Library\n",
    "### Shapefile Subsetting Example"
   ]
  },
  {
   "source": [
    "Set up a harmony client pointing to UAT"
   ],
   "cell_type": "markdown",
   "metadata": {}
  },
  {
   "cell_type": "code",
   "execution_count": null,
   "metadata": {},
   "outputs": [],
   "source": [
    "import sys\n",
    "sys.path.append('..')\n",
    "from harmony import BBox, Client, Collection, Request, Environment\n",
    "\n",
    "harmony_client = Client(env=Environment.UAT)"
   ]
  },
  {
   "source": [
    "Perform a shapefile subsetting request on a supported collection by passing the path to a GeoJSON file (*.json or *.geojson), an ESRI Shapefile (*.zip or *.shz), or a kml file (*.kml) as the \"shape\" parameter"
   ],
   "cell_type": "markdown",
   "metadata": {}
  },
  {
   "cell_type": "code",
   "execution_count": null,
   "metadata": {},
   "outputs": [],
   "source": [
    "shapefile_collection = Collection(id='C1233629671-ASF')\n",
    "\n",
    "request = Request(\n",
    "    collection=shapefile_collection,\n",
    "    variables=['Band1'],\n",
    "    shape='./asf_example.json'\n",
    ")\n"
   ]
  },
  {
   "source": [
    "Wait for processing and then view the output"
   ],
   "cell_type": "markdown",
   "metadata": {}
  },
  {
   "cell_type": "code",
   "execution_count": null,
   "metadata": {},
   "outputs": [],
   "source": [
    "job_id = harmony_client.submit(request)\n",
    "\n",
    "print(f'jobID = {job_id}')\n",
    "harmony_client.wait_for_processing(job_id, show_progress=True)"
   ]
  },
  {
   "cell_type": "code",
   "execution_count": null,
   "metadata": {},
   "outputs": [],
   "source": [
    "import helper\n",
    "for filename in [f.result() for f in harmony_client.download_all(job_id)]:\n",
    "    helper.show_result(filename)"
   ]
  }
 ],
 "metadata": {
  "kernelspec": {
   "display_name": "Python 3",
   "language": "python",
   "name": "python3"
  },
  "language_info": {
   "codemirror_mode": {
    "name": "ipython",
    "version": 3
   },
   "file_extension": ".py",
   "mimetype": "text/x-python",
   "name": "python",
   "nbconvert_exporter": "python",
   "pygments_lexer": "ipython3",
   "version": "3.8.2"
  }
 },
 "nbformat": 4,
 "nbformat_minor": 4
}
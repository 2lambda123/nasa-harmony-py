{
 "cells": [
  {
   "cell_type": "markdown",
   "metadata": {},
   "source": [
    "## Harmony Py Library\n",
    "### Job Pause/Resume Example"
   ]
  },
  {
   "cell_type": "code",
   "execution_count": 1,
   "metadata": {},
   "outputs": [],
   "source": [
    "import sys\n",
    "sys.path.append('..')\n",
    "\n",
    "# Install harmony-py requirements.  Not necessary if you ran `pip install harmony-py` in your kernel  \n",
    "!{sys.executable} -m pip install -q -r ../requirements/core.txt\n",
    "\n",
    "from harmony import BBox, Client, Collection, Request, Environment"
   ]
  },
  {
   "cell_type": "code",
   "execution_count": 2,
   "metadata": {},
   "outputs": [],
   "source": [
    "harmony_client = Client(env=Environment.UAT)  # assumes .netrc usage\n",
    "\n",
    "collection = Collection(id='C1234088182-EEDTEST')\n",
    "request = Request(\n",
    "    collection=collection,\n",
    "    max_results=101\n",
    ")"
   ]
  },
  {
   "cell_type": "code",
   "execution_count": 3,
   "metadata": {},
   "outputs": [],
   "source": [
    "# submit an async request for processing and return the job_id\n",
    "# big requests get automatically paused after generating a preview of the results\n",
    "job_id = harmony_client.submit(request)"
   ]
  },
  {
   "cell_type": "code",
   "execution_count": 4,
   "metadata": {},
   "outputs": [
    {
     "data": {
      "text/plain": [
       "{'status': 'previewing',\n",
       " 'message': 'The job is generating a preview before auto-pausing. CMR query identified 176 granules, but the request has been limited to process only the first 101 granules because you requested 101 maxResults.',\n",
       " 'progress': 0,\n",
       " 'created_at': datetime.datetime(2022, 5, 6, 16, 56, 6, 792000, tzinfo=tzutc()),\n",
       " 'updated_at': datetime.datetime(2022, 5, 6, 16, 56, 7, 356000, tzinfo=tzutc()),\n",
       " 'created_at_local': '2022-05-06T12:56:06-04:00',\n",
       " 'updated_at_local': '2022-05-06T12:56:07-04:00',\n",
       " 'request': 'https://harmony.uat.earthdata.nasa.gov/C1234088182-EEDTEST/ogc-api-coverages/1.0.0/collections/all/coverage/rangeset?forceAsync=true&maxResults=101',\n",
       " 'num_input_granules': 101}"
      ]
     },
     "execution_count": 4,
     "metadata": {},
     "output_type": "execute_result"
    }
   ],
   "source": [
    "# checking the status of the job we see that it is 'paused'\n",
    "harmony_client.status(job_id)"
   ]
  },
  {
   "cell_type": "code",
   "execution_count": 5,
   "metadata": {},
   "outputs": [
    {
     "name": "stderr",
     "output_type": "stream",
     "text": [
      " [ Processing:   0% ] |                                                   | [\\]\n",
      "Job has been paused.\n",
      " [ Processing: 100% ] |###################################################| [|]\n"
     ]
    }
   ],
   "source": [
    "# 'wait_for_processing()' will wait will the job is in the 'previewing' state then\n",
    "# warns that the job is paused before exiting\n",
    "harmony_client.wait_for_processing(job_id, show_progress=True)"
   ]
  },
  {
   "cell_type": "code",
   "execution_count": null,
   "metadata": {},
   "outputs": [],
   "source": [
    "# checking the status we see that the job is paused\n",
    "harmony_client.status(job_id)"
   ]
  },
  {
   "cell_type": "code",
   "execution_count": null,
   "metadata": {},
   "outputs": [],
   "source": [
    "# 'result_json()' will not wait for paused jobs and just returns any available results.\n",
    "results = harmony_client.download_all(job_id, directory='/tmp', overwrite=True)\n",
    "count = 0\n",
    "for r in results:\n",
    "    count += 1\n",
    "print(f'Got {count} results')"
   ]
  },
  {
   "cell_type": "code",
   "execution_count": null,
   "metadata": {},
   "outputs": [],
   "source": [
    "# we can resume the job with 'resume()'\n",
    "harmony_client.resume(job_id)"
   ]
  },
  {
   "cell_type": "code",
   "execution_count": null,
   "metadata": {},
   "outputs": [],
   "source": [
    "# checking the status we see that the job is running again\n",
    "harmony_client.status(job_id)"
   ]
  },
  {
   "cell_type": "code",
   "execution_count": null,
   "metadata": {},
   "outputs": [],
   "source": [
    "# we can pause the job with 'pause()'.\n",
    "harmony_client.pause(job_id)"
   ]
  },
  {
   "cell_type": "code",
   "execution_count": null,
   "metadata": {},
   "outputs": [],
   "source": [
    "# checking the status we see that the job is paused again\n",
    "harmony_client.status(job_id)"
   ]
  },
  {
   "cell_type": "code",
   "execution_count": null,
   "metadata": {},
   "outputs": [],
   "source": [
    "# We can resume the job again\n",
    "harmony_client.resume(job_id)"
   ]
  },
  {
   "cell_type": "code",
   "execution_count": null,
   "metadata": {},
   "outputs": [],
   "source": [
    "# 'wait_for_processing()' will show resumed progress\n",
    "harmony_client.wait_for_processing(job_id, show_progress=True)"
   ]
  },
  {
   "cell_type": "code",
   "execution_count": null,
   "metadata": {},
   "outputs": [],
   "source": [
    "# 'download_all()' now has access to the full results\n",
    "results = harmony_client.download_all(job_id, directory='/tmp', overwrite=True)\n",
    "count = 0\n",
    "for r in results:\n",
    "    count += 1\n",
    "print(f'Got {count} results')"
   ]
  },
  {
   "cell_type": "code",
   "execution_count": null,
   "metadata": {},
   "outputs": [],
   "source": [
    "# Attempting to pause a completed job will result in an error\n",
    "harmony_client.pause(job_id)"
   ]
  },
  {
   "cell_type": "code",
   "execution_count": null,
   "metadata": {},
   "outputs": [],
   "source": [
    "# Attempting to resume a completed job will also result in an error\n",
    "harmony_client.resume(job_id)"
   ]
  },
  {
   "cell_type": "code",
   "execution_count": null,
   "metadata": {},
   "outputs": [],
   "source": [
    "# we can use the 'skip_preview' parameter to tell Harmony to skip the auto-pause/preview and just start running\n",
    "harmony_client = Client(env=Environment.UAT)  # assumes .netrc usage\n",
    "\n",
    "collection = Collection(id='C1234088182-EEDTEST')\n",
    "request = Request(\n",
    "    collection=collection,\n",
    "    max_results=101,\n",
    "    skip_preview=True\n",
    ")"
   ]
  },
  {
   "cell_type": "code",
   "execution_count": null,
   "metadata": {},
   "outputs": [],
   "source": [
    "# submit an async request for processing and return the job_id\n",
    "# big requests get automatically paused after generating a preview of the results\n",
    "job_id = harmony_client.submit(request)"
   ]
  },
  {
   "cell_type": "code",
   "execution_count": null,
   "metadata": {},
   "outputs": [],
   "source": [
    "# checking the status we see that the job is running\n",
    "harmony_client.status(job_id)"
   ]
  },
  {
   "cell_type": "code",
   "execution_count": null,
   "metadata": {},
   "outputs": [],
   "source": [
    "# we can now use'wait_for_processing()' to wait until the job completes\n",
    "harmony_client.wait_for_processing(job_id, show_progress=True)"
   ]
  }
 ],
 "metadata": {
  "kernelspec": {
   "display_name": "Python 3 (ipykernel)",
   "language": "python",
   "name": "python3"
  },
  "language_info": {
   "codemirror_mode": {
    "name": "ipython",
    "version": 3
   },
   "file_extension": ".py",
   "mimetype": "text/x-python",
   "name": "python",
   "nbconvert_exporter": "python",
   "pygments_lexer": "ipython3",
   "version": "3.9.5"
  }
 },
 "nbformat": 4,
 "nbformat_minor": 4
}

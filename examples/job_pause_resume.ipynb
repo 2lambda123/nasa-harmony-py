{
 "cells": [
  {
   "cell_type": "markdown",
   "metadata": {},
   "source": [
    "## Harmony Py Library\n",
    "### Job Pause/Resume Example"
   ]
  },
  {
   "cell_type": "code",
   "execution_count": 1,
   "metadata": {},
   "outputs": [],
   "source": [
    "import sys\n",
    "sys.path.append('..')\n",
    "\n",
    "# Install harmony-py requirements.  Not necessary if you ran `pip install harmony-py` in your kernel  \n",
    "!{sys.executable} -m pip install -q -r ../requirements/core.txt\n",
    "\n",
    "from harmony import BBox, Client, Collection, Request, Environment"
   ]
  },
  {
   "cell_type": "code",
   "execution_count": 2,
   "metadata": {},
   "outputs": [],
   "source": [
    "harmony_client = Client(env=Environment.UAT)  # assumes .netrc usage\n",
    "\n",
    "collection = Collection(id='C1234088182-EEDTEST')\n",
    "request = Request(\n",
    "    collection=collection,\n",
    "    max_results=101\n",
    ")"
   ]
  },
  {
   "cell_type": "code",
   "execution_count": 3,
   "metadata": {},
   "outputs": [],
   "source": [
    "# submit an async request for processing and return the job_id\n",
    "# big requests get automatically paused after generating a preview of the results\n",
    "job_id = harmony_client.submit(request)"
   ]
  },
  {
   "cell_type": "code",
   "execution_count": 4,
   "metadata": {},
   "outputs": [
    {
     "data": {
      "text/plain": [
       "{'status': 'previewing',\n",
       " 'message': 'The job is generating a preview before auto-pausing. CMR query identified 176 granules, but the request has been limited to process only the first 101 granules because you requested 101 maxResults.',\n",
       " 'progress': 0,\n",
       " 'created_at': datetime.datetime(2022, 5, 9, 17, 19, 2, 791000, tzinfo=tzutc()),\n",
       " 'updated_at': datetime.datetime(2022, 5, 9, 17, 19, 4, 857000, tzinfo=tzutc()),\n",
       " 'created_at_local': '2022-05-09T13:19:02-04:00',\n",
       " 'updated_at_local': '2022-05-09T13:19:04-04:00',\n",
       " 'request': 'https://harmony.uat.earthdata.nasa.gov/C1234088182-EEDTEST/ogc-api-coverages/1.0.0/collections/all/coverage/rangeset?forceAsync=true&maxResults=101',\n",
       " 'num_input_granules': 101}"
      ]
     },
     "execution_count": 4,
     "metadata": {},
     "output_type": "execute_result"
    }
   ],
   "source": [
    "# checking the status of the job we see that it is 'previewing'\n",
    "harmony_client.status(job_id)"
   ]
  },
  {
   "cell_type": "code",
   "execution_count": 5,
   "metadata": {},
   "outputs": [
    {
     "name": "stderr",
     "output_type": "stream",
     "text": [
      " [ Processing:   0% ] |                                                   | [\\]\n",
      "Job has been paused. Call `resume()` to resume.\n",
      " [ Processing: 100% ] |###################################################| [|]\n"
     ]
    }
   ],
   "source": [
    "# 'wait_for_processing()' will wait while the job is in the 'previewing' state then\n",
    "# warns that the job is paused before exiting\n",
    "harmony_client.wait_for_processing(job_id, show_progress=True)"
   ]
  },
  {
   "cell_type": "code",
   "execution_count": 6,
   "metadata": {},
   "outputs": [
    {
     "data": {
      "text/plain": [
       "{'status': 'paused',\n",
       " 'message': 'The job is paused.',\n",
       " 'progress': 17,\n",
       " 'created_at': datetime.datetime(2022, 5, 9, 17, 19, 2, 791000, tzinfo=tzutc()),\n",
       " 'updated_at': datetime.datetime(2022, 5, 9, 17, 19, 30, 603000, tzinfo=tzutc()),\n",
       " 'created_at_local': '2022-05-09T13:19:02-04:00',\n",
       " 'updated_at_local': '2022-05-09T13:19:30-04:00',\n",
       " 'request': 'https://harmony.uat.earthdata.nasa.gov/C1234088182-EEDTEST/ogc-api-coverages/1.0.0/collections/all/coverage/rangeset?forceAsync=true&maxResults=101',\n",
       " 'num_input_granules': 101}"
      ]
     },
     "execution_count": 6,
     "metadata": {},
     "output_type": "execute_result"
    }
   ],
   "source": [
    "# checking the status we see that the job is paused\n",
    "harmony_client.status(job_id)"
   ]
  },
  {
   "cell_type": "code",
   "execution_count": 7,
   "metadata": {},
   "outputs": [
    {
     "name": "stderr",
     "output_type": "stream",
     "text": [
      "Job has been paused. Call `resume()` to resume.\n"
     ]
    },
    {
     "name": "stdout",
     "output_type": "stream",
     "text": [
      "Got 18 results\n"
     ]
    }
   ],
   "source": [
    "# 'result_json()' will not wait for paused jobs and just returns any available results.\n",
    "results = harmony_client.download_all(job_id, directory='/tmp', overwrite=True)\n",
    "count = 0\n",
    "for r in results:\n",
    "    count += 1\n",
    "print(f'Got {count} results')"
   ]
  },
  {
   "cell_type": "code",
   "execution_count": 8,
   "metadata": {},
   "outputs": [],
   "source": [
    "# we can resume the job with 'resume()'\n",
    "harmony_client.resume(job_id)"
   ]
  },
  {
   "cell_type": "code",
   "execution_count": 9,
   "metadata": {},
   "outputs": [
    {
     "data": {
      "text/plain": [
       "{'status': 'running',\n",
       " 'message': 'The job is being processed',\n",
       " 'progress': 34,\n",
       " 'created_at': datetime.datetime(2022, 5, 9, 17, 19, 2, 791000, tzinfo=tzutc()),\n",
       " 'updated_at': datetime.datetime(2022, 5, 9, 17, 19, 46, 105000, tzinfo=tzutc()),\n",
       " 'created_at_local': '2022-05-09T13:19:02-04:00',\n",
       " 'updated_at_local': '2022-05-09T13:19:46-04:00',\n",
       " 'request': 'https://harmony.uat.earthdata.nasa.gov/C1234088182-EEDTEST/ogc-api-coverages/1.0.0/collections/all/coverage/rangeset?forceAsync=true&maxResults=101',\n",
       " 'num_input_granules': 101}"
      ]
     },
     "execution_count": 9,
     "metadata": {},
     "output_type": "execute_result"
    }
   ],
   "source": [
    "# checking the status we see that the job is running again\n",
    "harmony_client.status(job_id)"
   ]
  },
  {
   "cell_type": "code",
   "execution_count": 10,
   "metadata": {},
   "outputs": [],
   "source": [
    "# we can pause the job with 'pause()'.\n",
    "harmony_client.pause(job_id)"
   ]
  },
  {
   "cell_type": "code",
   "execution_count": 11,
   "metadata": {},
   "outputs": [
    {
     "data": {
      "text/plain": [
       "{'status': 'paused',\n",
       " 'message': 'The job is paused.',\n",
       " 'progress': 47,\n",
       " 'created_at': datetime.datetime(2022, 5, 9, 17, 19, 2, 791000, tzinfo=tzutc()),\n",
       " 'updated_at': datetime.datetime(2022, 5, 9, 17, 19, 51, 334000, tzinfo=tzutc()),\n",
       " 'created_at_local': '2022-05-09T13:19:02-04:00',\n",
       " 'updated_at_local': '2022-05-09T13:19:51-04:00',\n",
       " 'request': 'https://harmony.uat.earthdata.nasa.gov/C1234088182-EEDTEST/ogc-api-coverages/1.0.0/collections/all/coverage/rangeset?forceAsync=true&maxResults=101',\n",
       " 'num_input_granules': 101}"
      ]
     },
     "execution_count": 11,
     "metadata": {},
     "output_type": "execute_result"
    }
   ],
   "source": [
    "# checking the status we see that the job is paused again\n",
    "harmony_client.status(job_id)"
   ]
  },
  {
   "cell_type": "code",
   "execution_count": 12,
   "metadata": {},
   "outputs": [],
   "source": [
    "# We can resume the job again\n",
    "harmony_client.resume(job_id)"
   ]
  },
  {
   "cell_type": "code",
   "execution_count": 13,
   "metadata": {},
   "outputs": [
    {
     "name": "stderr",
     "output_type": "stream",
     "text": [
      " [ Processing: 100% ] |###################################################| [|]\n"
     ]
    }
   ],
   "source": [
    "# 'wait_for_processing()' will show resumed progress\n",
    "harmony_client.wait_for_processing(job_id, show_progress=True)"
   ]
  },
  {
   "cell_type": "code",
   "execution_count": 14,
   "metadata": {},
   "outputs": [
    {
     "name": "stdout",
     "output_type": "stream",
     "text": [
      "Got 101 results\n"
     ]
    }
   ],
   "source": [
    "# 'download_all()' now has access to the full results\n",
    "results = harmony_client.download_all(job_id, directory='/tmp', overwrite=True)\n",
    "count = 0\n",
    "for r in results:\n",
    "    count += 1\n",
    "print(f'Got {count} results')"
   ]
  },
  {
   "cell_type": "code",
   "execution_count": 15,
   "metadata": {},
   "outputs": [
    {
     "ename": "Exception",
     "evalue": "('Conflict', 'Error: Job status cannot be updated from successful to paused.')",
     "output_type": "error",
     "traceback": [
      "\u001b[0;31m---------------------------------------------------------------------------\u001b[0m",
      "\u001b[0;31mException\u001b[0m                                 Traceback (most recent call last)",
      "Input \u001b[0;32mIn [15]\u001b[0m, in \u001b[0;36m<module>\u001b[0;34m\u001b[0m\n\u001b[1;32m      1\u001b[0m \u001b[38;5;66;03m# Attempting to pause a completed job will result in an error\u001b[39;00m\n\u001b[0;32m----> 2\u001b[0m \u001b[43mharmony_client\u001b[49m\u001b[38;5;241;43m.\u001b[39;49m\u001b[43mpause\u001b[49m\u001b[43m(\u001b[49m\u001b[43mjob_id\u001b[49m\u001b[43m)\u001b[49m\n",
      "File \u001b[0;32m~/Harmony/harmony-py/examples/../harmony/harmony.py:638\u001b[0m, in \u001b[0;36mClient.pause\u001b[0;34m(self, job_id)\u001b[0m\n\u001b[1;32m    635\u001b[0m \u001b[38;5;28;01mif\u001b[39;00m response\u001b[38;5;241m.\u001b[39mstatus_code \u001b[38;5;241m==\u001b[39m \u001b[38;5;241m409\u001b[39m:\n\u001b[1;32m    636\u001b[0m     \u001b[38;5;66;03m# 409 means we could not pause - the json will have a reason\u001b[39;00m\n\u001b[1;32m    637\u001b[0m     message \u001b[38;5;241m=\u001b[39m response\u001b[38;5;241m.\u001b[39mjson()\u001b[38;5;241m.\u001b[39mget(\u001b[38;5;124m'\u001b[39m\u001b[38;5;124mdescription\u001b[39m\u001b[38;5;124m'\u001b[39m)\n\u001b[0;32m--> 638\u001b[0m     \u001b[38;5;28;01mraise\u001b[39;00m \u001b[38;5;167;01mException\u001b[39;00m(response\u001b[38;5;241m.\u001b[39mreason, message)\n\u001b[1;32m    639\u001b[0m \u001b[38;5;28;01melse\u001b[39;00m:\n\u001b[1;32m    640\u001b[0m     response\u001b[38;5;241m.\u001b[39mraise_for_status()\n",
      "\u001b[0;31mException\u001b[0m: ('Conflict', 'Error: Job status cannot be updated from successful to paused.')"
     ]
    }
   ],
   "source": [
    "# Attempting to pause a completed job will result in an error\n",
    "harmony_client.pause(job_id)"
   ]
  },
  {
   "cell_type": "code",
   "execution_count": 16,
   "metadata": {},
   "outputs": [
    {
     "ename": "Exception",
     "evalue": "('Conflict', 'Error: Job status is successful - only paused jobs can be resumed.')",
     "output_type": "error",
     "traceback": [
      "\u001b[0;31m---------------------------------------------------------------------------\u001b[0m",
      "\u001b[0;31mException\u001b[0m                                 Traceback (most recent call last)",
      "Input \u001b[0;32mIn [16]\u001b[0m, in \u001b[0;36m<module>\u001b[0;34m\u001b[0m\n\u001b[1;32m      1\u001b[0m \u001b[38;5;66;03m# Attempting to resume a completed job will also result in an error\u001b[39;00m\n\u001b[0;32m----> 2\u001b[0m \u001b[43mharmony_client\u001b[49m\u001b[38;5;241;43m.\u001b[39;49m\u001b[43mresume\u001b[49m\u001b[43m(\u001b[49m\u001b[43mjob_id\u001b[49m\u001b[43m)\u001b[49m\n",
      "File \u001b[0;32m~/Harmony/harmony-py/examples/../harmony/harmony.py:657\u001b[0m, in \u001b[0;36mClient.resume\u001b[0;34m(self, job_id)\u001b[0m\n\u001b[1;32m    654\u001b[0m \u001b[38;5;28;01mif\u001b[39;00m response\u001b[38;5;241m.\u001b[39mstatus_code \u001b[38;5;241m==\u001b[39m \u001b[38;5;241m409\u001b[39m:\n\u001b[1;32m    655\u001b[0m     \u001b[38;5;66;03m# 409 means we could not resume - the json will have a reason\u001b[39;00m\n\u001b[1;32m    656\u001b[0m     message \u001b[38;5;241m=\u001b[39m response\u001b[38;5;241m.\u001b[39mjson()\u001b[38;5;241m.\u001b[39mget(\u001b[38;5;124m'\u001b[39m\u001b[38;5;124mdescription\u001b[39m\u001b[38;5;124m'\u001b[39m)\n\u001b[0;32m--> 657\u001b[0m     \u001b[38;5;28;01mraise\u001b[39;00m \u001b[38;5;167;01mException\u001b[39;00m(response\u001b[38;5;241m.\u001b[39mreason, message)\n\u001b[1;32m    658\u001b[0m \u001b[38;5;28;01melse\u001b[39;00m:\n\u001b[1;32m    659\u001b[0m     response\u001b[38;5;241m.\u001b[39mraise_for_status()\n",
      "\u001b[0;31mException\u001b[0m: ('Conflict', 'Error: Job status is successful - only paused jobs can be resumed.')"
     ]
    }
   ],
   "source": [
    "# Attempting to resume a completed job will also result in an error\n",
    "harmony_client.resume(job_id)"
   ]
  },
  {
   "cell_type": "code",
   "execution_count": 17,
   "metadata": {},
   "outputs": [],
   "source": [
    "# we can use the 'skip_preview' parameter to tell Harmony to skip the auto-pause/preview and just start running\n",
    "harmony_client = Client(env=Environment.UAT)  # assumes .netrc usage\n",
    "\n",
    "collection = Collection(id='C1234088182-EEDTEST')\n",
    "request = Request(\n",
    "    collection=collection,\n",
    "    max_results=101,\n",
    "    skip_preview=True\n",
    ")"
   ]
  },
  {
   "cell_type": "code",
   "execution_count": 18,
   "metadata": {},
   "outputs": [],
   "source": [
    "# submit an async request for processing and return the job_id\n",
    "# big requests get automatically paused after generating a preview of the results\n",
    "job_id = harmony_client.submit(request)"
   ]
  },
  {
   "cell_type": "code",
   "execution_count": 19,
   "metadata": {},
   "outputs": [
    {
     "data": {
      "text/plain": [
       "{'status': 'running',\n",
       " 'message': 'CMR query identified 176 granules, but the request has been limited to process only the first 101 granules because you requested 101 maxResults.',\n",
       " 'progress': 0,\n",
       " 'created_at': datetime.datetime(2022, 5, 9, 17, 21, 56, 118000, tzinfo=tzutc()),\n",
       " 'updated_at': datetime.datetime(2022, 5, 9, 17, 21, 58, 361000, tzinfo=tzutc()),\n",
       " 'created_at_local': '2022-05-09T13:21:56-04:00',\n",
       " 'updated_at_local': '2022-05-09T13:21:58-04:00',\n",
       " 'request': 'https://harmony.uat.earthdata.nasa.gov/C1234088182-EEDTEST/ogc-api-coverages/1.0.0/collections/all/coverage/rangeset?forceAsync=true&maxResults=101&skipPreview=true',\n",
       " 'num_input_granules': 101}"
      ]
     },
     "execution_count": 19,
     "metadata": {},
     "output_type": "execute_result"
    }
   ],
   "source": [
    "# checking the status we see that the job is running\n",
    "harmony_client.status(job_id)"
   ]
  },
  {
   "cell_type": "code",
   "execution_count": 20,
   "metadata": {},
   "outputs": [
    {
     "name": "stderr",
     "output_type": "stream",
     "text": [
      " [ Processing: 100% ] |###################################################| [|]\n"
     ]
    }
   ],
   "source": [
    "# we can now use'wait_for_processing()' to wait until the job completes\n",
    "harmony_client.wait_for_processing(job_id, show_progress=True)"
   ]
  },
  {
   "cell_type": "code",
   "execution_count": null,
   "metadata": {},
   "outputs": [],
   "source": []
  }
 ],
 "metadata": {
  "kernelspec": {
   "display_name": "Python 3 (ipykernel)",
   "language": "python",
   "name": "python3"
  },
  "language_info": {
   "codemirror_mode": {
    "name": "ipython",
    "version": 3
   },
   "file_extension": ".py",
   "mimetype": "text/x-python",
   "name": "python",
   "nbconvert_exporter": "python",
   "pygments_lexer": "ipython3",
   "version": "3.9.5"
  }
 },
 "nbformat": 4,
 "nbformat_minor": 4
}

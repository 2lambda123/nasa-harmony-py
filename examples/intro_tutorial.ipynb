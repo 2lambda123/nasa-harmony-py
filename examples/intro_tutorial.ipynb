{
 "cells": [
  {
   "cell_type": "markdown",
   "id": "piano-sewing",
   "metadata": {},
   "source": [
    "## HarmonyPy Introduction\n",
    "\n",
    "This notebook demonstrates several basic examples highlighting how to query and access customized data outputs from NASA Earthdata Harmony. See https://harmony-py.readthedocs.io/ for detailed documentation on HarmonyPy."
   ]
  },
  {
   "cell_type": "markdown",
   "id": "textile-jefferson",
   "metadata": {},
   "source": [
    "### Import packages\n",
    "\n",
    "First we import packages needed to request and visualize our data, as well as the `harmony-py` library itself. Make sure to install `harmony-py` and its dependencies into your current Python environment prior to executing the notebook:\n",
    "\n",
    "```  \n",
    "$ pip install -U harmony-py \n",
    "\n",
    "```\n"
   ]
  },
  {
   "cell_type": "code",
   "execution_count": null,
   "id": "interpreted-chick",
   "metadata": {},
   "outputs": [],
   "source": [
    "import sys; sys.path.append('..')\n",
    "import datetime as dt\n",
    "from IPython.display import display, JSON\n",
    "import rasterio\n",
    "import rasterio.plot\n",
    "\n",
    "from harmony import BBox, Client, Collection, Request\n",
    "from harmony.config import Environment"
   ]
  },
  {
   "cell_type": "markdown",
   "id": "scientific-barrier",
   "metadata": {},
   "source": [
    "### Quick start\n",
    "\n",
    "You can request data using `harmony-py` in just a few easy lines. Although more advanced subsetting and transformation options may be supported on your data product of interest, this example below demonstrates a basic spatial bounding box and temporal range request: \n",
    "\n",
    "```\n",
    "harmony_client = Client(auth=('EDL_username', 'EDL_password'))\n",
    "request = Request(\n",
    "    collection=Collection(id=dataset_short_name),\n",
    "    spatial=BBox(w, s, e, n),\n",
    "    temporal={\n",
    "        'start': dt.datetime(yyyy, mm, dd),\n",
    "        'stop': dt.datetime(yyyy, mm, dd)\n",
    "    }\n",
    ")\n",
    "job_id = harmony_client.submit(request)\n",
    "results = harmony_client.download_all(job_id, directory='/tmp', overwrite=True)\n",
    "```"
   ]
  },
  {
   "cell_type": "markdown",
   "id": "postal-cycling",
   "metadata": {},
   "source": [
    "The guidance below offers more detailed examples highlighting many of the helpful features provided by the Harmony Py library."
   ]
  },
  {
   "cell_type": "markdown",
   "id": "arctic-emergency",
   "metadata": {},
   "source": [
    "### Create Harmony Client object\n",
    "\n",
    "First, you will need to create your Harmony Client, which is what you will interact with to submit and inspect a data request to Harmony, as well as to retrieve your results. \n",
    "\n",
    "When creating the Client, you need to provide your [Earthdata Login](https://urs.earthdata.nasa.gov) credentials, which are required to access data from NASA EOSDIS. There are three options for providing your Earthdata Login username and password: \n",
    "\n",
    "1. Provide your username and password directly when creating the client:\n",
    "\n",
    "```\n",
    "harmony_client = Client(auth=('captainmarvel', 'marve10u5'))\n",
    "```\n",
    "\n",
    "2. Set your credentials using environment variables:\n",
    "\n",
    "```\n",
    "$ export EDL_USERNAME='captainmarvel'\n",
    "$ export EDL_PASSWORD='marve10u5'\n",
    "```\n",
    "\n",
    "3. Use a .netrc file:\n",
    "\n",
    "Create a .netrc file in your home directory, using the example below:\n",
    "\n",
    "```\n",
    "machine urs.earthdata.nasa.gov\n",
    "login captainmarvel\n",
    "password marve10u5\n",
    "```"
   ]
  },
  {
   "cell_type": "code",
   "execution_count": 7,
   "id": "applied-vintage",
   "metadata": {},
   "outputs": [],
   "source": [
    "if __name__ == \"__main__\":\n",
    "    harmony_client = Client(env=Environment.PROD) #set Production environment\n",
    "\n",
    "#harmony_client = Client() # assumes .netrc usage, option 3 above"
   ]
  },
  {
   "cell_type": "markdown",
   "id": "growing-delay",
   "metadata": {},
   "source": [
    "### Create Harmony Request\n",
    "\n",
    "The following are common request parameters:\n",
    "\n",
    "* `collection`: Required parameter. This is the NASA EOSDIS collection, or data product. There are two options for inputting a collection of interest:\n",
    "    1. Provide a concept ID, which is an ID provided in the Common Metadata Repository (CMR) metadata\n",
    "    2. Data product short name (e.g. SENTINEL-1_INTERFEROGRAMS). \n",
    "* `spatial`: Bounding box spatial constraints on the data. The Harmony `Bbox` class accepts spatial coordinates as decimal degrees in w, s, e, n order, where longitude = -180, 180 and latitude = -90, 90.   \n",
    "* `temporal`: Date/time constraints on the data. The example below demonstrates temporal start and end ranges using the python `datetime` library.\n",
    "\n",
    "Other advanced parameters that may be of interest. Note that many reformatting or advanced projection options may not be available for your requested dataset.  \n",
    "\n",
    "* `crs`: Reproject the output coverage to the given CRS. Recognizes CRS types that can be inferred by gdal, including EPSG codes, Proj4 strings, and OGC URLs (http://www.opengis.net/def/crs/…)\n",
    "* `interpolation`: specify the interpolation method used during reprojection and scaling\n",
    "* `scale_extent`: scale the resulting coverage either among one axis to a given extent\n",
    "* `scale_size`: scale the resulting coverage either among one axis to a given size\n",
    "* `granule_id`: The CMR Granule ID for the granule which should be retrieved\n",
    "* `width`: number of columns to return in the output coverage\n",
    "* `height`: number of rows to return in the output coverage\n",
    "* `format`: the output mime type to return\n",
    "* `max_results`: limits the number of input granules processed in the request"
   ]
  },
  {
   "cell_type": "markdown",
   "id": "respective-pixel",
   "metadata": {},
   "source": [
    "The example utilized in this tutorial demonstrates a bounding box subset over Catalina Island off the coast of Los Angeles, California. The SENTINEL-1_INTERFEROGRAMS dataset, distributed by the ASF DAAC, is a prototype Level 2 NISAR-Format product. See https://asf.alaska.edu/data-sets/derived-data-sets/sentinel-1-interferograms/ for more information. "
   ]
  },
  {
   "cell_type": "code",
   "execution_count": 40,
   "id": "bound-central",
   "metadata": {},
   "outputs": [],
   "source": [
    "# Not working, whyyy!?\n",
    "\n",
    "# #Catalina island \n",
    "\n",
    "# request = Request(\n",
    "#     collection=Collection(id='SENTINEL-1_INTERFEROGRAMS'),\n",
    "#     spatial=BBox(-118.70634, 33.24977, -118.24152, 33.60239),\n",
    "#     temporal={\n",
    "#         'start': dt.datetime(2020, 3, 12, 13, 52, 30),\n",
    "#         'stop': dt.datetime(2020, 3, 12, 13, 52, 58),\n",
    "#     },\n",
    "#     format='image/tiff'\n",
    "# )"
   ]
  },
  {
   "cell_type": "code",
   "execution_count": 67,
   "id": "enabling-coach",
   "metadata": {},
   "outputs": [],
   "source": [
    "#Catalina island \n",
    "\n",
    "request = Request(\n",
    "#     collection=Collection(id='C1214354031-ASF'),\n",
    "    collection=Collection(id='UAVSAR_POL_PAULI'),    \n",
    "    spatial=BBox(-118.70634, 33.24977, -118.24152, 33.60239),\n",
    "    temporal={\n",
    "        'start': dt.datetime(2015, 2, 26, 0, 0, 0),\n",
    "        'stop': dt.datetime(2015, 2, 26, 23, 59, 59),\n",
    "    },\n",
    "    format='image/tiff'\n",
    ")"
   ]
  },
  {
   "cell_type": "markdown",
   "id": "distributed-alloy",
   "metadata": {},
   "source": [
    "### Check Request validity\n",
    "\n",
    "Before submitting a Harmony Request, you can test your request to see if it's valid and how to fix it if not. In particular, `request.is_valid` will check to ensure that your spatial BBox bounds and temporal ranges are entered correctly.  "
   ]
  },
  {
   "cell_type": "code",
   "execution_count": 57,
   "id": "powerful-madagascar",
   "metadata": {},
   "outputs": [
    {
     "name": "stdout",
     "output_type": "stream",
     "text": [
      "Request valid? True\n"
     ]
    }
   ],
   "source": [
    "print(f\"Request valid? {request.is_valid()}\")\n",
    "for m in request.error_messages():\n",
    "    print(\" * \" + m)"
   ]
  },
  {
   "cell_type": "markdown",
   "id": "center-terrorist",
   "metadata": {},
   "source": [
    "### Submit Request\n",
    "\n",
    "Once you have created your request, you can now submit it to Harmony using the Harmony Client object. A job id is returned, which is a unique identifier that represents your submitted request. "
   ]
  },
  {
   "cell_type": "code",
   "execution_count": 68,
   "id": "verbal-discussion",
   "metadata": {},
   "outputs": [
    {
     "data": {
      "text/plain": [
       "'8ea61c5c-24a3-4dd4-87e5-686effb448d6'"
      ]
     },
     "execution_count": 68,
     "metadata": {},
     "output_type": "execute_result"
    }
   ],
   "source": [
    "job_id = harmony_client.submit(request)\n",
    "job_id"
   ]
  },
  {
   "cell_type": "markdown",
   "id": "minor-deputy",
   "metadata": {},
   "source": [
    "### Check Request status\n",
    "\n",
    "You can check on the progress of a processing job with `status()`. This method blocks while communicating with the server but returns quickly. The JSON helper function provides a nicer formatting option for viewing the status message. "
   ]
  },
  {
   "cell_type": "code",
   "execution_count": 80,
   "id": "assured-failing",
   "metadata": {},
   "outputs": [
    {
     "data": {
      "application/json": {
       "created_at": "2021-04-01T02:57:05.060000",
       "message": "CMR query identified 176 granules, but the request has been limited to process only the first 1 granules because you requested 1 maxResults.",
       "num_input_granules": 1,
       "progress": 100,
       "request": "https://harmony.uat.earthdata.nasa.gov/C1234088182-EEDTEST/ogc-api-coverages/1.0.0/collections/all/coverage/rangeset?forceAsync=true&maxResults=1",
       "status": "successful",
       "updated_at": "2021-04-01T02:57:35.977000"
      },
      "text/plain": [
       "<IPython.core.display.JSON object>"
      ]
     },
     "execution_count": 80,
     "metadata": {
      "application/json": {
       "expanded": false,
       "root": "root"
      }
     },
     "output_type": "execute_result"
    }
   ],
   "source": [
    "JSON(harmony_client.status(job_id))"
   ]
  },
  {
   "cell_type": "markdown",
   "id": "czech-premises",
   "metadata": {},
   "source": [
    "Depending on the size of the request, you may want to wait until the request has completed processing before the remainder of your code is executed. The `wait_for_processing()` method will block subsequent lines of code while optinally showing a progress bar."
   ]
  },
  {
   "cell_type": "code",
   "execution_count": 81,
   "id": "derived-helicopter",
   "metadata": {},
   "outputs": [
    {
     "name": "stderr",
     "output_type": "stream",
     "text": [
      " [ Processing: 100% ] |###################################################| [|]\n"
     ]
    }
   ],
   "source": [
    "harmony_client.wait_for_processing(job_id, show_progress=True)"
   ]
  },
  {
   "cell_type": "markdown",
   "id": "dental-istanbul",
   "metadata": {},
   "source": [
    "### View Harmony job response and output URLs\n",
    "\n",
    "* 'result_json()' calls 'wait_for_processing()' and returns the complete job json once processing is complete.\n",
    "* Optionally shows progress bar.\n",
    "* Blocking."
   ]
  },
  {
   "cell_type": "code",
   "execution_count": 39,
   "id": "occasional-desktop",
   "metadata": {},
   "outputs": [
    {
     "data": {
      "application/json": {
       "createdAt": "2021-04-01T02:30:43.598Z",
       "jobID": "db7f2319-66e9-4f42-97f0-1cc709bb6db5",
       "links": [
        {
         "href": "https://harmony.earthdata.nasa.gov/jobs/db7f2319-66e9-4f42-97f0-1cc709bb6db5",
         "rel": "self",
         "title": "Job Status",
         "type": "application/json"
        },
        {
         "href": "https://harmony.earthdata.nasa.gov/stac/db7f2319-66e9-4f42-97f0-1cc709bb6db5/",
         "rel": "stac-catalog-json",
         "title": "STAC catalog",
         "type": "application/json"
        },
        {
         "bbox": [
          -118.432543,
          33.5803977,
          -118.2415278,
          33.6023995
         ],
         "href": "https://harmony.earthdata.nasa.gov/service-results/harmony-prod-staging/public/asfdataservices/gdal-subsetter/4d54d9cc-9dd3-468a-990c-14c1cb4cc861/SanAnd_08519_09014_012_090423_L090_CX_01_pauli_subsetted.nc",
         "rel": "data",
         "temporal": {
          "end": "2009-04-23T00:00:00.000Z",
          "start": "2009-04-23T00:00:00.000Z"
         },
         "title": "SanAnd_08519_09014_012_090423_L090_CX_01_pauli_subsetted.nc",
         "type": "application/x-netcdf4"
        }
       ],
       "message": "CMR query identified 61 granules, but the request has been limited to process only the first 1 granules because you requested 1 maxResults.",
       "numInputGranules": 1,
       "progress": 100,
       "request": "https://harmony.earthdata.nasa.gov/C1214354031-ASF/ogc-api-coverages/1.0.0/collections/all/coverage/rangeset?forceAsync=true&subset=lat(33.24977%3A33.60239)&subset=lon(-118.70634%3A-118.24152)&maxResults=1",
       "status": "successful",
       "updatedAt": "2021-04-01T02:32:31.287Z",
       "username": "amy.steiker"
      },
      "text/plain": [
       "<IPython.core.display.JSON object>"
      ]
     },
     "execution_count": 39,
     "metadata": {
      "application/json": {
       "expanded": false,
       "root": "root"
      }
     },
     "output_type": "execute_result"
    }
   ],
   "source": [
    "data = harmony_client.result_json(job_id)\n",
    "JSON(data)"
   ]
  },
  {
   "cell_type": "markdown",
   "id": "western-reminder",
   "metadata": {},
   "source": [
    "### Retrieve Harmony output files\n",
    "\n",
    "* Describe how data are returned as HTTPS URLs, and optionally provided as a STAC catalog with S3 URLs\n",
    "\n",
    "#### First, HTTPS URL inspection and retrieval:"
   ]
  },
  {
   "cell_type": "markdown",
   "id": "injured-spectrum",
   "metadata": {},
   "source": [
    "* 'result_urls()' calls 'wait_for_processing()' and returns the job's data urls once processing is complete.\n",
    "* Optionally shows progress bar.\n",
    "* Blocking.\n"
   ]
  },
  {
   "cell_type": "code",
   "execution_count": 33,
   "id": "practical-oxide",
   "metadata": {},
   "outputs": [
    {
     "name": "stderr",
     "output_type": "stream",
     "text": [
      "\n"
     ]
    },
    {
     "ename": "Exception",
     "evalue": "Job has failed. Call result_json() to learn more.",
     "output_type": "error",
     "traceback": [
      "\u001b[0;31m---------------------------------------------------------------------------\u001b[0m",
      "\u001b[0;31mException\u001b[0m                                 Traceback (most recent call last)",
      "\u001b[0;32m<ipython-input-33-b294d4f2b30c>\u001b[0m in \u001b[0;36m<module>\u001b[0;34m\u001b[0m\n\u001b[0;32m----> 1\u001b[0;31m \u001b[0murls\u001b[0m \u001b[0;34m=\u001b[0m \u001b[0mharmony_client\u001b[0m\u001b[0;34m.\u001b[0m\u001b[0mresult_urls\u001b[0m\u001b[0;34m(\u001b[0m\u001b[0mjob_id\u001b[0m\u001b[0;34m,\u001b[0m \u001b[0mshow_progress\u001b[0m\u001b[0;34m=\u001b[0m\u001b[0;32mTrue\u001b[0m\u001b[0;34m)\u001b[0m\u001b[0;34m\u001b[0m\u001b[0;34m\u001b[0m\u001b[0m\n\u001b[0m\u001b[1;32m      2\u001b[0m \u001b[0murls\u001b[0m\u001b[0;34m\u001b[0m\u001b[0;34m\u001b[0m\u001b[0m\n",
      "\u001b[0;32m~/Desktop/Harmony/harmony-py/harmony/harmony.py\u001b[0m in \u001b[0;36mresult_urls\u001b[0;34m(self, job_id, show_progress)\u001b[0m\n\u001b[1;32m    469\u001b[0m             \u001b[0mThe\u001b[0m \u001b[0mjob\u001b[0m\u001b[0;31m'\u001b[0m\u001b[0ms\u001b[0m \u001b[0mcomplete\u001b[0m \u001b[0mlist\u001b[0m \u001b[0mof\u001b[0m \u001b[0mdata\u001b[0m \u001b[0mURLs\u001b[0m\u001b[0;34m.\u001b[0m\u001b[0;34m\u001b[0m\u001b[0;34m\u001b[0m\u001b[0m\n\u001b[1;32m    470\u001b[0m         \"\"\"\n\u001b[0;32m--> 471\u001b[0;31m         \u001b[0mdata\u001b[0m \u001b[0;34m=\u001b[0m \u001b[0mself\u001b[0m\u001b[0;34m.\u001b[0m\u001b[0mresult_json\u001b[0m\u001b[0;34m(\u001b[0m\u001b[0mjob_id\u001b[0m\u001b[0;34m,\u001b[0m \u001b[0mshow_progress\u001b[0m\u001b[0;34m)\u001b[0m\u001b[0;34m\u001b[0m\u001b[0;34m\u001b[0m\u001b[0m\n\u001b[0m\u001b[1;32m    472\u001b[0m         \u001b[0murls\u001b[0m \u001b[0;34m=\u001b[0m \u001b[0;34m[\u001b[0m\u001b[0mx\u001b[0m\u001b[0;34m[\u001b[0m\u001b[0;34m'href'\u001b[0m\u001b[0;34m]\u001b[0m \u001b[0;32mfor\u001b[0m \u001b[0mx\u001b[0m \u001b[0;32min\u001b[0m \u001b[0mdata\u001b[0m\u001b[0;34m.\u001b[0m\u001b[0mget\u001b[0m\u001b[0;34m(\u001b[0m\u001b[0;34m'links'\u001b[0m\u001b[0;34m,\u001b[0m \u001b[0;34m[\u001b[0m\u001b[0;34m]\u001b[0m\u001b[0;34m)\u001b[0m \u001b[0;32mif\u001b[0m \u001b[0mx\u001b[0m\u001b[0;34m[\u001b[0m\u001b[0;34m'rel'\u001b[0m\u001b[0;34m]\u001b[0m \u001b[0;34m==\u001b[0m \u001b[0;34m'data'\u001b[0m\u001b[0;34m]\u001b[0m\u001b[0;34m\u001b[0m\u001b[0;34m\u001b[0m\u001b[0m\n\u001b[1;32m    473\u001b[0m         \u001b[0;32mreturn\u001b[0m \u001b[0murls\u001b[0m\u001b[0;34m\u001b[0m\u001b[0;34m\u001b[0m\u001b[0m\n",
      "\u001b[0;32m~/Desktop/Harmony/harmony-py/harmony/harmony.py\u001b[0m in \u001b[0;36mresult_json\u001b[0;34m(self, job_id, show_progress)\u001b[0m\n\u001b[1;32m    452\u001b[0m             \u001b[0mThe\u001b[0m \u001b[0mjob\u001b[0m\u001b[0;31m'\u001b[0m\u001b[0ms\u001b[0m \u001b[0mcomplete\u001b[0m \u001b[0mjson\u001b[0m \u001b[0moutput\u001b[0m\u001b[0;34m.\u001b[0m\u001b[0;34m\u001b[0m\u001b[0;34m\u001b[0m\u001b[0m\n\u001b[1;32m    453\u001b[0m         \"\"\"\n\u001b[0;32m--> 454\u001b[0;31m         \u001b[0mself\u001b[0m\u001b[0;34m.\u001b[0m\u001b[0mwait_for_processing\u001b[0m\u001b[0;34m(\u001b[0m\u001b[0mjob_id\u001b[0m\u001b[0;34m,\u001b[0m \u001b[0mshow_progress\u001b[0m\u001b[0;34m)\u001b[0m\u001b[0;34m\u001b[0m\u001b[0;34m\u001b[0m\u001b[0m\n\u001b[0m\u001b[1;32m    455\u001b[0m         \u001b[0mresponse\u001b[0m \u001b[0;34m=\u001b[0m \u001b[0mself\u001b[0m\u001b[0;34m.\u001b[0m\u001b[0m_session\u001b[0m\u001b[0;34m(\u001b[0m\u001b[0;34m)\u001b[0m\u001b[0;34m.\u001b[0m\u001b[0mget\u001b[0m\u001b[0;34m(\u001b[0m\u001b[0mself\u001b[0m\u001b[0;34m.\u001b[0m\u001b[0m_status_url\u001b[0m\u001b[0;34m(\u001b[0m\u001b[0mjob_id\u001b[0m\u001b[0;34m)\u001b[0m\u001b[0;34m)\u001b[0m\u001b[0;34m\u001b[0m\u001b[0;34m\u001b[0m\u001b[0m\n\u001b[1;32m    456\u001b[0m         \u001b[0;32mreturn\u001b[0m \u001b[0mresponse\u001b[0m\u001b[0;34m.\u001b[0m\u001b[0mjson\u001b[0m\u001b[0;34m(\u001b[0m\u001b[0;34m)\u001b[0m\u001b[0;34m\u001b[0m\u001b[0;34m\u001b[0m\u001b[0m\n",
      "\u001b[0;32m~/Desktop/Harmony/harmony-py/harmony/harmony.py\u001b[0m in \u001b[0;36mwait_for_processing\u001b[0;34m(self, job_id, show_progress)\u001b[0m\n\u001b[1;32m    410\u001b[0m                     \u001b[0mprogress\u001b[0m\u001b[0;34m,\u001b[0m \u001b[0mstatus\u001b[0m \u001b[0;34m=\u001b[0m \u001b[0mself\u001b[0m\u001b[0;34m.\u001b[0m\u001b[0mprogress\u001b[0m\u001b[0;34m(\u001b[0m\u001b[0mjob_id\u001b[0m\u001b[0;34m)\u001b[0m\u001b[0;34m\u001b[0m\u001b[0;34m\u001b[0m\u001b[0m\n\u001b[1;32m    411\u001b[0m                     \u001b[0;32mif\u001b[0m \u001b[0mstatus\u001b[0m \u001b[0;34m==\u001b[0m \u001b[0;34m'failed'\u001b[0m\u001b[0;34m:\u001b[0m\u001b[0;34m\u001b[0m\u001b[0;34m\u001b[0m\u001b[0m\n\u001b[0;32m--> 412\u001b[0;31m                         \u001b[0;32mraise\u001b[0m \u001b[0mException\u001b[0m\u001b[0;34m(\u001b[0m\u001b[0;34m'Job has failed. Call result_json() to learn more.'\u001b[0m\u001b[0;34m)\u001b[0m\u001b[0;34m\u001b[0m\u001b[0;34m\u001b[0m\u001b[0m\n\u001b[0m\u001b[1;32m    413\u001b[0m                         \u001b[0;32mbreak\u001b[0m\u001b[0;34m\u001b[0m\u001b[0;34m\u001b[0m\u001b[0m\n\u001b[1;32m    414\u001b[0m                     \u001b[0;32mif\u001b[0m \u001b[0mstatus\u001b[0m \u001b[0;34m==\u001b[0m \u001b[0;34m'canceled'\u001b[0m\u001b[0;34m:\u001b[0m\u001b[0;34m\u001b[0m\u001b[0;34m\u001b[0m\u001b[0m\n",
      "\u001b[0;31mException\u001b[0m: Job has failed. Call result_json() to learn more."
     ]
    }
   ],
   "source": [
    "urls = harmony_client.result_urls(job_id, show_progress=True)\n",
    "urls"
   ]
  },
  {
   "cell_type": "markdown",
   "id": "standing-staff",
   "metadata": {},
   "source": [
    "* 'download_all()' downloads all data urls and returns immediately with a list of concurrent.futures.\n",
    "* Optionally shows progress bar for processing only.\n",
    "* Non-blocking during download but blocking while waitinig for job processing to finish.\n",
    "* Call 'result()' on future objects to realize them. A call to 'result()' blocks until that particular future finishes downloading. Other futures will download in the background, in parallel, up to the number of workers assigned to the thread pool (thread pool not publicly available).\n",
    "* Downloading on any unfinished futures can be cancelled early.\n",
    "* When downloading is complete the futures will return the file path string of the file that was just downloaded. This file path can then be fed into other libraries that may read the data files and perform other operations."
   ]
  },
  {
   "cell_type": "code",
   "execution_count": null,
   "id": "valued-romania",
   "metadata": {},
   "outputs": [],
   "source": [
    "futures = harmony_client.download_all(job_id)\n",
    "file_names = [f.result() for f in futures]\n",
    "file_names"
   ]
  },
  {
   "cell_type": "markdown",
   "id": "breeding-negotiation",
   "metadata": {},
   "source": [
    "* 'download()' will download only the url specified, in case a person would like more control over individual files.\n",
    "* Returns a future containing the file path string of the file downloaded.\n",
    "* Blocking upon calling result()"
   ]
  },
  {
   "cell_type": "code",
   "execution_count": null,
   "id": "charitable-momentum",
   "metadata": {},
   "outputs": [],
   "source": [
    "file_name = (harmony_client.download(urls[0], overwrite=True)).result()\n",
    "file_name"
   ]
  },
  {
   "cell_type": "markdown",
   "id": "genetic-migration",
   "metadata": {},
   "source": [
    "#### Now, STAC inspection and s3 retrieval:\n",
    "\n",
    "As a user in the cloud, I want to access those data seamlessly using the AWS credentials provided from the Harmony job response\n",
    "\n",
    "Coming soon: As a user, I want the Harmony library to provide me with the appropriate output URL depending on whether I'm working within or outside of AWS us-west-2"
   ]
  },
  {
   "cell_type": "code",
   "execution_count": null,
   "id": "dirty-alert",
   "metadata": {},
   "outputs": [],
   "source": [
    "stac_catalog_url = harmony_client.stac_catalog_url(job_id, show_progress=True)\n",
    "stac_catalog_url"
   ]
  },
  {
   "cell_type": "markdown",
   "id": "elementary-calcium",
   "metadata": {},
   "source": [
    "Following the directions for PySTAC (https://pystac.readthedocs.io/en/latest/quickstart.html), we can hook our harmony-py client into STAC_IO."
   ]
  },
  {
   "cell_type": "code",
   "execution_count": null,
   "id": "cooked-nation",
   "metadata": {},
   "outputs": [],
   "source": [
    "from urllib.parse import urlparse\n",
    "import requests\n",
    "from pystac import STAC_IO\n",
    "\n",
    "def requests_read_method(uri):\n",
    "    parsed = urlparse(uri)\n",
    "    if parsed.hostname.startswith('harmony.'):\n",
    "        return harmony_client.read_text(uri)\n",
    "    else:\n",
    "        return STAC_IO.default_read_text_method(uri)\n",
    "\n",
    "STAC_IO.read_text_method = requests_read_method"
   ]
  },
  {
   "cell_type": "code",
   "execution_count": null,
   "id": "paperback-principle",
   "metadata": {},
   "outputs": [],
   "source": [
    "from pystac import Catalog\n",
    "\n",
    "cat = Catalog.from_file(stac_catalog_url)\n",
    "\n",
    "print(cat.title)\n",
    "for item in cat.get_all_items():\n",
    "    print(item.datetime, [asset.href for asset in item.assets.values()])"
   ]
  },
  {
   "cell_type": "markdown",
   "id": "derived-jackson",
   "metadata": {},
   "source": [
    "#### Alternatively, we can use intake-stac:"
   ]
  },
  {
   "cell_type": "code",
   "execution_count": null,
   "id": "stock-manual",
   "metadata": {
    "tags": []
   },
   "outputs": [],
   "source": [
    "!{sys.executable} -m pip install intake-stac # if you don't already have intake-stac\n",
    "import intake"
   ]
  },
  {
   "cell_type": "code",
   "execution_count": null,
   "id": "coral-democracy",
   "metadata": {},
   "outputs": [],
   "source": [
    "# stac_cat = intake.open_stac_catalog(stac_root.format(jobID=job,item=''),name='Harmony output')\n",
    "cat = intake.open_stac_catalog(stac_catalog_url)\n",
    "display(list(cat))"
   ]
  },
  {
   "cell_type": "code",
   "execution_count": null,
   "id": "printable-equivalent",
   "metadata": {},
   "outputs": [],
   "source": [
    "entries = []\n",
    "for id, entry in cat.search('type').items():\n",
    "    display(entry)\n",
    "    entries.append(entry)"
   ]
  },
  {
   "cell_type": "code",
   "execution_count": null,
   "id": "indian-growing",
   "metadata": {
    "tags": []
   },
   "outputs": [],
   "source": [
    "da = cat[list(cat)[0]][entries[0].describe()['name']].to_dask()\n",
    "da"
   ]
  },
  {
   "cell_type": "markdown",
   "id": "advanced-multiple",
   "metadata": {},
   "source": [
    "#### AWS credential retrieval"
   ]
  },
  {
   "cell_type": "code",
   "execution_count": null,
   "id": "economic-finger",
   "metadata": {},
   "outputs": [],
   "source": [
    "creds = harmony_client.aws_credentials()\n",
    "creds"
   ]
  },
  {
   "cell_type": "code",
   "execution_count": null,
   "id": "smoking-phase",
   "metadata": {},
   "outputs": [],
   "source": [
    "#\n",
    "# NOTE: Execution of this cell will only succeed within the AWS us-west-2 region. \n",
    "#\n",
    "\n",
    "import boto3\n",
    "\n",
    "s3 = boto3.client('s3', **creds)\n",
    "uri = 's3://harmony-uat-staging/public/harmony/netcdf-to-zarr/817a3e99-d53c-4169-b9f1-82cc947793be/2020_01_01_7f00ff_global.zarr'\n",
    "bucket_name = uri.split('/')[2]\n",
    "object_name = '/'.join(uri.split('/')[3:])\n",
    "file_name = uri.split('/')[-1]\n",
    "\n",
    "with open(file_name, 'wb') as f:\n",
    "    # should return a 403 Forbidden if run outside of us-west-2\n",
    "    s3.download_fileobj(bucket_name, object_name, f)\n",
    "\n"
   ]
  },
  {
   "cell_type": "code",
   "execution_count": null,
   "id": "local-opening",
   "metadata": {},
   "outputs": [],
   "source": []
  },
  {
   "cell_type": "code",
   "execution_count": null,
   "id": "invisible-cherry",
   "metadata": {},
   "outputs": [],
   "source": []
  },
  {
   "cell_type": "code",
   "execution_count": null,
   "id": "coordinated-courage",
   "metadata": {},
   "outputs": [],
   "source": []
  },
  {
   "cell_type": "markdown",
   "id": "roman-fitness",
   "metadata": {},
   "source": [
    "#### test examples"
   ]
  },
  {
   "cell_type": "code",
   "execution_count": 71,
   "id": "committed-spanking",
   "metadata": {},
   "outputs": [
    {
     "data": {
      "image/png": "[encoded data removed]",
      "text/plain": [
       "<Figure size 432x288 with 1 Axes>"
      ]
     },
     "metadata": {
      "needs_background": "light"
     },
     "output_type": "display_data"
    }
   ],
   "source": [
    "harmony_client = Client()\n",
    "request = Request(\n",
    "    collection=Collection(id='C1234088182-EEDTEST'),\n",
    "#    collection=Collection(id='SENTINEL-1_INTERFEROGRAMS'),\n",
    "    spatial=BBox(-165, 52, -140, 77),\n",
    "    temporal={\n",
    "        'start': dt.datetime(2010, 1, 1),\n",
    "        'stop': dt.datetime(2020, 12, 30)\n",
    "    },\n",
    "    variables=['blue_var'],\n",
    "    max_results=1,\n",
    ")\n",
    "job_id = harmony_client.submit(request)\n",
    "print(job_id)\n",
    "results = harmony_client.download_all(job_id, directory='/tmp', overwrite=True)\n",
    "for r in results:\n",
    "    rasterio.plot.show(rasterio.open(r.result()))"
   ]
  },
  {
   "cell_type": "code",
   "execution_count": 74,
   "id": "identical-engineer",
   "metadata": {},
   "outputs": [],
   "source": [
    "harmony_client = Client()\n",
    "request = Request(\n",
    "    collection=Collection(id='C1234088182-EEDTEST'),\n",
    "    max_results=1,\n",
    ")\n"
   ]
  },
  {
   "cell_type": "code",
   "execution_count": 75,
   "id": "individual-geology",
   "metadata": {},
   "outputs": [
    {
     "name": "stdout",
     "output_type": "stream",
     "text": [
      "5d26dbf5-c8b3-41dd-9d5f-9661570e8d63\n"
     ]
    }
   ],
   "source": [
    "job_id = harmony_client.submit(request)\n",
    "print(job_id)\n"
   ]
  },
  {
   "cell_type": "code",
   "execution_count": 78,
   "id": "spare-forth",
   "metadata": {},
   "outputs": [
    {
     "data": {
      "image/png": "[encoded data removed]",
      "text/plain": [
       "<Figure size 432x288 with 1 Axes>"
      ]
     },
     "metadata": {
      "needs_background": "light"
     },
     "output_type": "display_data"
    }
   ],
   "source": [
    "results = harmony_client.download_all(job_id, directory='/tmp', overwrite=True)\n",
    "for r in results:\n",
    "    rasterio.plot.show(rasterio.open(r.result()))"
   ]
  },
  {
   "cell_type": "code",
   "execution_count": 76,
   "id": "favorite-bishop",
   "metadata": {},
   "outputs": [
    {
     "data": {
      "text/plain": [
       "{'username': 'amy.steiker',\n",
       " 'status': 'successful',\n",
       " 'message': 'CMR query identified 176 granules, but the request has been limited to process only the first 1 granules because you requested 1 maxResults.',\n",
       " 'progress': 100,\n",
       " 'createdAt': '2021-04-01T02:57:05.060Z',\n",
       " 'updatedAt': '2021-04-01T02:57:35.977Z',\n",
       " 'links': [{'title': 'Job Status',\n",
       "   'href': 'https://harmony.uat.earthdata.nasa.gov/jobs/5d26dbf5-c8b3-41dd-9d5f-9661570e8d63',\n",
       "   'rel': 'self',\n",
       "   'type': 'application/json'},\n",
       "  {'title': 'STAC catalog',\n",
       "   'href': 'https://harmony.uat.earthdata.nasa.gov/stac/5d26dbf5-c8b3-41dd-9d5f-9661570e8d63/',\n",
       "   'rel': 'stac-catalog-json',\n",
       "   'type': 'application/json'},\n",
       "  {'href': 'https://harmony.uat.earthdata.nasa.gov/service-results/harmony-uat-staging/public/harmony/gdal/aa9f6242-9ad4-4231-9e2c-790d902481c8/2020_01_01_7f00ff_global.nc.tif',\n",
       "   'title': '2020_01_01_7f00ff_global.nc.tif',\n",
       "   'type': 'image/tiff',\n",
       "   'rel': 'data',\n",
       "   'bbox': [-179.95, -89.95, 179.95, 89.95],\n",
       "   'temporal': {'start': '2020-01-01T00:00:00.000Z',\n",
       "    'end': '2020-01-01T23:59:59.000Z'}}],\n",
       " 'request': 'https://harmony.uat.earthdata.nasa.gov/C1234088182-EEDTEST/ogc-api-coverages/1.0.0/collections/all/coverage/rangeset?forceAsync=true&maxResults=1',\n",
       " 'numInputGranules': 1,\n",
       " 'jobID': '5d26dbf5-c8b3-41dd-9d5f-9661570e8d63'}"
      ]
     },
     "execution_count": 76,
     "metadata": {},
     "output_type": "execute_result"
    }
   ],
   "source": [
    "harmony_client.result_json(job_id)"
   ]
  },
  {
   "cell_type": "code",
   "execution_count": 77,
   "id": "arbitrary-return",
   "metadata": {},
   "outputs": [
    {
     "data": {
      "application/json": {
       "created_at": "2021-04-01T02:57:05.060000",
       "message": "CMR query identified 176 granules, but the request has been limited to process only the first 1 granules because you requested 1 maxResults.",
       "num_input_granules": 1,
       "progress": 100,
       "request": "https://harmony.uat.earthdata.nasa.gov/C1234088182-EEDTEST/ogc-api-coverages/1.0.0/collections/all/coverage/rangeset?forceAsync=true&maxResults=1",
       "status": "successful",
       "updated_at": "2021-04-01T02:57:35.977000"
      },
      "text/plain": [
       "<IPython.core.display.JSON object>"
      ]
     },
     "execution_count": 77,
     "metadata": {
      "application/json": {
       "expanded": false,
       "root": "root"
      }
     },
     "output_type": "execute_result"
    }
   ],
   "source": [
    "JSON(harmony_client.status(job_id))"
   ]
  },
  {
   "cell_type": "code",
   "execution_count": null,
   "id": "blind-asset",
   "metadata": {},
   "outputs": [],
   "source": []
  }
 ],
 "metadata": {
  "kernelspec": {
   "display_name": "Python 3",
   "language": "python",
   "name": "python3"
  },
  "language_info": {
   "codemirror_mode": {
    "name": "ipython",
    "version": 3
   },
   "file_extension": ".py",
   "mimetype": "text/x-python",
   "name": "python",
   "nbconvert_exporter": "python",
   "pygments_lexer": "ipython3",
   "version": "3.7.5"
  }
 },
 "nbformat": 4,
 "nbformat_minor": 5
}

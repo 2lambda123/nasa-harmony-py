{
 "cells": [
  {
   "cell_type": "markdown",
   "id": "configured-leather",
   "metadata": {},
   "source": [
    "## Harmony Py Introduction\n",
    "\n",
    "This notebook demonstrates several basic examples highlighting how to query and access customized data outputs from NASA Earthdata Harmony."
   ]
  },
  {
   "cell_type": "markdown",
   "id": "domestic-novel",
   "metadata": {},
   "source": [
    "### Import packages\n",
    "\n",
    "First we import packages needed to request and visualize our data, as well as the `harmony-py` library itself. Make sure to install `harmony-py` first using PyPI...\n"
   ]
  },
  {
   "cell_type": "code",
   "execution_count": 1,
   "id": "outdoor-heaven",
   "metadata": {},
   "outputs": [],
   "source": [
    "import sys; sys.path.append('..')\n",
    "import datetime as dt\n",
    "from IPython.display import display, JSON\n",
    "import rasterio\n",
    "import rasterio.plot\n",
    "\n",
    "from harmony import BBox, Client, Collection, Request"
   ]
  },
  {
   "cell_type": "markdown",
   "id": "conceptual-workshop",
   "metadata": {},
   "source": [
    "### Quick start guide\n",
    "\n",
    "You can request data using `harmony-py` in just a few easy lines:\n",
    "\n",
    "```\n",
    "harmony_client = Client(auth=('EDL_username', 'EDL_password'))\n",
    "request = Request(\n",
    "    collection=Collection(id=dataset_short_name),\n",
    "    spatial=BBox(w, s, e, n),\n",
    "    temporal={\n",
    "        'start': dt.datetime(yyyy, mm, dd),\n",
    "        'stop': dt.datetime(yyyy, mm, dd)\n",
    "    }\n",
    ")\n",
    "job_id = harmony_client.submit(request)\n",
    "results = harmony_client.download_all(job_id, directory='/tmp', overwrite=True)\n",
    "```"
   ]
  },
  {
   "cell_type": "markdown",
   "id": "deluxe-vertex",
   "metadata": {},
   "source": [
    "The guidance below offers more detailed examples highlighting all of the features supported within the Harmony Py library."
   ]
  },
  {
   "cell_type": "markdown",
   "id": "excellent-birmingham",
   "metadata": {},
   "source": [
    "### Create Harmony Client object\n",
    "\n",
    "* Background on what an object is and why we need it.\n",
    "* Various options to authenticate"
   ]
  },
  {
   "cell_type": "code",
   "execution_count": 2,
   "id": "hispanic-examination",
   "metadata": {},
   "outputs": [],
   "source": [
    "harmony_client = Client()"
   ]
  },
  {
   "cell_type": "markdown",
   "id": "quiet-poker",
   "metadata": {},
   "source": [
    "### Create Harmony Request\n",
    "\n",
    "* Describe all available params offered (more details below)\n",
    "    * Details on Collection (short name or cmr ID)\n",
    "    * BBox class\n",
    "    * Etc..."
   ]
  },
  {
   "cell_type": "code",
   "execution_count": 9,
   "id": "laughing-mustang",
   "metadata": {},
   "outputs": [],
   "source": [
    "request = Request(\n",
    "    collection=Collection(id='C1234088182-EEDTEST'),\n",
    "#    collection=Collection(id='SENTINEL-1_INTERFEROGRAMS'),\n",
    "    spatial=BBox(-165, 52, -140, 77),\n",
    "    temporal={\n",
    "        'start': dt.datetime(2010, 1, 1),\n",
    "        'stop': dt.datetime(2020, 12, 30)\n",
    "    },\n",
    "    variables=['blue_var'],\n",
    "    max_results=1,\n",
    ")"
   ]
  },
  {
   "cell_type": "markdown",
   "id": "everyday-picnic",
   "metadata": {},
   "source": [
    "### Check Request validity"
   ]
  },
  {
   "cell_type": "code",
   "execution_count": null,
   "id": "apart-pierce",
   "metadata": {},
   "outputs": [],
   "source": []
  },
  {
   "cell_type": "markdown",
   "id": "grateful-pipeline",
   "metadata": {},
   "source": [
    "### Check Request status\n",
    "\n",
    "* Let's see how it's going. This will show the percentage complete in the progress field. (We use the JSON helper function to show the results in a nicer-to-look-at format).\n",
    "\n",
    "* We can check on the progress of a processing job with 'status()'.\n",
    "* This method blocks while communicating with the server but returns quickly."
   ]
  },
  {
   "cell_type": "code",
   "execution_count": 10,
   "id": "requested-nothing",
   "metadata": {},
   "outputs": [
    {
     "data": {
      "application/json": {
       "created_at": "2021-03-29T22:56:20.319000",
       "message": "CMR query identified 32 granules, but the request has been limited to process only the first 1 granules because you requested 1 maxResults.",
       "num_input_granules": 1,
       "progress": 100,
       "request": "https://harmony.uat.earthdata.nasa.gov/C1234088182-EEDTEST/ogc-api-coverages/1.0.0/collections/blue_var/coverage/rangeset?forceAsync=true&subset=lat(52%3A77)&subset=lon(-165%3A-140)&subset=time(%222010-01-01T00%3A00%3A00%22%3A%222020-12-30T00%3A00%3A00%22)&maxResults=1",
       "status": "successful",
       "updated_at": "2021-03-29T22:56:42.876000"
      },
      "text/plain": [
       "<IPython.core.display.JSON object>"
      ]
     },
     "execution_count": 10,
     "metadata": {
      "application/json": {
       "expanded": false,
       "root": "root"
      }
     },
     "output_type": "execute_result"
    }
   ],
   "source": [
    "JSON(harmony_client.status(job_id))"
   ]
  },
  {
   "cell_type": "markdown",
   "id": "acoustic-immunology",
   "metadata": {},
   "source": [
    "* 'wait_for_processing()'\n",
    "* Optionally shows progress bar.\n",
    "* Blocking."
   ]
  },
  {
   "cell_type": "code",
   "execution_count": 11,
   "id": "domestic-angle",
   "metadata": {},
   "outputs": [
    {
     "name": "stderr",
     "output_type": "stream",
     "text": [
      " [ Processing: 100% ] |###################################################| [|]\n"
     ]
    }
   ],
   "source": [
    "harmony_client.wait_for_processing(job_id, show_progress=True)"
   ]
  },
  {
   "cell_type": "markdown",
   "id": "reduced-democrat",
   "metadata": {},
   "source": [
    "### View Harmony job response and output URLs\n",
    "\n",
    "* 'result_json()' calls 'wait_for_processing()' and returns the complete job json once processing is complete.\n",
    "* Optionally shows progress bar.\n",
    "* Blocking."
   ]
  },
  {
   "cell_type": "code",
   "execution_count": 13,
   "id": "conceptual-uzbekistan",
   "metadata": {},
   "outputs": [
    {
     "data": {
      "text/plain": [
       "{'username': 'amy.steiker',\n",
       " 'status': 'successful',\n",
       " 'message': 'CMR query identified 32 granules, but the request has been limited to process only the first 1 granules because you requested 1 maxResults.',\n",
       " 'progress': 100,\n",
       " 'createdAt': '2021-03-29T22:56:20.319Z',\n",
       " 'updatedAt': '2021-03-29T22:56:42.876Z',\n",
       " 'links': [{'title': 'Job Status',\n",
       "   'href': 'https://harmony.uat.earthdata.nasa.gov/jobs/6a204a29-3837-43fa-aaf2-d8aa848821d5',\n",
       "   'rel': 'self',\n",
       "   'type': 'application/json'},\n",
       "  {'title': 'STAC catalog',\n",
       "   'href': 'https://harmony.uat.earthdata.nasa.gov/stac/6a204a29-3837-43fa-aaf2-d8aa848821d5/',\n",
       "   'rel': 'stac-catalog-json',\n",
       "   'type': 'application/json'},\n",
       "  {'href': 'https://harmony.uat.earthdata.nasa.gov/service-results/harmony-uat-staging/public/harmony/gdal/067fd524-c90d-4707-a525-53ff388665d7/2020_01_01_7f00ff_global_blue_var_subsetted.nc.tif',\n",
       "   'title': '2020_01_01_7f00ff_global_blue_var_subsetted.nc.tif',\n",
       "   'type': 'image/tiff',\n",
       "   'rel': 'data',\n",
       "   'bbox': [-179.95, -89.95, 179.95, 89.95],\n",
       "   'temporal': {'start': '2020-01-01T00:00:00.000Z',\n",
       "    'end': '2020-01-01T23:59:59.000Z'}}],\n",
       " 'request': 'https://harmony.uat.earthdata.nasa.gov/C1234088182-EEDTEST/ogc-api-coverages/1.0.0/collections/blue_var/coverage/rangeset?forceAsync=true&subset=lat(52%3A77)&subset=lon(-165%3A-140)&subset=time(%222010-01-01T00%3A00%3A00%22%3A%222020-12-30T00%3A00%3A00%22)&maxResults=1',\n",
       " 'numInputGranules': 1,\n",
       " 'jobID': '6a204a29-3837-43fa-aaf2-d8aa848821d5'}"
      ]
     },
     "execution_count": 13,
     "metadata": {},
     "output_type": "execute_result"
    }
   ],
   "source": [
    "data = harmony_client.result_json(job_id)\n",
    "data"
   ]
  },
  {
   "cell_type": "markdown",
   "id": "competent-indianapolis",
   "metadata": {},
   "source": [
    "### Retrieve Harmony output files\n",
    "\n",
    "* Describe how data are returned as HTTPS URLs, and optionally provided as a STAC catalog with S3 URLs\n",
    "\n",
    "#### First, HTTPS URL inspection and retrieval:"
   ]
  },
  {
   "cell_type": "markdown",
   "id": "experienced-eugene",
   "metadata": {},
   "source": [
    "* 'result_urls()' calls 'wait_for_processing()' and returns the job's data urls once processing is complete.\n",
    "* Optionally shows progress bar.\n",
    "* Blocking.\n"
   ]
  },
  {
   "cell_type": "code",
   "execution_count": 14,
   "id": "civilian-oklahoma",
   "metadata": {},
   "outputs": [
    {
     "data": {
      "text/plain": [
       "['https://harmony.uat.earthdata.nasa.gov/service-results/harmony-uat-staging/public/harmony/gdal/067fd524-c90d-4707-a525-53ff388665d7/2020_01_01_7f00ff_global_blue_var_subsetted.nc.tif']"
      ]
     },
     "execution_count": 14,
     "metadata": {},
     "output_type": "execute_result"
    }
   ],
   "source": [
    "urls = harmony_client.result_urls(job_id)\n",
    "urls"
   ]
  },
  {
   "cell_type": "markdown",
   "id": "spare-transport",
   "metadata": {},
   "source": [
    "* 'download_all()' downloads all data urls and returns immediately with a list of concurrent.futures.\n",
    "* Optionally shows progress bar for processing only.\n",
    "* Non-blocking during download but blocking while waitinig for job processing to finish.\n",
    "* Call 'result()' on future objects to realize them. A call to 'result()' blocks until that particular future finishes downloading. Other futures will download in the background, in parallel, up to the number of workers assigned to the thread pool (thread pool not publicly available).\n",
    "* Downloading on any unfinished futures can be cancelled early.\n",
    "* When downloading is complete the futures will return the file path string of the file that was just downloaded. This file path can then be fed into other libraries that may read the data files and perform other operations."
   ]
  },
  {
   "cell_type": "code",
   "execution_count": 16,
   "id": "coordinated-florist",
   "metadata": {},
   "outputs": [
    {
     "data": {
      "text/plain": [
       "['2020_01_01_7f00ff_global_blue_var_subsetted.nc.tif']"
      ]
     },
     "execution_count": 16,
     "metadata": {},
     "output_type": "execute_result"
    }
   ],
   "source": [
    "futures = harmony_client.download_all(job_id)\n",
    "file_names = [f.result() for f in futures]\n",
    "file_names"
   ]
  },
  {
   "cell_type": "markdown",
   "id": "destroyed-motion",
   "metadata": {},
   "source": [
    "* 'download()' will download only the url specified, in case a person would like more control over individual files.\n",
    "* Returns a future containing the file path string of the file downloaded.\n",
    "* Blocking upon calling result()"
   ]
  },
  {
   "cell_type": "code",
   "execution_count": 17,
   "id": "hungry-redhead",
   "metadata": {},
   "outputs": [
    {
     "data": {
      "text/plain": [
       "'2020_01_01_7f00ff_global_blue_var_subsetted.nc.tif'"
      ]
     },
     "execution_count": 17,
     "metadata": {},
     "output_type": "execute_result"
    }
   ],
   "source": [
    "file_name = (harmony_client.download(urls[0], overwrite=True)).result()\n",
    "file_name"
   ]
  },
  {
   "cell_type": "markdown",
   "id": "judicial-integral",
   "metadata": {},
   "source": [
    "#### Now, STAC inspection and s3 retrieval:"
   ]
  },
  {
   "cell_type": "code",
   "execution_count": null,
   "id": "violent-forest",
   "metadata": {},
   "outputs": [],
   "source": []
  },
  {
   "cell_type": "code",
   "execution_count": null,
   "id": "characteristic-depression",
   "metadata": {},
   "outputs": [],
   "source": []
  },
  {
   "cell_type": "code",
   "execution_count": null,
   "id": "middle-trunk",
   "metadata": {},
   "outputs": [],
   "source": []
  },
  {
   "cell_type": "code",
   "execution_count": null,
   "id": "combined-dominant",
   "metadata": {},
   "outputs": [],
   "source": []
  },
  {
   "cell_type": "markdown",
   "id": "massive-greece",
   "metadata": {},
   "source": [
    "#### test examples"
   ]
  },
  {
   "cell_type": "code",
   "execution_count": 8,
   "id": "still-syndrome",
   "metadata": {},
   "outputs": [
    {
     "data": {
      "image/png": "[encoded data removed]",
      "text/plain": [
       "<Figure size 432x288 with 1 Axes>"
      ]
     },
     "metadata": {
      "needs_background": "light"
     },
     "output_type": "display_data"
    }
   ],
   "source": [
    "harmony_client = Client()\n",
    "request = Request(\n",
    "    collection=Collection(id='C1234088182-EEDTEST'),\n",
    "#    collection=Collection(id='SENTINEL-1_INTERFEROGRAMS'),\n",
    "    spatial=BBox(-165, 52, -140, 77),\n",
    "    temporal={\n",
    "        'start': dt.datetime(2010, 1, 1),\n",
    "        'stop': dt.datetime(2020, 12, 30)\n",
    "    },\n",
    "    variables=['blue_var'],\n",
    "    max_results=1,\n",
    ")\n",
    "job_id = harmony_client.submit(request)\n",
    "results = harmony_client.download_all(job_id, directory='/tmp', overwrite=True)\n",
    "for r in results:\n",
    "    rasterio.plot.show(rasterio.open(r.result()))"
   ]
  },
  {
   "cell_type": "code",
   "execution_count": null,
   "id": "lesser-sword",
   "metadata": {},
   "outputs": [],
   "source": []
  }
 ],
 "metadata": {
  "kernelspec": {
   "display_name": "Python 3",
   "language": "python",
   "name": "python3"
  },
  "language_info": {
   "codemirror_mode": {
    "name": "ipython",
    "version": 3
   },
   "file_extension": ".py",
   "mimetype": "text/x-python",
   "name": "python",
   "nbconvert_exporter": "python",
   "pygments_lexer": "ipython3",
   "version": "3.7.5"
  }
 },
 "nbformat": 4,
 "nbformat_minor": 5
}

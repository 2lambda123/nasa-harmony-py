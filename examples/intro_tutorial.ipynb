{
 "cells": [
  {
   "cell_type": "markdown",
   "id": "assisted-playlist",
   "metadata": {},
   "source": [
    "## HarmonyPy Introduction\n",
    "\n",
    "This notebook demonstrates several basic examples highlighting how to query and access customized data outputs from NASA Earthdata Harmony. See https://harmony-py.readthedocs.io/ for detailed documentation on HarmonyPy."
   ]
  },
  {
   "cell_type": "markdown",
   "id": "exceptional-series",
   "metadata": {},
   "source": [
    "### Import packages\n",
    "\n",
    "First we import packages needed to request and visualize our data, as well as the `harmony-py` library itself. Make sure to install `harmony-py` its dependencies into your current Python environment prior to executing the notebook:\n",
    "\n",
    "```  \n",
    "$ pip install -U harmony-py \n",
    "\n",
    "```\n"
   ]
  },
  {
   "cell_type": "code",
   "execution_count": null,
   "id": "initial-hacker",
   "metadata": {},
   "outputs": [],
   "source": [
    "import sys; sys.path.append('..')\n",
    "import datetime as dt\n",
    "from IPython.display import display, JSON\n",
    "import rasterio\n",
    "import rasterio.plot\n",
    "\n",
    "from harmony import BBox, Client, Collection, Request"
   ]
  },
  {
   "cell_type": "markdown",
   "id": "hearing-photograph",
   "metadata": {},
   "source": [
    "### Quick start\n",
    "\n",
    "You can request data using `harmony-py` in just a few easy lines. Although more advanced subsetting and transformation options may be supported on your data product of interest, this example below demonstrates a basic spatial bounding box and temporal range request: \n",
    "\n",
    "```\n",
    "harmony_client = Client(auth=('EDL_username', 'EDL_password'))\n",
    "request = Request(\n",
    "    collection=Collection(id=dataset_short_name),\n",
    "    spatial=BBox(w, s, e, n),\n",
    "    temporal={\n",
    "        'start': dt.datetime(yyyy, mm, dd),\n",
    "        'stop': dt.datetime(yyyy, mm, dd)\n",
    "    }\n",
    ")\n",
    "job_id = harmony_client.submit(request)\n",
    "results = harmony_client.download_all(job_id, directory='/tmp', overwrite=True)\n",
    "```"
   ]
  },
  {
   "cell_type": "markdown",
   "id": "reserved-suffering",
   "metadata": {},
   "source": [
    "The guidance below offers more detailed examples highlighting many of the helpful features provided by the Harmony Py library."
   ]
  },
  {
   "cell_type": "markdown",
   "id": "gorgeous-opera",
   "metadata": {},
   "source": [
    "### Create Harmony Client object\n",
    "\n",
    "First, you will need to instantiate your Harmony Client, which is what you will interact with to submit and inspect a data request to Harmony, as well as to retrieve your results. \n",
    "\n",
    "When creating the Client, you need to provide your [Earthdata Login](https://urs.earthdata.nasa.gov) credentials, which are required to access data from NASA EOSDIS. There are three options for providing your Earthdata Login username and password: \n",
    "\n",
    "1. Provide your username and password directly when creating the client:\n",
    "```\n",
    "harmony_client = Client(auth=('captainmarvel', 'marve10u5'))\n",
    "```\n",
    "\n",
    "2. Set your credentials using environment variables\n",
    "\n",
    "```\n",
    "$ export EDL_USERNAME='captainmarvel'\n",
    "$ export EDL_PASSWORD='marve10u5'\n",
    "```\n",
    "\n",
    "3. Use a .netrc file:\n",
    "\n",
    "Create a .netrc file in your home directory, using the example below\n",
    "\n",
    "```\n",
    "machine urs.earthdata.nasa.gov\n",
    "login captainmarvel\n",
    "password marve10u5\n",
    "```"
   ]
  },
  {
   "cell_type": "code",
   "execution_count": null,
   "id": "prescription-outside",
   "metadata": {},
   "outputs": [],
   "source": [
    "# env: harmony.config.Environment\n",
    "# class harmony.harmony.Client(*, auth: Optional[Tuple[str, str]] = None, should_validate_auth: bool = True, env: harmony.config.Environment = <Environment.UAT: 3>)¶\n",
    "# harmony_client = Client(env=Config.Environment.PROD) # assumes .netrc usage\n",
    "harmony_client = Client() # assumes .netrc usage\n"
   ]
  },
  {
   "cell_type": "markdown",
   "id": "disciplinary-worker",
   "metadata": {},
   "source": [
    "### Create Harmony Request\n",
    "\n",
    "\n",
    "Key parameters:\n",
    "\n",
    "* collection: The CMR collection that should be queried\n",
    "    * Short name or CMR collection ID\n",
    "* spatial: Bounding box spatial constraints on the data\n",
    "* temporal: Date/time constraints on the data\n",
    "\n",
    "Other parameters that may be of interest (note that reformatting or advanced projection options may not be available for your requested dataset) \n",
    "\n",
    "* crs: reproject the output coverage to the given CRS. Recognizes CRS types that can be\n",
    "inferred by gdal, including EPSG codes, Proj4 strings, and OGC URLs (http://www.opengis.net/def/crs/…)\n",
    "* interpolation: specify the interpolation method used during reprojection and scaling\n",
    "* scale_extent: scale the resulting coverage either among one axis to a given extent\n",
    "* scale_size: scale the resulting coverage either among one axis to a given size\n",
    "* granule_id: The CMR Granule ID for the granule which should be retrieved\n",
    "* width: number of columns to return in the output coverage\n",
    "* height: number of rows to return in the output coverage\n",
    "* format: the output mime type to return\n",
    "* max_results: limits the number of input granules processed in the request"
   ]
  },
  {
   "cell_type": "code",
   "execution_count": null,
   "id": "actual-dairy",
   "metadata": {},
   "outputs": [],
   "source": [
    "request = Request(\n",
    "#    collection=Collection(id='C1234088182-EEDTEST'),\n",
    "    collection=Collection(id='harmony_example'),\n",
    "#    collection=Collection(id='SENTINEL-1_INTERFEROGRAMS'),\n",
    "    spatial=BBox(-165, 52, -140, 77),\n",
    "    temporal={\n",
    "        'start': dt.datetime(2010, 1, 1),\n",
    "        'stop': dt.datetime(2020, 12, 30)\n",
    "    },\n",
    "    variables=['blue_var'],\n",
    "    max_results=1,\n",
    ")"
   ]
  },
  {
   "cell_type": "markdown",
   "id": "cubic-breathing",
   "metadata": {},
   "source": [
    "### Check Request validity"
   ]
  },
  {
   "cell_type": "code",
   "execution_count": null,
   "id": "insured-peoples",
   "metadata": {},
   "outputs": [],
   "source": [
    "print(f\"Request valid? {request.is_valid()}\")\n",
    "for m in request.error_messages():\n",
    "    print(\" * \" + m)"
   ]
  },
  {
   "cell_type": "markdown",
   "id": "persistent-sphere",
   "metadata": {},
   "source": [
    "### Submit Request"
   ]
  },
  {
   "cell_type": "code",
   "execution_count": null,
   "id": "nutritional-mercy",
   "metadata": {},
   "outputs": [],
   "source": [
    "job_id = harmony_client.submit(request)\n",
    "job_id"
   ]
  },
  {
   "cell_type": "markdown",
   "id": "floating-carroll",
   "metadata": {},
   "source": [
    "### Check Request status\n",
    "\n",
    "* Let's see how it's going. This will show the percentage complete in the progress field. (We use the JSON helper function to show the results in a nicer-to-look-at format).\n",
    "\n",
    "* We can check on the progress of a processing job with 'status()'.\n",
    "* This method blocks while communicating with the server but returns quickly."
   ]
  },
  {
   "cell_type": "code",
   "execution_count": null,
   "id": "united-discussion",
   "metadata": {},
   "outputs": [],
   "source": [
    "JSON(harmony_client.status(job_id))"
   ]
  },
  {
   "cell_type": "markdown",
   "id": "fleet-marker",
   "metadata": {},
   "source": [
    "* 'wait_for_processing()'\n",
    "* Optionally shows progress bar.\n",
    "* Blocking."
   ]
  },
  {
   "cell_type": "code",
   "execution_count": null,
   "id": "technological-berkeley",
   "metadata": {},
   "outputs": [],
   "source": [
    "harmony_client.wait_for_processing(job_id, show_progress=True)"
   ]
  },
  {
   "cell_type": "markdown",
   "id": "employed-columbia",
   "metadata": {},
   "source": [
    "### View Harmony job response and output URLs\n",
    "\n",
    "* 'result_json()' calls 'wait_for_processing()' and returns the complete job json once processing is complete.\n",
    "* Optionally shows progress bar.\n",
    "* Blocking."
   ]
  },
  {
   "cell_type": "code",
   "execution_count": null,
   "id": "rocky-discussion",
   "metadata": {},
   "outputs": [],
   "source": [
    "data = harmony_client.result_json(job_id)\n",
    "JSON(data)"
   ]
  },
  {
   "cell_type": "markdown",
   "id": "psychological-palestine",
   "metadata": {},
   "source": [
    "### Retrieve Harmony output files\n",
    "\n",
    "* Describe how data are returned as HTTPS URLs, and optionally provided as a STAC catalog with S3 URLs\n",
    "\n",
    "#### First, HTTPS URL inspection and retrieval:"
   ]
  },
  {
   "cell_type": "markdown",
   "id": "fifteen-positive",
   "metadata": {},
   "source": [
    "* 'result_urls()' calls 'wait_for_processing()' and returns the job's data urls once processing is complete.\n",
    "* Optionally shows progress bar.\n",
    "* Blocking.\n"
   ]
  },
  {
   "cell_type": "code",
   "execution_count": null,
   "id": "vocational-basketball",
   "metadata": {},
   "outputs": [],
   "source": [
    "urls = harmony_client.result_urls(job_id, show_progress=True)\n",
    "urls"
   ]
  },
  {
   "cell_type": "markdown",
   "id": "deadly-crowd",
   "metadata": {},
   "source": [
    "* 'download_all()' downloads all data urls and returns immediately with a list of concurrent.futures.\n",
    "* Optionally shows progress bar for processing only.\n",
    "* Non-blocking during download but blocking while waitinig for job processing to finish.\n",
    "* Call 'result()' on future objects to realize them. A call to 'result()' blocks until that particular future finishes downloading. Other futures will download in the background, in parallel, up to the number of workers assigned to the thread pool (thread pool not publicly available).\n",
    "* Downloading on any unfinished futures can be cancelled early.\n",
    "* When downloading is complete the futures will return the file path string of the file that was just downloaded. This file path can then be fed into other libraries that may read the data files and perform other operations."
   ]
  },
  {
   "cell_type": "code",
   "execution_count": null,
   "id": "incident-latex",
   "metadata": {},
   "outputs": [],
   "source": [
    "futures = harmony_client.download_all(job_id)\n",
    "file_names = [f.result() for f in futures]\n",
    "file_names"
   ]
  },
  {
   "cell_type": "markdown",
   "id": "executed-argument",
   "metadata": {},
   "source": [
    "* 'download()' will download only the url specified, in case a person would like more control over individual files.\n",
    "* Returns a future containing the file path string of the file downloaded.\n",
    "* Blocking upon calling result()"
   ]
  },
  {
   "cell_type": "code",
   "execution_count": null,
   "id": "signed-paintball",
   "metadata": {},
   "outputs": [],
   "source": [
    "file_name = (harmony_client.download(urls[0], overwrite=True)).result()\n",
    "file_name"
   ]
  },
  {
   "cell_type": "markdown",
   "id": "threatened-laser",
   "metadata": {},
   "source": [
    "#### Now, STAC inspection and s3 retrieval:\n",
    "\n",
    "As a user in the cloud, I want to access those data seamlessly using the AWS credentials provided from the Harmony job response\n",
    "\n",
    "Coming soon: As a user, I want the Harmony library to provide me with the appropriate output URL depending on whether I'm working within or outside of AWS us-west-2"
   ]
  },
  {
   "cell_type": "code",
   "execution_count": null,
   "id": "subject-hazard",
   "metadata": {},
   "outputs": [],
   "source": [
    "stac_catalog_url = harmony_client.stac_catalog_url(job_id, show_progress=True)\n",
    "stac_catalog_url"
   ]
  },
  {
   "cell_type": "markdown",
   "id": "saving-piece",
   "metadata": {},
   "source": [
    "Following the directions for PySTAC (https://pystac.readthedocs.io/en/latest/quickstart.html), we can hook our harmony-py client into STAC_IO."
   ]
  },
  {
   "cell_type": "code",
   "execution_count": null,
   "id": "sweet-composite",
   "metadata": {},
   "outputs": [],
   "source": [
    "from urllib.parse import urlparse\n",
    "import requests\n",
    "from pystac import STAC_IO\n",
    "\n",
    "def requests_read_method(uri):\n",
    "    parsed = urlparse(uri)\n",
    "    if parsed.hostname.startswith('harmony.'):\n",
    "        return harmony_client.read_text(uri)\n",
    "    else:\n",
    "        return STAC_IO.default_read_text_method(uri)\n",
    "\n",
    "STAC_IO.read_text_method = requests_read_method"
   ]
  },
  {
   "cell_type": "code",
   "execution_count": null,
   "id": "olive-separation",
   "metadata": {},
   "outputs": [],
   "source": [
    "from pystac import Catalog\n",
    "\n",
    "cat = Catalog.from_file(stac_catalog_url)\n",
    "\n",
    "print(cat.title)\n",
    "for item in cat.get_all_items():\n",
    "    print(item.datetime, [asset.href for asset in item.assets.values()])"
   ]
  },
  {
   "cell_type": "markdown",
   "id": "rural-shame",
   "metadata": {},
   "source": [
    "#### Alternatively, we can use intake-stac:"
   ]
  },
  {
   "cell_type": "code",
   "execution_count": null,
   "id": "informal-jacksonville",
   "metadata": {
    "tags": []
   },
   "outputs": [],
   "source": [
    "!{sys.executable} -m pip install intake-stac # if you don't already have intake-stac\n",
    "import intake"
   ]
  },
  {
   "cell_type": "code",
   "execution_count": null,
   "id": "amended-waters",
   "metadata": {},
   "outputs": [],
   "source": [
    "# stac_cat = intake.open_stac_catalog(stac_root.format(jobID=job,item=''),name='Harmony output')\n",
    "cat = intake.open_stac_catalog(stac_catalog_url)\n",
    "display(list(cat))"
   ]
  },
  {
   "cell_type": "code",
   "execution_count": null,
   "id": "labeled-delta",
   "metadata": {},
   "outputs": [],
   "source": [
    "entries = []\n",
    "for id, entry in cat.search('type').items():\n",
    "    display(entry)\n",
    "    entries.append(entry)"
   ]
  },
  {
   "cell_type": "code",
   "execution_count": null,
   "id": "christian-dynamics",
   "metadata": {
    "tags": []
   },
   "outputs": [],
   "source": [
    "da = cat[list(cat)[0]][entries[0].describe()['name']].to_dask()\n",
    "da"
   ]
  },
  {
   "cell_type": "markdown",
   "id": "interim-covering",
   "metadata": {},
   "source": [
    "#### AWS credential retrieval"
   ]
  },
  {
   "cell_type": "code",
   "execution_count": null,
   "id": "proper-polyester",
   "metadata": {},
   "outputs": [],
   "source": [
    "creds = harmony_client.aws_credentials()\n",
    "creds"
   ]
  },
  {
   "cell_type": "code",
   "execution_count": null,
   "id": "random-background",
   "metadata": {},
   "outputs": [],
   "source": [
    "#\n",
    "# NOTE: Execution of this cell will only succeed within the AWS us-west-2 region. \n",
    "#\n",
    "\n",
    "import boto3\n",
    "\n",
    "s3 = boto3.client('s3', **creds)\n",
    "uri = 's3://harmony-uat-staging/public/harmony/netcdf-to-zarr/817a3e99-d53c-4169-b9f1-82cc947793be/2020_01_01_7f00ff_global.zarr'\n",
    "bucket_name = uri.split('/')[2]\n",
    "object_name = '/'.join(uri.split('/')[3:])\n",
    "file_name = uri.split('/')[-1]\n",
    "\n",
    "with open(file_name, 'wb') as f:\n",
    "    # should return a 403 Forbidden if run outside of us-west-2\n",
    "    s3.download_fileobj(bucket_name, object_name, f)\n",
    "\n"
   ]
  },
  {
   "cell_type": "code",
   "execution_count": null,
   "id": "indirect-anthony",
   "metadata": {},
   "outputs": [],
   "source": []
  },
  {
   "cell_type": "code",
   "execution_count": null,
   "id": "emerging-fence",
   "metadata": {},
   "outputs": [],
   "source": []
  },
  {
   "cell_type": "code",
   "execution_count": null,
   "id": "dying-yeast",
   "metadata": {},
   "outputs": [],
   "source": []
  },
  {
   "cell_type": "markdown",
   "id": "initial-emperor",
   "metadata": {},
   "source": [
    "#### test examples"
   ]
  },
  {
   "cell_type": "code",
   "execution_count": null,
   "id": "crude-appendix",
   "metadata": {},
   "outputs": [],
   "source": [
    "harmony_client = Client()\n",
    "request = Request(\n",
    "    collection=Collection(id='C1234088182-EEDTEST'),\n",
    "#    collection=Collection(id='SENTINEL-1_INTERFEROGRAMS'),\n",
    "    spatial=BBox(-165, 52, -140, 77),\n",
    "    temporal={\n",
    "        'start': dt.datetime(2010, 1, 1),\n",
    "        'stop': dt.datetime(2020, 12, 30)\n",
    "    },\n",
    "    variables=['blue_var'],\n",
    "    max_results=1,\n",
    ")\n",
    "job_id = harmony_client.submit(request)\n",
    "results = harmony_client.download_all(job_id, directory='/tmp', overwrite=True)\n",
    "for r in results:\n",
    "    rasterio.plot.show(rasterio.open(r.result()))"
   ]
  },
  {
   "cell_type": "code",
   "execution_count": null,
   "id": "dominant-mailing",
   "metadata": {},
   "outputs": [],
   "source": []
  }
 ],
 "metadata": {
  "kernelspec": {
   "display_name": "Python 3",
   "language": "python",
   "name": "python3"
  },
  "language_info": {
   "codemirror_mode": {
    "name": "ipython",
    "version": 3
   },
   "file_extension": ".py",
   "mimetype": "text/x-python",
   "name": "python",
   "nbconvert_exporter": "python",
   "pygments_lexer": "ipython3",
   "version": "3.7.5"
  }
 },
 "nbformat": 4,
 "nbformat_minor": 5
}

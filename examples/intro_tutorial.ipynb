{
 "cells": [
  {
   "cell_type": "markdown",
   "id": "floral-dispatch",
   "metadata": {},
   "source": [
    "## HarmonyPy Introduction\n",
    "\n",
    "This notebook demonstrates several basic examples highlighting how to query and access customized data outputs from NASA Earthdata Harmony. See https://harmony-py.readthedocs.io/ for detailed documentation on HarmonyPy."
   ]
  },
  {
   "cell_type": "markdown",
   "id": "flexible-wheel",
   "metadata": {},
   "source": [
    "### Import packages\n",
    "\n",
    "First we import packages needed to request and visualize our data, as well as the `harmony-py` library itself. Make sure to install `harmony-py` and its dependencies into your current Python environment prior to executing the notebook:\n",
    "\n",
    "```  \n",
    "$ pip install -U harmony-py \n",
    "\n",
    "```\n"
   ]
  },
  {
   "cell_type": "code",
   "execution_count": 1,
   "id": "polyphonic-meeting",
   "metadata": {},
   "outputs": [],
   "source": [
    "import sys; sys.path.append('..')\n",
    "import datetime as dt\n",
    "from IPython.display import display, JSON\n",
    "import rasterio\n",
    "import rasterio.plot\n",
    "\n",
    "from harmony import BBox, Client, Collection, Request\n",
    "from harmony.config import Environment"
   ]
  },
  {
   "cell_type": "markdown",
   "id": "advised-simpson",
   "metadata": {},
   "source": [
    "### Quick start\n",
    "\n",
    "You can request data using `harmony-py` in just a few easy lines. Although more advanced subsetting and transformation options may be supported on your data product of interest, this example below demonstrates a basic spatial bounding box and temporal range request: \n",
    "\n",
    "```\n",
    "harmony_client = Client(auth=('EDL_username', 'EDL_password'))\n",
    "request = Request(\n",
    "    collection=Collection(id=dataset_short_name),\n",
    "    spatial=BBox(w, s, e, n),\n",
    "    temporal={\n",
    "        'start': dt.datetime(yyyy, mm, dd),\n",
    "        'stop': dt.datetime(yyyy, mm, dd)\n",
    "    }\n",
    ")\n",
    "job_id = harmony_client.submit(request)\n",
    "results = harmony_client.download_all(job_id, directory='/tmp', overwrite=True)\n",
    "```"
   ]
  },
  {
   "cell_type": "markdown",
   "id": "certified-blank",
   "metadata": {},
   "source": [
    "The guidance below offers more detailed examples highlighting many of the helpful features provided by the Harmony Py library."
   ]
  },
  {
   "cell_type": "markdown",
   "id": "sacred-rider",
   "metadata": {},
   "source": [
    "### Create Harmony Client object\n",
    "\n",
    "First, you will need to create your Harmony Client, which is what you will interact with to submit and inspect a data request to Harmony, as well as to retrieve your results. \n",
    "\n",
    "When creating the Client, you need to provide your [Earthdata Login](https://urs.earthdata.nasa.gov) credentials, which are required to access data from NASA EOSDIS. There are three options for providing your Earthdata Login username and password: \n",
    "\n",
    "1. Provide your username and password directly when creating the client:\n",
    "\n",
    "```\n",
    "harmony_client = Client(auth=('captainmarvel', 'marve10u5'))\n",
    "```\n",
    "\n",
    "2. Set your credentials using environment variables:\n",
    "\n",
    "```\n",
    "$ export EDL_USERNAME='captainmarvel'\n",
    "$ export EDL_PASSWORD='marve10u5'\n",
    "```\n",
    "\n",
    "3. Use a .netrc file:\n",
    "\n",
    "Create a .netrc file in your home directory, using the example below:\n",
    "\n",
    "```\n",
    "machine urs.earthdata.nasa.gov\n",
    "login captainmarvel\n",
    "password marve10u5\n",
    "```"
   ]
  },
  {
   "cell_type": "code",
   "execution_count": 6,
   "id": "smaller-pencil",
   "metadata": {},
   "outputs": [],
   "source": [
    "if __name__ == \"__main__\":\n",
    "    harmony_client = Client(env=Environment.PROD) #set Production environment\n",
    "\n",
    "#harmony_client = Client() # assumes .netrc usage, option 3 above"
   ]
  },
  {
   "cell_type": "markdown",
   "id": "engaged-furniture",
   "metadata": {},
   "source": [
    "### Create Harmony Request\n",
    "\n",
    "The following are common request parameters:\n",
    "\n",
    "* `collection`: Required parameter. This is the NASA EOSDIS collection, or data product. There are two options for inputting a collection of interest:\n",
    "    1. Provide a concept ID, which is an ID provided in the Common Metadata Repository (CMR) metadata\n",
    "    2. Data product short name (e.g. SENTINEL-1_INTERFEROGRAMS). \n",
    "* `spatial`: Bounding box spatial constraints on the data. The Harmony `Bbox` class accepts spatial coordinates as decimal degrees in w, s, e, n order, where longitude = -180, 180 and latitude = -90, 90.   \n",
    "* `temporal`: Date/time constraints on the data. The example below demonstrates temporal start and end ranges using the python `datetime` library.\n",
    "\n",
    "Other advanced parameters that may be of interest. Note that many reformatting or advanced projection options may not be available for your requested dataset. See the [documentation](https://harmony-py.readthedocs.io/) for details on how to construct these parameters.\n",
    "\n",
    "* `crs`: Reproject the output coverage to the given CRS. Recognizes CRS types that can be inferred by gdal, including EPSG codes, Proj4 strings, and OGC URLs (http://www.opengis.net/def/crs/…)\n",
    "* `interpolation`: specify the interpolation method used during reprojection and scaling\n",
    "* `scale_extent`: scale the resulting coverage either among one axis to a given extent\n",
    "* `scale_size`: scale the resulting coverage either among one axis to a given size\n",
    "* `granule_id`: The CMR Granule ID for the granule which should be retrieved\n",
    "* `width`: number of columns to return in the output coverage\n",
    "* `height`: number of rows to return in the output coverage\n",
    "* `format`: the output mime type to return\n",
    "* `max_results`: limits the number of input granules processed in the request"
   ]
  },
  {
   "cell_type": "markdown",
   "id": "minimal-banana",
   "metadata": {},
   "source": [
    "The example utilized in this tutorial demonstrates a bounding box subset over Catalina Island off the coast of Los Angeles, California. The SENTINEL-1_INTERFEROGRAMS dataset, distributed by the ASF DAAC, is a prototype Level 2 NISAR-Format product. See https://asf.alaska.edu/data-sets/derived-data-sets/sentinel-1-interferograms/ for more information. "
   ]
  },
  {
   "cell_type": "code",
   "execution_count": 56,
   "id": "injured-mirror",
   "metadata": {},
   "outputs": [],
   "source": [
    "# #Catalina island \n",
    "\n",
    "# request = Request(\n",
    "#     collection=Collection(id='SENTINEL-1_INTERFEROGRAMS'),\n",
    "#     spatial=BBox(-118.70634, 33.24977, -118.24152, 33.60239),\n",
    "#     temporal={\n",
    "#         'start': dt.datetime(2020, 3, 12, 13, 52, 30),\n",
    "#         'stop': dt.datetime(2020, 3, 12, 13, 52, 58),\n",
    "#     },\n",
    "#     variables=['science/grids/data/coherence'],\n",
    "#     format='image/tiff'\n",
    "# )\n",
    "\n",
    "\n",
    "request = Request(\n",
    "    collection=Collection(id='SENTINEL-1_INTERFEROGRAMS'),\n",
    "    spatial=BBox(-155.75, 19.26, -155.3, 19.94),\n",
    "    temporal={\n",
    "        'start': dt.datetime(2020, 2, 24),\n",
    "        'stop': dt.datetime(2020, 2, 25),\n",
    "    },\n",
    "    variables=['science/grids/data/unwrappedPhase'],\n",
    "    format='image/tiff',\n",
    "    max_results=2,\n",
    ")"
   ]
  },
  {
   "cell_type": "markdown",
   "id": "manual-queensland",
   "metadata": {},
   "source": [
    "### Check Request validity\n",
    "\n",
    "Before submitting a Harmony Request, you can test your request to see if it's valid and how to fix it if not. In particular, `request.is_valid` will check to ensure that your spatial BBox bounds and temporal ranges are entered correctly.  "
   ]
  },
  {
   "cell_type": "code",
   "execution_count": 57,
   "id": "polished-cincinnati",
   "metadata": {},
   "outputs": [
    {
     "name": "stdout",
     "output_type": "stream",
     "text": [
      "Request valid? True\n"
     ]
    }
   ],
   "source": [
    "print(f\"Request valid? {request.is_valid()}\")\n",
    "for m in request.error_messages():\n",
    "    print(\" * \" + m)"
   ]
  },
  {
   "cell_type": "markdown",
   "id": "moved-california",
   "metadata": {},
   "source": [
    "### Submit Request\n",
    "\n",
    "Once you have created your request, you can now submit it to Harmony using the Harmony Client object. A job id is returned, which is a unique identifier that represents your submitted request. "
   ]
  },
  {
   "cell_type": "code",
   "execution_count": 58,
   "id": "level-press",
   "metadata": {},
   "outputs": [
    {
     "data": {
      "text/plain": [
       "'e155c257-cfeb-4435-b1f6-71ff4a4207a4'"
      ]
     },
     "execution_count": 58,
     "metadata": {},
     "output_type": "execute_result"
    }
   ],
   "source": [
    "job_id = harmony_client.submit(request)\n",
    "job_id"
   ]
  },
  {
   "cell_type": "markdown",
   "id": "celtic-ballet",
   "metadata": {},
   "source": [
    "### Check Request status\n",
    "\n",
    "You can check on the progress of a processing job with `status()`. This method blocks while communicating with the server but returns quickly. The JSON helper function provides a nicer formatting option for viewing the status message. "
   ]
  },
  {
   "cell_type": "code",
   "execution_count": 59,
   "id": "surgical-thanks",
   "metadata": {},
   "outputs": [
    {
     "data": {
      "application/json": {
       "created_at": "2021-04-01T20:02:12.313000",
       "message": "CMR query identified 4 granules, but the request has been limited to process only the first 2 granules because you requested 2 maxResults.",
       "num_input_granules": 2,
       "progress": 0,
       "request": "https://harmony.earthdata.nasa.gov/SENTINEL-1_INTERFEROGRAMS/ogc-api-coverages/1.0.0/collections/science%2Fgrids%2Fdata%2FunwrappedPhase/coverage/rangeset?forceAsync=true&subset=lat(19.26%3A19.94)&subset=lon(-155.75%3A-155.3)&subset=time(%222020-02-24T00%3A00%3A00%22%3A%222020-02-25T00%3A00%3A00%22)&format=image%2Ftiff&maxResults=2",
       "status": "running",
       "updated_at": "2021-04-01T20:02:12.313000"
      },
      "text/plain": [
       "<IPython.core.display.JSON object>"
      ]
     },
     "execution_count": 59,
     "metadata": {
      "application/json": {
       "expanded": false,
       "root": "root"
      }
     },
     "output_type": "execute_result"
    }
   ],
   "source": [
    "JSON(harmony_client.status(job_id))"
   ]
  },
  {
   "cell_type": "markdown",
   "id": "associate-action",
   "metadata": {},
   "source": [
    "Depending on the size of the request, you may want to wait until the request has completed processing before the remainder of your code is executed. The `wait_for_processing()` method will block subsequent lines of code while optinally showing a progress bar."
   ]
  },
  {
   "cell_type": "code",
   "execution_count": 60,
   "id": "running-trunk",
   "metadata": {},
   "outputs": [
    {
     "name": "stderr",
     "output_type": "stream",
     "text": [
      " [ Processing: 100% ] |###################################################| [|]\n"
     ]
    }
   ],
   "source": [
    "harmony_client.wait_for_processing(job_id, show_progress=True)"
   ]
  },
  {
   "cell_type": "markdown",
   "id": "amended-biotechnology",
   "metadata": {},
   "source": [
    "### View Harmony job response and output URLs\n",
    "\n",
    "* 'result_json()' calls 'wait_for_processing()' and returns the complete job json once processing is complete.\n",
    "* Optionally shows progress bar.\n",
    "* Blocking."
   ]
  },
  {
   "cell_type": "code",
   "execution_count": 61,
   "id": "upper-symbol",
   "metadata": {},
   "outputs": [
    {
     "data": {
      "application/json": {
       "createdAt": "2021-04-01T20:02:12.313Z",
       "jobID": "e155c257-cfeb-4435-b1f6-71ff4a4207a4",
       "links": [
        {
         "href": "https://harmony.earthdata.nasa.gov/jobs/e155c257-cfeb-4435-b1f6-71ff4a4207a4",
         "rel": "self",
         "title": "Job Status",
         "type": "application/json"
        },
        {
         "href": "https://harmony.earthdata.nasa.gov/stac/e155c257-cfeb-4435-b1f6-71ff4a4207a4/",
         "rel": "stac-catalog-json",
         "title": "STAC catalog",
         "type": "application/json"
        },
        {
         "bbox": [
          -155.7504167,
          19.2604167,
          -155.3004167,
          19.9404167
         ],
         "href": "https://harmony.earthdata.nasa.gov/service-results/harmony-prod-staging/public/asfdataservices/gdal-subsetter/67c5288a-3deb-44c0-a0a4-5d8f9a878a0a/S1-GUNW-D-R-087-tops-20200224_20200206-161546-20645N_18638N-PP-8677-v2_0_2_science_grids_data_unwrappedPhase_subsetted.tif",
         "rel": "data",
         "temporal": {
          "end": "2020-02-24T16:16:00.324Z",
          "start": "2020-02-24T16:15:33.386Z"
         },
         "title": "S1-GUNW-D-R-087-tops-20200224_20200206-161546-20645N_18638N-PP-8677-v2_0_2_science_grids_data_unwrappedPhase_subsetted.tif",
         "type": "image/tiff"
        },
        {
         "bbox": [
          -155.7504167,
          19.2604167,
          -155.3004167,
          19.9404167
         ],
         "href": "https://harmony.earthdata.nasa.gov/service-results/harmony-prod-staging/public/asfdataservices/gdal-subsetter/67c5288a-3deb-44c0-a0a4-5d8f9a878a0a/S1-GUNW-D-R-087-tops-20200224_20200212-161546-20645N_18638N-PP-2c6e-v2_0_2_science_grids_data_unwrappedPhase_subsetted.tif",
         "rel": "data",
         "temporal": {
          "end": "2020-02-24T16:16:00.324Z",
          "start": "2020-02-24T16:15:33.386Z"
         },
         "title": "S1-GUNW-D-R-087-tops-20200224_20200212-161546-20645N_18638N-PP-2c6e-v2_0_2_science_grids_data_unwrappedPhase_subsetted.tif",
         "type": "image/tiff"
        }
       ],
       "message": "CMR query identified 4 granules, but the request has been limited to process only the first 2 granules because you requested 2 maxResults.",
       "numInputGranules": 2,
       "progress": 100,
       "request": "https://harmony.earthdata.nasa.gov/SENTINEL-1_INTERFEROGRAMS/ogc-api-coverages/1.0.0/collections/science%2Fgrids%2Fdata%2FunwrappedPhase/coverage/rangeset?forceAsync=true&subset=lat(19.26%3A19.94)&subset=lon(-155.75%3A-155.3)&subset=time(%222020-02-24T00%3A00%3A00%22%3A%222020-02-25T00%3A00%3A00%22)&format=image%2Ftiff&maxResults=2",
       "status": "successful",
       "updatedAt": "2021-04-01T20:02:39.954Z",
       "username": "amy.steiker"
      },
      "text/plain": [
       "<IPython.core.display.JSON object>"
      ]
     },
     "execution_count": 61,
     "metadata": {
      "application/json": {
       "expanded": false,
       "root": "root"
      }
     },
     "output_type": "execute_result"
    }
   ],
   "source": [
    "data = harmony_client.result_json(job_id)\n",
    "JSON(data)"
   ]
  },
  {
   "cell_type": "markdown",
   "id": "cathedral-jewel",
   "metadata": {},
   "source": [
    "### Retrieve Harmony output files\n",
    "\n",
    "* Describe how data are returned as HTTPS URLs, and optionally provided as a STAC catalog with S3 URLs\n",
    "\n",
    "#### First, HTTPS URL inspection and retrieval:"
   ]
  },
  {
   "cell_type": "markdown",
   "id": "comprehensive-bachelor",
   "metadata": {},
   "source": [
    "* 'result_urls()' calls 'wait_for_processing()' and returns the job's data urls once processing is complete.\n",
    "* Optionally shows progress bar.\n",
    "* Blocking.\n"
   ]
  },
  {
   "cell_type": "code",
   "execution_count": 62,
   "id": "abandoned-elder",
   "metadata": {},
   "outputs": [
    {
     "name": "stderr",
     "output_type": "stream",
     "text": [
      " [ Processing: 100% ] |###################################################| [|]\n"
     ]
    },
    {
     "data": {
      "text/plain": [
       "['https://harmony.earthdata.nasa.gov/service-results/harmony-prod-staging/public/asfdataservices/gdal-subsetter/67c5288a-3deb-44c0-a0a4-5d8f9a878a0a/S1-GUNW-D-R-087-tops-20200224_20200206-161546-20645N_18638N-PP-8677-v2_0_2_science_grids_data_unwrappedPhase_subsetted.tif',\n",
       " 'https://harmony.earthdata.nasa.gov/service-results/harmony-prod-staging/public/asfdataservices/gdal-subsetter/67c5288a-3deb-44c0-a0a4-5d8f9a878a0a/S1-GUNW-D-R-087-tops-20200224_20200212-161546-20645N_18638N-PP-2c6e-v2_0_2_science_grids_data_unwrappedPhase_subsetted.tif']"
      ]
     },
     "execution_count": 62,
     "metadata": {},
     "output_type": "execute_result"
    }
   ],
   "source": [
    "urls = harmony_client.result_urls(job_id, show_progress=True)\n",
    "urls"
   ]
  },
  {
   "cell_type": "markdown",
   "id": "developed-porcelain",
   "metadata": {},
   "source": [
    "* 'download_all()' downloads all data urls and returns immediately with a list of concurrent.futures.\n",
    "* Optionally shows progress bar for processing only.\n",
    "* Non-blocking during download but blocking while waitinig for job processing to finish.\n",
    "* Call 'result()' on future objects to realize them. A call to 'result()' blocks until that particular future finishes downloading. Other futures will download in the background, in parallel, up to the number of workers assigned to the thread pool (thread pool not publicly available).\n",
    "* Downloading on any unfinished futures can be cancelled early.\n",
    "* When downloading is complete the futures will return the file path string of the file that was just downloaded. This file path can then be fed into other libraries that may read the data files and perform other operations."
   ]
  },
  {
   "cell_type": "code",
   "execution_count": 74,
   "id": "massive-fighter",
   "metadata": {},
   "outputs": [
    {
     "data": {
      "text/plain": [
       "['/tmp/S1-GUNW-D-R-087-tops-20200224_20200206-161546-20645N_18638N-PP-8677-v2_0_2_science_grids_data_unwrappedPhase_subsetted.tif',\n",
       " '/tmp/S1-GUNW-D-R-087-tops-20200224_20200212-161546-20645N_18638N-PP-2c6e-v2_0_2_science_grids_data_unwrappedPhase_subsetted.tif']"
      ]
     },
     "execution_count": 74,
     "metadata": {},
     "output_type": "execute_result"
    }
   ],
   "source": [
    "results = harmony_client.download_all(job_id, directory='/tmp', overwrite=True)\n",
    "file_names = [f.result() for f in results]\n",
    "file_names"
   ]
  },
  {
   "cell_type": "markdown",
   "id": "interstate-banana",
   "metadata": {},
   "source": [
    "* 'download()' will download only the url specified, in case a person would like more control over individual files.\n",
    "* Returns a future containing the file path string of the file downloaded.\n",
    "* Blocking upon calling result()"
   ]
  },
  {
   "cell_type": "code",
   "execution_count": 75,
   "id": "organic-victor",
   "metadata": {},
   "outputs": [
    {
     "data": {
      "text/plain": [
       "'S1-GUNW-D-R-087-tops-20200224_20200206-161546-20645N_18638N-PP-8677-v2_0_2_science_grids_data_unwrappedPhase_subsetted.tif'"
      ]
     },
     "execution_count": 75,
     "metadata": {},
     "output_type": "execute_result"
    }
   ],
   "source": [
    "file_name = (harmony_client.download(urls[0], overwrite=True)).result()\n",
    "file_name"
   ]
  },
  {
   "cell_type": "markdown",
   "id": "optical-addiction",
   "metadata": {},
   "source": [
    "### Visualize Downloaded Outputs"
   ]
  },
  {
   "cell_type": "code",
   "execution_count": 76,
   "id": "spanish-updating",
   "metadata": {},
   "outputs": [
    {
     "data": {
      "image/png": "[encoded data removed]",
      "text/plain": [
       "<Figure size 432x288 with 1 Axes>"
      ]
     },
     "metadata": {
      "needs_background": "light"
     },
     "output_type": "display_data"
    },
    {
     "data": {
      "image/png": "[encoded data removed]",
      "text/plain": [
       "<Figure size 432x288 with 1 Axes>"
      ]
     },
     "metadata": {
      "needs_background": "light"
     },
     "output_type": "display_data"
    }
   ],
   "source": [
    "for r in results:\n",
    "    rasterio.plot.show(rasterio.open(r.result()))"
   ]
  },
  {
   "cell_type": "markdown",
   "id": "representative-foster",
   "metadata": {},
   "source": [
    "#### Now, STAC inspection and s3 retrieval:\n",
    "\n",
    "As a user in the cloud, I want to access those data seamlessly using the AWS credentials provided from the Harmony job response\n",
    "\n",
    "Coming soon: As a user, I want the Harmony library to provide me with the appropriate output URL depending on whether I'm working within or outside of AWS us-west-2"
   ]
  },
  {
   "cell_type": "code",
   "execution_count": 65,
   "id": "advanced-advocacy",
   "metadata": {},
   "outputs": [
    {
     "name": "stderr",
     "output_type": "stream",
     "text": [
      " [ Processing: 100% ] |###################################################| [|]\n"
     ]
    },
    {
     "data": {
      "text/plain": [
       "'https://harmony.earthdata.nasa.gov/stac/e155c257-cfeb-4435-b1f6-71ff4a4207a4/'"
      ]
     },
     "execution_count": 65,
     "metadata": {},
     "output_type": "execute_result"
    }
   ],
   "source": [
    "stac_catalog_url = harmony_client.stac_catalog_url(job_id, show_progress=True)\n",
    "stac_catalog_url"
   ]
  },
  {
   "cell_type": "markdown",
   "id": "express-adrian",
   "metadata": {},
   "source": [
    "Following the directions for PySTAC (https://pystac.readthedocs.io/en/latest/quickstart.html), we can hook our harmony-py client into STAC_IO."
   ]
  },
  {
   "cell_type": "code",
   "execution_count": 66,
   "id": "gross-edgar",
   "metadata": {},
   "outputs": [],
   "source": [
    "from urllib.parse import urlparse\n",
    "import requests\n",
    "from pystac import STAC_IO\n",
    "\n",
    "def requests_read_method(uri):\n",
    "    parsed = urlparse(uri)\n",
    "    if parsed.hostname.startswith('harmony.'):\n",
    "        return harmony_client.read_text(uri)\n",
    "    else:\n",
    "        return STAC_IO.default_read_text_method(uri)\n",
    "\n",
    "STAC_IO.read_text_method = requests_read_method"
   ]
  },
  {
   "cell_type": "code",
   "execution_count": 67,
   "id": "coordinated-alloy",
   "metadata": {},
   "outputs": [
    {
     "name": "stdout",
     "output_type": "stream",
     "text": [
      "Harmony output for e155c257-cfeb-4435-b1f6-71ff4a4207a4\n",
      "2020-02-24 16:15:33.386000+00:00 ['s3://harmony-prod-staging/public/asfdataservices/gdal-subsetter/67c5288a-3deb-44c0-a0a4-5d8f9a878a0a/S1-GUNW-D-R-087-tops-20200224_20200206-161546-20645N_18638N-PP-8677-v2_0_2_science_grids_data_unwrappedPhase_subsetted.tif']\n",
      "2020-02-24 16:15:33.386000+00:00 ['s3://harmony-prod-staging/public/asfdataservices/gdal-subsetter/67c5288a-3deb-44c0-a0a4-5d8f9a878a0a/S1-GUNW-D-R-087-tops-20200224_20200212-161546-20645N_18638N-PP-2c6e-v2_0_2_science_grids_data_unwrappedPhase_subsetted.tif']\n"
     ]
    }
   ],
   "source": [
    "from pystac import Catalog\n",
    "\n",
    "cat = Catalog.from_file(stac_catalog_url)\n",
    "\n",
    "print(cat.title)\n",
    "for item in cat.get_all_items():\n",
    "    print(item.datetime, [asset.href for asset in item.assets.values()])"
   ]
  },
  {
   "cell_type": "markdown",
   "id": "incorrect-retirement",
   "metadata": {},
   "source": [
    "#### Alternatively, we can use intake-stac:"
   ]
  },
  {
   "cell_type": "code",
   "execution_count": 68,
   "id": "incoming-anniversary",
   "metadata": {
    "collapsed": true,
    "jupyter": {
     "outputs_hidden": true
    },
    "tags": []
   },
   "outputs": [
    {
     "name": "stdout",
     "output_type": "stream",
     "text": [
      "Requirement already satisfied: intake-stac in /Users/asteiker/Desktop/Harmony/harmony-py/.venv/lib/python3.7/site-packages (0.3.0)\n",
      "Requirement already satisfied: intake>=0.5.1 in /Users/asteiker/Desktop/Harmony/harmony-py/.venv/lib/python3.7/site-packages (from intake-stac) (0.6.2)\n",
      "Requirement already satisfied: fsspec>=0.8.4 in /Users/asteiker/Desktop/Harmony/harmony-py/.venv/lib/python3.7/site-packages (from intake-stac) (0.8.7)\n",
      "Requirement already satisfied: sat-stac==0.4.* in /Users/asteiker/Desktop/Harmony/harmony-py/.venv/lib/python3.7/site-packages (from intake-stac) (0.4.1)\n",
      "Requirement already satisfied: intake-xarray>=0.4 in /Users/asteiker/Desktop/Harmony/harmony-py/.venv/lib/python3.7/site-packages (from intake-stac) (0.5.0)\n",
      "Requirement already satisfied: requests>=2.19.1 in /Users/asteiker/Desktop/Harmony/harmony-py/.venv/lib/python3.7/site-packages (from sat-stac==0.4.*->intake-stac) (2.25.1)\n",
      "Requirement already satisfied: python-dateutil~=2.7.5 in /Users/asteiker/Desktop/Harmony/harmony-py/.venv/lib/python3.7/site-packages (from sat-stac==0.4.*->intake-stac) (2.7.5)\n",
      "Requirement already satisfied: importlib-metadata in /Users/asteiker/Desktop/Harmony/harmony-py/.venv/lib/python3.7/site-packages (from fsspec>=0.8.4->intake-stac) (3.7.0)\n",
      "Requirement already satisfied: dask in /Users/asteiker/Desktop/Harmony/harmony-py/.venv/lib/python3.7/site-packages (from intake>=0.5.1->intake-stac) (2021.3.1)\n",
      "Requirement already satisfied: appdirs in /Users/asteiker/Desktop/Harmony/harmony-py/.venv/lib/python3.7/site-packages (from intake>=0.5.1->intake-stac) (1.4.4)\n",
      "Requirement already satisfied: pyyaml in /Users/asteiker/Desktop/Harmony/harmony-py/.venv/lib/python3.7/site-packages (from intake>=0.5.1->intake-stac) (5.4.1)\n",
      "Requirement already satisfied: entrypoints in /Users/asteiker/Desktop/Harmony/harmony-py/.venv/lib/python3.7/site-packages (from intake>=0.5.1->intake-stac) (0.3)\n",
      "Requirement already satisfied: jinja2 in /Users/asteiker/Desktop/Harmony/harmony-py/.venv/lib/python3.7/site-packages (from intake>=0.5.1->intake-stac) (2.11.3)\n",
      "Requirement already satisfied: msgpack in /Users/asteiker/Desktop/Harmony/harmony-py/.venv/lib/python3.7/site-packages (from intake-xarray>=0.4->intake-stac) (1.0.2)\n",
      "Requirement already satisfied: xarray>=0.17.0 in /Users/asteiker/Desktop/Harmony/harmony-py/.venv/lib/python3.7/site-packages (from intake-xarray>=0.4->intake-stac) (0.17.0)\n",
      "Requirement already satisfied: zarr in /Users/asteiker/Desktop/Harmony/harmony-py/.venv/lib/python3.7/site-packages (from intake-xarray>=0.4->intake-stac) (2.7.0)\n",
      "Requirement already satisfied: netcdf4 in /Users/asteiker/Desktop/Harmony/harmony-py/.venv/lib/python3.7/site-packages (from intake-xarray>=0.4->intake-stac) (1.5.6)\n",
      "Requirement already satisfied: toolz>=0.8.2 in /Users/asteiker/Desktop/Harmony/harmony-py/.venv/lib/python3.7/site-packages (from dask->intake>=0.5.1->intake-stac) (0.11.1)\n",
      "Requirement already satisfied: cloudpickle>=1.1.1 in /Users/asteiker/Desktop/Harmony/harmony-py/.venv/lib/python3.7/site-packages (from dask->intake>=0.5.1->intake-stac) (1.6.0)\n",
      "Requirement already satisfied: partd>=0.3.10 in /Users/asteiker/Desktop/Harmony/harmony-py/.venv/lib/python3.7/site-packages (from dask->intake>=0.5.1->intake-stac) (1.1.0)\n",
      "Requirement already satisfied: locket in /Users/asteiker/Desktop/Harmony/harmony-py/.venv/lib/python3.7/site-packages (from partd>=0.3.10->dask->intake>=0.5.1->intake-stac) (0.2.1)\n",
      "Requirement already satisfied: six>=1.5 in /Users/asteiker/Desktop/Harmony/harmony-py/.venv/lib/python3.7/site-packages (from python-dateutil~=2.7.5->sat-stac==0.4.*->intake-stac) (1.15.0)\n",
      "Requirement already satisfied: idna<3,>=2.5 in /Users/asteiker/Desktop/Harmony/harmony-py/.venv/lib/python3.7/site-packages (from requests>=2.19.1->sat-stac==0.4.*->intake-stac) (2.10)\n",
      "Requirement already satisfied: urllib3<1.27,>=1.21.1 in /Users/asteiker/Desktop/Harmony/harmony-py/.venv/lib/python3.7/site-packages (from requests>=2.19.1->sat-stac==0.4.*->intake-stac) (1.26.3)\n",
      "Requirement already satisfied: chardet<5,>=3.0.2 in /Users/asteiker/Desktop/Harmony/harmony-py/.venv/lib/python3.7/site-packages (from requests>=2.19.1->sat-stac==0.4.*->intake-stac) (4.0.0)\n",
      "Requirement already satisfied: certifi>=2017.4.17 in /Users/asteiker/Desktop/Harmony/harmony-py/.venv/lib/python3.7/site-packages (from requests>=2.19.1->sat-stac==0.4.*->intake-stac) (2020.12.5)\n",
      "Requirement already satisfied: setuptools>=40.4 in /Users/asteiker/Desktop/Harmony/harmony-py/.venv/lib/python3.7/site-packages (from xarray>=0.17.0->intake-xarray>=0.4->intake-stac) (44.1.1)\n",
      "Requirement already satisfied: pandas>=0.25 in /Users/asteiker/Desktop/Harmony/harmony-py/.venv/lib/python3.7/site-packages (from xarray>=0.17.0->intake-xarray>=0.4->intake-stac) (1.2.3)\n",
      "Requirement already satisfied: numpy>=1.15 in /Users/asteiker/Desktop/Harmony/harmony-py/.venv/lib/python3.7/site-packages (from xarray>=0.17.0->intake-xarray>=0.4->intake-stac) (1.20.1)\n",
      "Requirement already satisfied: pytz>=2017.3 in /Users/asteiker/Desktop/Harmony/harmony-py/.venv/lib/python3.7/site-packages (from pandas>=0.25->xarray>=0.17.0->intake-xarray>=0.4->intake-stac) (2021.1)\n",
      "Requirement already satisfied: zipp>=0.5 in /Users/asteiker/Desktop/Harmony/harmony-py/.venv/lib/python3.7/site-packages (from importlib-metadata->fsspec>=0.8.4->intake-stac) (3.4.0)\n",
      "Requirement already satisfied: typing-extensions>=3.6.4 in /Users/asteiker/Desktop/Harmony/harmony-py/.venv/lib/python3.7/site-packages (from importlib-metadata->fsspec>=0.8.4->intake-stac) (3.7.4.3)\n",
      "Requirement already satisfied: MarkupSafe>=0.23 in /Users/asteiker/Desktop/Harmony/harmony-py/.venv/lib/python3.7/site-packages (from jinja2->intake>=0.5.1->intake-stac) (1.1.1)\n",
      "Requirement already satisfied: cftime in /Users/asteiker/Desktop/Harmony/harmony-py/.venv/lib/python3.7/site-packages (from netcdf4->intake-xarray>=0.4->intake-stac) (1.4.1)\n",
      "Requirement already satisfied: numcodecs>=0.6.4 in /Users/asteiker/Desktop/Harmony/harmony-py/.venv/lib/python3.7/site-packages (from zarr->intake-xarray>=0.4->intake-stac) (0.7.3)\n",
      "Requirement already satisfied: asciitree in /Users/asteiker/Desktop/Harmony/harmony-py/.venv/lib/python3.7/site-packages (from zarr->intake-xarray>=0.4->intake-stac) (0.3.3)\n",
      "Requirement already satisfied: fasteners in /Users/asteiker/Desktop/Harmony/harmony-py/.venv/lib/python3.7/site-packages (from zarr->intake-xarray>=0.4->intake-stac) (0.16)\n"
     ]
    }
   ],
   "source": [
    "!{sys.executable} -m pip install intake-stac # if you don't already have intake-stac\n",
    "import intake"
   ]
  },
  {
   "cell_type": "code",
   "execution_count": 69,
   "id": "widespread-portfolio",
   "metadata": {},
   "outputs": [
    {
     "data": {
      "text/plain": [
       "['e155c257-cfeb-4435-b1f6-71ff4a4207a4_0',\n",
       " 'e155c257-cfeb-4435-b1f6-71ff4a4207a4_1']"
      ]
     },
     "metadata": {},
     "output_type": "display_data"
    }
   ],
   "source": [
    "# stac_cat = intake.open_stac_catalog(stac_root.format(jobID=job,item=''),name='Harmony output')\n",
    "cat = intake.open_stac_catalog(stac_catalog_url)\n",
    "display(list(cat))"
   ]
  },
  {
   "cell_type": "code",
   "execution_count": 70,
   "id": "wooden-highlight",
   "metadata": {},
   "outputs": [
    {
     "data": {
      "application/yaml": "? s3://harmony-prod-staging/public/asfdataservices/gdal-subsetter/67c5288a-3deb-44c0-a0a4-5d8f9a878a0a/S1-GUNW-D-R-087-tops-20200224_20200206-161546-20645N_18638N-PP-8677-v2_0_2_science_grids_data_unwrappedPhase_subsetted.tif\n: args:\n    chunks: {}\n    urlpath: s3://harmony-prod-staging/public/asfdataservices/gdal-subsetter/67c5288a-3deb-44c0-a0a4-5d8f9a878a0a/S1-GUNW-D-R-087-tops-20200224_20200206-161546-20645N_18638N-PP-8677-v2_0_2_science_grids_data_unwrappedPhase_subsetted.tif\n  description: S1-GUNW-D-R-087-tops-20200224_20200206-161546-20645N_18638N-PP-8677-v2_0_2_science_grids_data_unwrappedPhase_subsetted.tif\n  driver: intake_xarray.raster.RasterIOSource\n  metadata:\n    catalog_dir: ''\n    href: s3://harmony-prod-staging/public/asfdataservices/gdal-subsetter/67c5288a-3deb-44c0-a0a4-5d8f9a878a0a/S1-GUNW-D-R-087-tops-20200224_20200206-161546-20645N_18638N-PP-8677-v2_0_2_science_grids_data_unwrappedPhase_subsetted.tif\n    plots:\n      geotiff:\n        cmap: viridis\n        data_aspect: 1\n        dynamic: true\n        frame_width: 500\n        kind: image\n        rasterize: true\n        x: x\n        y: y\n    roles:\n    - overview\n    title: S1-GUNW-D-R-087-tops-20200224_20200206-161546-20645N_18638N-PP-8677-v2_0_2_science_grids_data_unwrappedPhase_subsetted.tif\n    type: image/tiff\n",
      "text/plain": [
       "? s3://harmony-prod-staging/public/asfdataservices/gdal-subsetter/67c5288a-3deb-44c0-a0a4-5d8f9a878a0a/S1-GUNW-D-R-087-tops-20200224_20200206-161546-20645N_18638N-PP-8677-v2_0_2_science_grids_data_unwrappedPhase_subsetted.tif\n",
       ": args:\n",
       "    chunks: {}\n",
       "    urlpath: s3://harmony-prod-staging/public/asfdataservices/gdal-subsetter/67c5288a-3deb-44c0-a0a4-5d8f9a878a0a/S1-GUNW-D-R-087-tops-20200224_20200206-161546-20645N_18638N-PP-8677-v2_0_2_science_grids_data_unwrappedPhase_subsetted.tif\n",
       "  description: S1-GUNW-D-R-087-tops-20200224_20200206-161546-20645N_18638N-PP-8677-v2_0_2_science_grids_data_unwrappedPhase_subsetted.tif\n",
       "  driver: intake_xarray.raster.RasterIOSource\n",
       "  metadata:\n",
       "    catalog_dir: ''\n",
       "    href: s3://harmony-prod-staging/public/asfdataservices/gdal-subsetter/67c5288a-3deb-44c0-a0a4-5d8f9a878a0a/S1-GUNW-D-R-087-tops-20200224_20200206-161546-20645N_18638N-PP-8677-v2_0_2_science_grids_data_unwrappedPhase_subsetted.tif\n",
       "    plots:\n",
       "      geotiff:\n",
       "        cmap: viridis\n",
       "        data_aspect: 1\n",
       "        dynamic: true\n",
       "        frame_width: 500\n",
       "        kind: image\n",
       "        rasterize: true\n",
       "        x: x\n",
       "        y: y\n",
       "    roles:\n",
       "    - overview\n",
       "    title: S1-GUNW-D-R-087-tops-20200224_20200206-161546-20645N_18638N-PP-8677-v2_0_2_science_grids_data_unwrappedPhase_subsetted.tif\n",
       "    type: image/tiff\n"
      ]
     },
     "metadata": {
      "application/json": {
       "root": "s3://harmony-prod-staging/public/asfdataservices/gdal-subsetter/67c5288a-3deb-44c0-a0a4-5d8f9a878a0a/S1-GUNW-D-R-087-tops-20200224_20200206-161546-20645N_18638N-PP-8677-v2_0_2_science_grids_data_unwrappedPhase_subsetted.tif"
      }
     },
     "output_type": "display_data"
    },
    {
     "data": {
      "application/yaml": "? s3://harmony-prod-staging/public/asfdataservices/gdal-subsetter/67c5288a-3deb-44c0-a0a4-5d8f9a878a0a/S1-GUNW-D-R-087-tops-20200224_20200212-161546-20645N_18638N-PP-2c6e-v2_0_2_science_grids_data_unwrappedPhase_subsetted.tif\n: args:\n    chunks: {}\n    urlpath: s3://harmony-prod-staging/public/asfdataservices/gdal-subsetter/67c5288a-3deb-44c0-a0a4-5d8f9a878a0a/S1-GUNW-D-R-087-tops-20200224_20200212-161546-20645N_18638N-PP-2c6e-v2_0_2_science_grids_data_unwrappedPhase_subsetted.tif\n  description: S1-GUNW-D-R-087-tops-20200224_20200212-161546-20645N_18638N-PP-2c6e-v2_0_2_science_grids_data_unwrappedPhase_subsetted.tif\n  driver: intake_xarray.raster.RasterIOSource\n  metadata:\n    catalog_dir: ''\n    href: s3://harmony-prod-staging/public/asfdataservices/gdal-subsetter/67c5288a-3deb-44c0-a0a4-5d8f9a878a0a/S1-GUNW-D-R-087-tops-20200224_20200212-161546-20645N_18638N-PP-2c6e-v2_0_2_science_grids_data_unwrappedPhase_subsetted.tif\n    plots:\n      geotiff:\n        cmap: viridis\n        data_aspect: 1\n        dynamic: true\n        frame_width: 500\n        kind: image\n        rasterize: true\n        x: x\n        y: y\n    roles:\n    - overview\n    title: S1-GUNW-D-R-087-tops-20200224_20200212-161546-20645N_18638N-PP-2c6e-v2_0_2_science_grids_data_unwrappedPhase_subsetted.tif\n    type: image/tiff\n",
      "text/plain": [
       "? s3://harmony-prod-staging/public/asfdataservices/gdal-subsetter/67c5288a-3deb-44c0-a0a4-5d8f9a878a0a/S1-GUNW-D-R-087-tops-20200224_20200212-161546-20645N_18638N-PP-2c6e-v2_0_2_science_grids_data_unwrappedPhase_subsetted.tif\n",
       ": args:\n",
       "    chunks: {}\n",
       "    urlpath: s3://harmony-prod-staging/public/asfdataservices/gdal-subsetter/67c5288a-3deb-44c0-a0a4-5d8f9a878a0a/S1-GUNW-D-R-087-tops-20200224_20200212-161546-20645N_18638N-PP-2c6e-v2_0_2_science_grids_data_unwrappedPhase_subsetted.tif\n",
       "  description: S1-GUNW-D-R-087-tops-20200224_20200212-161546-20645N_18638N-PP-2c6e-v2_0_2_science_grids_data_unwrappedPhase_subsetted.tif\n",
       "  driver: intake_xarray.raster.RasterIOSource\n",
       "  metadata:\n",
       "    catalog_dir: ''\n",
       "    href: s3://harmony-prod-staging/public/asfdataservices/gdal-subsetter/67c5288a-3deb-44c0-a0a4-5d8f9a878a0a/S1-GUNW-D-R-087-tops-20200224_20200212-161546-20645N_18638N-PP-2c6e-v2_0_2_science_grids_data_unwrappedPhase_subsetted.tif\n",
       "    plots:\n",
       "      geotiff:\n",
       "        cmap: viridis\n",
       "        data_aspect: 1\n",
       "        dynamic: true\n",
       "        frame_width: 500\n",
       "        kind: image\n",
       "        rasterize: true\n",
       "        x: x\n",
       "        y: y\n",
       "    roles:\n",
       "    - overview\n",
       "    title: S1-GUNW-D-R-087-tops-20200224_20200212-161546-20645N_18638N-PP-2c6e-v2_0_2_science_grids_data_unwrappedPhase_subsetted.tif\n",
       "    type: image/tiff\n"
      ]
     },
     "metadata": {
      "application/json": {
       "root": "s3://harmony-prod-staging/public/asfdataservices/gdal-subsetter/67c5288a-3deb-44c0-a0a4-5d8f9a878a0a/S1-GUNW-D-R-087-tops-20200224_20200212-161546-20645N_18638N-PP-2c6e-v2_0_2_science_grids_data_unwrappedPhase_subsetted.tif"
      }
     },
     "output_type": "display_data"
    }
   ],
   "source": [
    "entries = []\n",
    "for id, entry in cat.search('type').items():\n",
    "    display(entry)\n",
    "    entries.append(entry)"
   ]
  },
  {
   "cell_type": "code",
   "execution_count": 72,
   "id": "informational-marker",
   "metadata": {
    "tags": []
   },
   "outputs": [],
   "source": [
    "da = cat[list(cat)[0]][entries[0].describe()['name']].to_dask()\n",
    "da"
   ]
  },
  {
   "cell_type": "markdown",
   "id": "completed-distribution",
   "metadata": {},
   "source": [
    "#### AWS credential retrieval"
   ]
  },
  {
   "cell_type": "code",
   "execution_count": null,
   "id": "creative-singer",
   "metadata": {},
   "outputs": [],
   "source": [
    "creds = harmony_client.aws_credentials()\n",
    "creds"
   ]
  },
  {
   "cell_type": "code",
   "execution_count": null,
   "id": "bound-millennium",
   "metadata": {},
   "outputs": [],
   "source": [
    "#\n",
    "# NOTE: Execution of this cell will only succeed within the AWS us-west-2 region. \n",
    "#\n",
    "\n",
    "import boto3\n",
    "\n",
    "s3 = boto3.client('s3', **creds)\n",
    "uri = 's3://harmony-uat-staging/public/harmony/netcdf-to-zarr/817a3e99-d53c-4169-b9f1-82cc947793be/2020_01_01_7f00ff_global.zarr'\n",
    "bucket_name = uri.split('/')[2]\n",
    "object_name = '/'.join(uri.split('/')[3:])\n",
    "file_name = uri.split('/')[-1]\n",
    "\n",
    "with open(file_name, 'wb') as f:\n",
    "    # should return a 403 Forbidden if run outside of us-west-2\n",
    "    s3.download_fileobj(bucket_name, object_name, f)\n",
    "\n"
   ]
  },
  {
   "cell_type": "code",
   "execution_count": null,
   "id": "violent-native",
   "metadata": {},
   "outputs": [],
   "source": []
  },
  {
   "cell_type": "code",
   "execution_count": null,
   "id": "million-ratio",
   "metadata": {},
   "outputs": [],
   "source": []
  },
  {
   "cell_type": "markdown",
   "id": "sorted-croatia",
   "metadata": {},
   "source": [
    "#### test examples"
   ]
  },
  {
   "cell_type": "code",
   "execution_count": null,
   "id": "aggressive-latex",
   "metadata": {},
   "outputs": [],
   "source": [
    "harmony_client = Client()\n",
    "request = Request(\n",
    "    collection=Collection(id='C1234088182-EEDTEST'),\n",
    "#    collection=Collection(id='SENTINEL-1_INTERFEROGRAMS'),\n",
    "    spatial=BBox(-165, 52, -140, 77),\n",
    "    temporal={\n",
    "        'start': dt.datetime(2010, 1, 1),\n",
    "        'stop': dt.datetime(2020, 12, 30)\n",
    "    },\n",
    "    variables=['blue_var'],\n",
    "    max_results=1,\n",
    ")\n",
    "job_id = harmony_client.submit(request)\n",
    "print(job_id)\n",
    "results = harmony_client.download_all(job_id, directory='/tmp', overwrite=True)\n",
    "for r in results:\n",
    "    rasterio.plot.show(rasterio.open(r.result()))"
   ]
  },
  {
   "cell_type": "code",
   "execution_count": null,
   "id": "opening-nation",
   "metadata": {},
   "outputs": [],
   "source": [
    "harmony_client = Client()\n",
    "request = Request(\n",
    "    collection=Collection(id='C1234088182-EEDTEST'),\n",
    "    max_results=1,\n",
    ")\n"
   ]
  },
  {
   "cell_type": "code",
   "execution_count": null,
   "id": "sporting-essence",
   "metadata": {},
   "outputs": [],
   "source": [
    "job_id = harmony_client.submit(request)\n",
    "print(job_id)\n"
   ]
  },
  {
   "cell_type": "code",
   "execution_count": null,
   "id": "worst-nicaragua",
   "metadata": {},
   "outputs": [],
   "source": [
    "results = harmony_client.download_all(job_id, directory='/tmp', overwrite=True)\n",
    "for r in results:\n",
    "    rasterio.plot.show(rasterio.open(r.result()))"
   ]
  },
  {
   "cell_type": "code",
   "execution_count": null,
   "id": "twelve-retro",
   "metadata": {},
   "outputs": [],
   "source": [
    "harmony_client.result_json(job_id)"
   ]
  },
  {
   "cell_type": "code",
   "execution_count": null,
   "id": "analyzed-telescope",
   "metadata": {},
   "outputs": [],
   "source": [
    "JSON(harmony_client.status(job_id))"
   ]
  },
  {
   "cell_type": "code",
   "execution_count": null,
   "id": "hispanic-nudist",
   "metadata": {},
   "outputs": [],
   "source": []
  }
 ],
 "metadata": {
  "kernelspec": {
   "display_name": "Python 3",
   "language": "python",
   "name": "python3"
  },
  "language_info": {
   "codemirror_mode": {
    "name": "ipython",
    "version": 3
   },
   "file_extension": ".py",
   "mimetype": "text/x-python",
   "name": "python",
   "nbconvert_exporter": "python",
   "pygments_lexer": "ipython3",
   "version": "3.7.5"
  }
 },
 "nbformat": 4,
 "nbformat_minor": 5
}

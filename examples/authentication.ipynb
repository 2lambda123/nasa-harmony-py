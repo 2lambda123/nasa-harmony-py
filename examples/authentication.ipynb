{
 "metadata": {
  "language_info": {
   "codemirror_mode": {
    "name": "ipython",
    "version": 3
   },
   "file_extension": ".py",
   "mimetype": "text/x-python",
   "name": "python",
   "nbconvert_exporter": "python",
   "pygments_lexer": "ipython3",
   "version": "3.8.5-final"
  },
  "orig_nbformat": 2,
  "kernelspec": {
   "name": "python3",
   "display_name": "Python 3.8.5 64-bit",
   "metadata": {
    "interpreter": {
     "hash": "31862cc71836a94b0e0781803a3648767fc4cb197cc35bade0ddf231ddce7d7c"
    }
   }
  }
 },
 "nbformat": 4,
 "nbformat_minor": 2,
 "cells": [
  {
   "source": [
    "# Using Harmony-Py Authentication\n",
    "\n",
    "In `harmony-py` you instantiate a `Client` in order to communicate with Harmony. To make it easy to store your validated credentials `harmony-py` provides an `authenticate()` function which returns a session object to be passed as an argument to `Client`.\n"
   ],
   "cell_type": "markdown",
   "metadata": {}
  },
  {
   "cell_type": "code",
   "execution_count": 1,
   "metadata": {},
   "outputs": [],
   "source": [
    "import sys\n",
    "sys.path.append('..')"
   ]
  },
  {
   "cell_type": "code",
   "execution_count": 3,
   "metadata": {},
   "outputs": [],
   "source": [
    "# note: to run, you may want to create a soft link to the library for now: `ln -s ../harmony_py/ harmony_py`\n",
    "# note: the keyword argument `verify` defaults to True, meaning it will verify the credentials are valid during session instantiation.\n",
    "\n",
    "from harmony.auth import authenticate\n",
    "\n",
    "# specify both username and password\n",
    "harmony_client = authenticate(auth=('myusername', 'mypassword'), validate=False)\n",
    "\n",
    "# or look for .netrc credentials\n",
    "harmony_client = authenticate(validate=False)\n"
   ]
  },
  {
   "cell_type": "code",
   "execution_count": null,
   "metadata": {},
   "outputs": [],
   "source": []
  }
 ]
}